{
 "cells": [
  {
   "cell_type": "code",
   "execution_count": 2,
   "id": "d60fa32c-ffd4-42d0-abcf-060cea5419d6",
   "metadata": {},
   "outputs": [],
   "source": [
    "import spacy\n",
    "import re\n",
    "from spacy.lang.en import English \n",
    "from spacy.tokens import Doc"
   ]
  },
  {
   "cell_type": "code",
   "execution_count": 28,
   "id": "feecf76e-ae31-4f7a-b55a-c253328a3c82",
   "metadata": {},
   "outputs": [
    {
     "name": "stdout",
     "output_type": "stream",
     "text": [
      "Found match: Uridine 5' - diphosphate\n"
     ]
    }
   ],
   "source": [
    "nlp = spacy.load(\"en_core_web_sm\")\n",
    "#doc = nlp(\"Uridine 5' - diphosphate ( UDP ) and uridINe 5' - dipHOSphaTe - glucose dehydrogenase ( UGD ) produces UDP - glucuronic acid from UDP - glucose as a precursor of plant cell wall polysaccharides.\")\n",
    "doc = nlp(\"Uridine 5' - diphosphate and other things.\")\n",
    "\n",
    "#expression = r\"[Uu](nited|\\\\.?) ?[Ss](tates|\\\\.?)\"\n",
    "expression = r\"[Uu]ridine 5'\\s*\\-\\s*diphosphate\"\n",
    "for match in re.finditer(expression, doc.text):\n",
    "    start, end = match.span()\n",
    "    span = doc.char_span(start, end)\n",
    "    # This is a Span object or None if match doesn't map to valid token sequence\n",
    "    if span is not None:\n",
    "        print(\"Found match:\", span.text)"
   ]
  },
  {
   "cell_type": "code",
   "execution_count": 29,
   "id": "a8ba1b98-5109-4cd0-be1d-4b96afb38340",
   "metadata": {},
   "outputs": [
    {
     "data": {
      "text/plain": [
       "(0, 24)"
      ]
     },
     "execution_count": 29,
     "metadata": {},
     "output_type": "execute_result"
    }
   ],
   "source": [
    "match.span()"
   ]
  },
  {
   "cell_type": "code",
   "execution_count": 30,
   "id": "3889469f-6677-429d-8013-ce0903b5aef3",
   "metadata": {},
   "outputs": [
    {
     "data": {
      "text/plain": [
       "Uridine 5' - diphosphate"
      ]
     },
     "execution_count": 30,
     "metadata": {},
     "output_type": "execute_result"
    }
   ],
   "source": [
    "span"
   ]
  },
  {
   "cell_type": "code",
   "execution_count": 33,
   "id": "1c9385d6-1e00-412a-b056-9abfc4134726",
   "metadata": {},
   "outputs": [
    {
     "data": {
      "text/plain": [
       "\"Uridine 5' - diphosphate\""
      ]
     },
     "execution_count": 33,
     "metadata": {},
     "output_type": "execute_result"
    }
   ],
   "source": [
    "span.text"
   ]
  },
  {
   "cell_type": "code",
   "execution_count": 35,
   "id": "a8bffc67-d8c5-48e5-83fb-d91a1f8377ab",
   "metadata": {},
   "outputs": [
    {
     "name": "stdout",
     "output_type": "stream",
     "text": [
      "Uridine\n",
      "5\n",
      "'\n",
      "-\n",
      "diphosphate\n"
     ]
    }
   ],
   "source": [
    "nlp = spacy.load(\"en_core_web_sm\")\n",
    "doc = nlp(\"Uridine 5' - diphosphate\")\n",
    "for token in doc:\n",
    "    print(token.text)"
   ]
  },
  {
   "cell_type": "code",
   "execution_count": 49,
   "id": "3cba157b-feb1-4f50-a0f6-54a89f5f8bdc",
   "metadata": {},
   "outputs": [
    {
     "name": "stdout",
     "output_type": "stream",
     "text": [
      "4\n",
      "-\n",
      "Amino\n",
      "-\n",
      "1\n",
      "-\n",
      "(\n",
      "2R,4S,5R\n",
      ")\n",
      "-\n",
      "4\n",
      "-\n",
      "hydroxy-5-\n",
      "(\n",
      "hydroxymethyl)tetrahydrofuran-2\n",
      "-\n",
      "ylpyrimidin-2(1H)-one\n"
     ]
    }
   ],
   "source": [
    "nlp = spacy.load(\"en_core_web_sm\")\n",
    "doc = nlp(\"4 - Amino - 1 - (2R,4S,5R) - 4 - hydroxy-5- (hydroxymethyl)tetrahydrofuran-2-ylpyrimidin-2(1H)-one\")\n",
    "for token in doc:\n",
    "    print(token.text)"
   ]
  },
  {
   "cell_type": "code",
   "execution_count": 5,
   "id": "2437a902-a006-4216-9667-cb0b2db5bec0",
   "metadata": {},
   "outputs": [
    {
     "name": "stdout",
     "output_type": "stream",
     "text": [
      "[('- dipHOsphate', 'Metabolites', '-diphosphate small', 60, 73), (\"Uridine 5' - - diphosphate\", 'Metabolites', \"Uridine 5'-diphosphate2\", 74, 100), (\"Uridine 5' - , . , diphosphate\", 'Metabolites', \"Uridine 5'-diphosphate2\", 101, 131), (\"uridINe 5' - dipHOSphaTe\", 'Metabolites', \"Uridine 5'-diphosphate2\", 145, 169)]\n"
     ]
    }
   ],
   "source": [
    "nlp = English()\n",
    "ruler = nlp.add_pipe(\"entity_ruler\") #can only work for non-token pattern\n",
    "\n",
    "metabolites_patterns = [\n",
    "  #{\"label\": \"test\", \"pattern\": \"United Kingdom\", \"id\": \"loc_test1\"},\n",
    "  #{\"label\": \"test\", \"pattern\": {\"FUZZY\": \"nited\"}, \"id\": \"loc_test1-2\"},\n",
    "  #{\"label\": \"test\", \"pattern\": {\"REGEX\": r\"ited\"}, \"id\": \"loc_test2\"},\n",
    "  #{\"label\": \"Metabolites\", \"pattern\": \"Uridine 5'-diphosphate\", \"id\": \"Uridine 5'-diphosphate_nospace_detection\"},\n",
    "  #{\"label\": \"Metabolites\", \"pattern\": \"Uridine 5' - diphosphate\", \"id\": \"Uridine 5'-diphosphate\"},\n",
    "  #{\"label\": \"Metabolites\", \"pattern\": {\"REGEX\": r\"uridine\"}, \"id\": \"Uridine 5'-diphosphate phrase\"},\n",
    "  #{\"label\": \"Metabolites\", \"pattern\": [{\"TEXT\": {\"REGEX\": \"uridine 5'\\s*-\\s*diphosphate\"}}], \"id\": \"Uridine 5'-diphosphate1\"},\n",
    "  #{\"label\": \"Metabolites\", \"pattern\": [{\"TEXT\": {\"REGEX\": r\"[Uu]ridine\"}}, {\"LOWER\": {\"REGEX\": r\"5\"}}, {\"LOWER\": {\"REGEX\": r\"\\'\"}}, {\"LOWER\": {\"REGEX\": r\"\\-\"}}, {\"LOWER\": {\"REGEX\": r\"diphosphate\"}}], \"id\": \"Uridine 5'-diphosphate1\"},\n",
    "  {\"label\": \"Metabolites\", \"pattern\": [{\"LOWER\": \"uridine\"}, {\"LOWER\": \"5\"}, {\"LOWER\": \"'\"}, {\"IS_PUNCT\": True, \"OP\": \"*\"}, {\"LOWER\": \"diphosphate\"}], \"id\": \"Uridine 5'-diphosphate2\"},\n",
    "  {\"label\": \"Metabolites\", \"pattern\": [{\"IS_PUNCT\": True, \"OP\": \"?\"}, {\"LOWER\": \"diphosphate\"}], \"id\": \"-diphosphate small\"},\n",
    "  {\"label\": \"Metabolites\", \"pattern\": \"just add) Uridine 5' - diphosphate\", \"id\": \"Uridine 5'-diphosphate\"},\n",
    "]\n",
    "ruler.add_patterns(metabolites_patterns)\n",
    "\n",
    "#build abstracts\n",
    "abstracts = [\n",
    "\t\t\t\"London is the United Kingdom capital of the United Kingdom.\",\n",
    "            \"- dipHOsphate Uridine 5' - - diphosphate Uridine 5' - , . , diphosphate  ( UDP ) and uridINe 5' - dipHOSphaTe - glucose dehydrogenase ( UGD ) produces UDP - glucuronic acid from UDP - glucose as a precursor of plant cell wall polysaccharides.\",\n",
    "          \t\"In the presence of inorganic phosphate, uridine 5'-diphosphate glucose (UDPG) is specifically hydrolyzed to glucose 1-phosphate and UDP by a unique enzyme, UDPG phosphorylase.\"\n",
    "         ]\n",
    "\n",
    "docs = list(nlp.pipe(abstracts))\n",
    "c_doc = Doc.from_docs(docs)\n",
    "doc = nlp(c_doc)\n",
    "\n",
    "#print NER result\n",
    "# print([(span.text, span.label_) for span in doc.spans[\"ruler\"]]) # for spans\n",
    "print([(ent.text, ent.label_, ent.ent_id_, ent.start_char, ent.end_char) for ent in doc.ents])"
   ]
  },
  {
   "cell_type": "code",
   "execution_count": null,
   "id": "e05536f3-5a22-47b4-a387-e34119203ac8",
   "metadata": {},
   "outputs": [],
   "source": []
  },
  {
   "cell_type": "code",
   "execution_count": 14,
   "id": "28e1e34d-01cf-4b6e-a583-5dcfa969dc66",
   "metadata": {},
   "outputs": [
    {
     "name": "stdout",
     "output_type": "stream",
     "text": [
      "[(\"Uridine 5' - diphosphate\", 'Metabolites', \"Uridine 5'-diphosphate2\", 60, 84), (\"uridINe 5' - dipHOSphaTe\", 'Metabolites', \"Uridine 5'-diphosphate2\", 97, 121)]\n"
     ]
    }
   ],
   "source": [
    "nlp = English()\n",
    "ruler = nlp.add_pipe(\"entity_ruler\", config={\"phrase_matcher_attr\": \"LOWER\"}) #can only work for non-token pattern\n",
    "\n",
    "metabolites_patterns = [\n",
    "  #{\"label\": \"test\", \"pattern\": \"United Kingdom\", \"id\": \"loc_test1\"},\n",
    "  #{\"label\": \"test\", \"pattern\": {\"FUZZY\": \"nited\"}, \"id\": \"loc_test1-2\"},\n",
    "  #{\"label\": \"test\", \"pattern\": {\"REGEX\": r\"ited\"}, \"id\": \"loc_test2\"},\n",
    "  #{\"label\": \"Metabolites\", \"pattern\": \"Uridine 5'-diphosphate\", \"id\": \"Uridine 5'-diphosphate_nospace_detection\"},\n",
    "  #{\"label\": \"Metabolites\", \"pattern\": \"Uridine 5' - diphosphate\", \"id\": \"Uridine 5'-diphosphate\"},\n",
    "  #{\"label\": \"Metabolites\", \"pattern\": {\"REGEX\": r\"uridine\"}, \"id\": \"Uridine 5'-diphosphate phrase\"},\n",
    "  #{\"label\": \"Metabolites\", \"pattern\": [{\"TEXT\": {\"REGEX\": \"uridine 5'\\s*-\\s*diphosphate\"}}], \"id\": \"Uridine 5'-diphosphate1\"},\n",
    "  #{\"label\": \"Metabolites\", \"pattern\": [{\"TEXT\": {\"REGEX\": r\"[Uu]ridine\"}}, {\"LOWER\": {\"REGEX\": r\"5\"}}, {\"LOWER\": {\"REGEX\": r\"\\'\"}}, {\"LOWER\": {\"REGEX\": r\"\\-\"}}, {\"LOWER\": {\"REGEX\": r\"diphosphate\"}}], \"id\": \"Uridine 5'-diphosphate1\"},\n",
    "  {\"label\": \"Metabolites\", \"pattern\": [{\"LOWER\": \"uridine\"}, {\"LOWER\": \"5\"}, {\"LOWER\": \"'\"}, {\"LOWER\": \"-\"}, {\"LOWER\": \"diphosphate\"}], \"id\": \"Uridine 5'-diphosphate2\"}\n",
    "  #{\"label\": \"Metabolites\", \"pattern\": \"just add) Uridine 5' - diphosphate\", \"id\": \"Uridine 5'-diphosphate\"}\n",
    "]\n",
    "ruler.add_patterns(metabolites_patterns)\n",
    "\n",
    "#build abstracts\n",
    "abstracts = [\n",
    "\t\t\t\"London is the United Kingdom capital of the United Kingdom.\",\n",
    "            \"Uridine 5' - diphosphate ( UDP ) and uridINe 5' - dipHOSphaTe - glucose dehydrogenase ( UGD ) produces UDP - glucuronic acid from UDP - glucose as a precursor of plant cell wall polysaccharides.\",\n",
    "          \t\"In the presence of inorganic phosphate, uridine 5'-diphosphate glucose (UDPG) is specifically hydrolyzed to glucose 1-phosphate and UDP by a unique enzyme, UDPG phosphorylase.\"\n",
    "         ]\n",
    "\n",
    "docs = list(nlp.pipe(abstracts))\n",
    "c_doc = Doc.from_docs(docs)\n",
    "doc = nlp(c_doc)\n",
    "\n",
    "#print NER result\n",
    "# print([(span.text, span.label_) for span in doc.spans[\"ruler\"]]) # for spans\n",
    "print([(ent.text, ent.label_, ent.ent_id_, ent.start_char, ent.end_char) for ent in doc.ents])"
   ]
  },
  {
   "cell_type": "code",
   "execution_count": null,
   "id": "dada2e07-809a-4d84-a308-d152cc715176",
   "metadata": {},
   "outputs": [],
   "source": []
  },
  {
   "cell_type": "code",
   "execution_count": 51,
   "id": "4925c870-1b48-4bc0-9662-b184b2592278",
   "metadata": {},
   "outputs": [
    {
     "name": "stdout",
     "output_type": "stream",
     "text": [
      "NAME Grint Anderson 86\n",
      "GPE Nashv1le 82\n"
     ]
    }
   ],
   "source": [
    "import spacy\n",
    "from spaczz.matcher import FuzzyMatcher\n",
    "\n",
    "nlp = spacy.blank(\"en\")\n",
    "text = \"\"\"Grint Anderson created spaczz in his home at 555 Fake St,\n",
    "Apt 5 in Nashv1le, TN 55555-1234 in the US.\"\"\"  # Spelling errors intentional.\n",
    "doc = nlp(text)\n",
    "\n",
    "matcher = FuzzyMatcher(nlp.vocab)\n",
    "matcher.add(\"NAME\", [nlp(\"Grant Andersen\")])\n",
    "matcher.add(\"GPE\", [nlp(\"Nashville\")])\n",
    "matches = matcher(doc)\n",
    "\n",
    "for match_id, start, end, ratio in matches:\n",
    "    print(match_id, doc[start:end], ratio)"
   ]
  },
  {
   "cell_type": "code",
   "execution_count": null,
   "id": "7d691eeb-6e95-4144-a7f5-33baec666f75",
   "metadata": {},
   "outputs": [],
   "source": []
  }
 ],
 "metadata": {
  "kernelspec": {
   "display_name": "Python 3.7 anaconda3",
   "language": "python",
   "name": "python3"
  },
  "language_info": {
   "codemirror_mode": {
    "name": "ipython",
    "version": 3
   },
   "file_extension": ".py",
   "mimetype": "text/x-python",
   "name": "python",
   "nbconvert_exporter": "python",
   "pygments_lexer": "ipython3",
   "version": "3.9.13"
  }
 },
 "nbformat": 4,
 "nbformat_minor": 5
}
