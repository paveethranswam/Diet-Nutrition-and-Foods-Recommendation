{
 "cells": [
  {
   "cell_type": "code",
   "execution_count": 58,
   "id": "2cdb10dd",
   "metadata": {},
   "outputs": [],
   "source": [
    "from seq2rel_ds.common import util\n",
    "import pandas as pd\n",
    "# from seq2rel_ds.common.util import pubtator_to_seq2rel"
   ]
  },
  {
   "cell_type": "code",
   "execution_count": 59,
   "id": "8ca67817",
   "metadata": {},
   "outputs": [
    {
     "name": "stdout",
     "output_type": "stream",
     "text": [
      "The autoreload extension is already loaded. To reload it, use:\n",
      "  %reload_ext autoreload\n"
     ]
    }
   ],
   "source": [
    "%load_ext autoreload"
   ]
  },
  {
   "cell_type": "code",
   "execution_count": 60,
   "id": "c6bbea5e",
   "metadata": {},
   "outputs": [],
   "source": [
    "\n",
    "%autoreload 2\n",
    "\n",
    "import itertools\n",
    "from collections import defaultdict\n",
    "from functools import lru_cache\n",
    "from pathlib import Path\n",
    "from typing import Dict, List, Optional, Tuple\n",
    "\n",
    "\n",
    "import requests\n",
    "import typer\n",
    "\n",
    "from seq2rel_ds import msg\n",
    "from seq2rel_ds.common import util\n",
    "from seq2rel_ds.common.schemas import PubtatorAnnotation\n",
    "from seq2rel_ds.common.util import EntityHinting\n",
    "from seq2rel_ds.common.util import pubtator_to_seq2rel\n",
    "\n",
    "# To reload modules (does not update after updating in other codes)\n",
    "import importlib\n",
    "importlib.reload(util)\n",
    "\n",
    "\n",
    "app = typer.Typer()\n",
    "\n",
    "CDR_URL = \"https://biocreative.bioinformatics.udel.edu/media/store/files/2016/CDR_Data.zip\"\n",
    "MESH_TREE_URL = (\n",
    "    \"https://github.com/fenchri/edge-oriented-graph/raw/master/data_processing/2017MeshTree.txt\"\n",
    ")\n",
    "PARENT_DIR = \"CDR_Data/CDR.Corpus.v010516\"\n",
    "TRAIN_FILENAME = \"CDR_TrainingSet.PubTator.txt\"\n",
    "VALID_FILENAME = \"CDR_DevelopmentSet.PubTator.txt\"\n",
    "TEST_FILENAME = \"CDR_TestSet.PubTator.txt\"\n",
    "\n",
    "\n",
    "@lru_cache()\n",
    "def _download_mesh_tree() -> Dict[str, List[str]]:\n",
    "    \"\"\"Downloads the MeSH tree and returns a dictionary mapping MeSH unique IDs to tree numbers.\"\"\"\n",
    "    parsed_mesh_tree = defaultdict(list)\n",
    "    raw_mesh_tree = requests.get(MESH_TREE_URL).text.strip().splitlines()[1:]\n",
    "    for line in raw_mesh_tree:\n",
    "        tree_numbers, mesh_unique_id, _ = line.split(\"\\t\")\n",
    "        parsed_mesh_tree[mesh_unique_id].append(tree_numbers)\n",
    "    return parsed_mesh_tree\n",
    "\n",
    "\n",
    "def _download_corpus() -> Tuple[str, str, str]:\n",
    "    z = util.download_zip(CDR_URL)\n",
    "    train = z.read(str(Path(PARENT_DIR) / TRAIN_FILENAME)).decode()\n",
    "    valid = z.read(str(Path(PARENT_DIR) / VALID_FILENAME)).decode()\n",
    "    test = z.read(str(Path(PARENT_DIR) / TEST_FILENAME)).decode()\n",
    "\n",
    "    return train, valid, test\n",
    "\n",
    "\n",
    "def _filter_hypernyms(pubtator_annotations: List[PubtatorAnnotation]) -> None:\n",
    "    \"\"\"For each document in `pubtator_annotations`, determines any possible negative relations\n",
    "    which are hypernyms of the positive relations. If found, these are appended to\n",
    "    `pubtator_annotations.filtered_relations`.\n",
    "    \"\"\"\n",
    "    # Download the MeSH tree which allows us to determine hypernyms for disease entities.\n",
    "    mesh_tree = _download_mesh_tree()\n",
    "\n",
    "    # Determine the entity and relation labels by looping until we find an document with relations.\n",
    "    for annotation in pubtator_annotations:\n",
    "        if annotation.relations:\n",
    "            chem_id, diso_id, rel_label = annotation.relations[0]\n",
    "            chem_label = annotation.entities[chem_id].label\n",
    "            diso_label = annotation.entities[diso_id].label\n",
    "            break\n",
    "\n",
    "    for annotation in pubtator_annotations:\n",
    "        # We will add this attribute to each annotation, regardless of whether or not it has\n",
    "        # relations to filter. This will mean that all examples in the dataset will be formatted\n",
    "        # the same way, which simplifies data loading.\n",
    "        annotation.filtered_relations = []\n",
    "        # Determine the negative relations by taking the set of the product of all unique chemical\n",
    "        # and disease entities, minus the set of all positive relations.\n",
    "        chemicals = [\n",
    "            ent_id for ent_id, ann in annotation.entities.items() if ann.label == chem_label\n",
    "        ]\n",
    "        diseases = [\n",
    "            ent_id for ent_id, ann in annotation.entities.items() if ann.label == diso_label\n",
    "        ]\n",
    "        all_relations = [\n",
    "            (chem, diso, rel_label) for chem, diso in itertools.product(chemicals, diseases)\n",
    "        ]\n",
    "        negative_relations = list(set(all_relations) - set(annotation.relations))\n",
    "        # If any negative relation contains a chemical entity that matches the chemical entity of\n",
    "        # a positive relation AND its disease entity is a hypernym of the positive relations disease\n",
    "        # entity, this negative relation should be filtered.\n",
    "        for neg_chem, neg_diso, _ in negative_relations:\n",
    "            for pos_chem, pos_diso, _ in annotation.relations:\n",
    "                if neg_chem == pos_chem:\n",
    "                    if any(\n",
    "                        neg_tree_number in pos_tree_number\n",
    "                        for pos_tree_number in mesh_tree[pos_diso]\n",
    "                        for neg_tree_number in mesh_tree[neg_diso]\n",
    "                    ):\n",
    "                        filtered_rel = (neg_chem, neg_diso, rel_label)\n",
    "                        if filtered_rel not in annotation.filtered_relations:\n",
    "                            annotation.filtered_relations.append(filtered_rel)\n",
    "\n",
    "\n",
    "def _preprocess(\n",
    "    pubtator_content: str,\n",
    "    sort_rels: bool = True,\n",
    "    entity_hinting: Optional[EntityHinting] = None,\n",
    "    filter_hypernyms: bool = False,\n",
    ") -> List[str]:\n",
    "    kwargs = {\"concepts\": [\"chemical\", \"disease\"], \"skip_malformed\": True} if entity_hinting else {}\n",
    "\n",
    "    pubtator_annotations = util.parse_pubtator(\n",
    "        pubtator_content=pubtator_content,\n",
    "        text_segment=util.TextSegment.both,\n",
    "    )\n",
    "    \n",
    "    # This is unique the the CDR corpus, which contains many negative relations that are\n",
    "    # actually valid, but are not annotated because they contain a disease entity which is the\n",
    "    # hypernym of a disease entity in a positive relation. We need to filter these out before\n",
    "    # evaluation, so this function finds all such cases and adds them to the filtered_relations\n",
    "    # field of the annoations. See: https://arxiv.org/abs/1909.00228 for details.\n",
    "    if filter_hypernyms:\n",
    "        _filter_hypernyms(pubtator_annotations)\n",
    "\n",
    "#     print('preprocessing from custom functions11')\n",
    "    seq2rel_annotations = pubtator_to_seq2rel(\n",
    "        pubtator_annotations,\n",
    "        sort_rels=sort_rels,\n",
    "        entity_hinting=entity_hinting,\n",
    "        **kwargs,\n",
    "    )\n",
    "#     print(type(seq2rel_annotations), len(seq2rel_annotations))\n",
    "    return seq2rel_annotations\n"
   ]
  },
  {
   "cell_type": "code",
   "execution_count": null,
   "id": "666f42ef",
   "metadata": {},
   "outputs": [],
   "source": []
  },
  {
   "cell_type": "code",
   "execution_count": 61,
   "id": "73f8f6bf",
   "metadata": {},
   "outputs": [
    {
     "ename": "ConnectionError",
     "evalue": "HTTPSConnectionPool(host='biocreative.bioinformatics.udel.edu', port=443): Max retries exceeded with url: /media/store/files/2016/CDR_Data.zip (Caused by NewConnectionError('<urllib3.connection.HTTPSConnection object at 0x2b253d9063d0>: Failed to establish a new connection: [Errno 110] Connection timed out'))",
     "output_type": "error",
     "traceback": [
      "\u001b[0;31m---------------------------------------------------------------------------\u001b[0m",
      "\u001b[0;31mTimeoutError\u001b[0m                              Traceback (most recent call last)",
      "File \u001b[0;32m~/.local/lib/python3.9/site-packages/urllib3/connection.py:174\u001b[0m, in \u001b[0;36mHTTPConnection._new_conn\u001b[0;34m(self)\u001b[0m\n\u001b[1;32m    173\u001b[0m \u001b[38;5;28;01mtry\u001b[39;00m:\n\u001b[0;32m--> 174\u001b[0m     conn \u001b[38;5;241m=\u001b[39m \u001b[43mconnection\u001b[49m\u001b[38;5;241;43m.\u001b[39;49m\u001b[43mcreate_connection\u001b[49m\u001b[43m(\u001b[49m\n\u001b[1;32m    175\u001b[0m \u001b[43m        \u001b[49m\u001b[43m(\u001b[49m\u001b[38;5;28;43mself\u001b[39;49m\u001b[38;5;241;43m.\u001b[39;49m\u001b[43m_dns_host\u001b[49m\u001b[43m,\u001b[49m\u001b[43m \u001b[49m\u001b[38;5;28;43mself\u001b[39;49m\u001b[38;5;241;43m.\u001b[39;49m\u001b[43mport\u001b[49m\u001b[43m)\u001b[49m\u001b[43m,\u001b[49m\u001b[43m \u001b[49m\u001b[38;5;28;43mself\u001b[39;49m\u001b[38;5;241;43m.\u001b[39;49m\u001b[43mtimeout\u001b[49m\u001b[43m,\u001b[49m\u001b[43m \u001b[49m\u001b[38;5;241;43m*\u001b[39;49m\u001b[38;5;241;43m*\u001b[39;49m\u001b[43mextra_kw\u001b[49m\n\u001b[1;32m    176\u001b[0m \u001b[43m    \u001b[49m\u001b[43m)\u001b[49m\n\u001b[1;32m    178\u001b[0m \u001b[38;5;28;01mexcept\u001b[39;00m SocketTimeout:\n",
      "File \u001b[0;32m~/.local/lib/python3.9/site-packages/urllib3/util/connection.py:95\u001b[0m, in \u001b[0;36mcreate_connection\u001b[0;34m(address, timeout, source_address, socket_options)\u001b[0m\n\u001b[1;32m     94\u001b[0m \u001b[38;5;28;01mif\u001b[39;00m err \u001b[38;5;129;01mis\u001b[39;00m \u001b[38;5;129;01mnot\u001b[39;00m \u001b[38;5;28;01mNone\u001b[39;00m:\n\u001b[0;32m---> 95\u001b[0m     \u001b[38;5;28;01mraise\u001b[39;00m err\n\u001b[1;32m     97\u001b[0m \u001b[38;5;28;01mraise\u001b[39;00m socket\u001b[38;5;241m.\u001b[39merror(\u001b[38;5;124m\"\u001b[39m\u001b[38;5;124mgetaddrinfo returns an empty list\u001b[39m\u001b[38;5;124m\"\u001b[39m)\n",
      "File \u001b[0;32m~/.local/lib/python3.9/site-packages/urllib3/util/connection.py:85\u001b[0m, in \u001b[0;36mcreate_connection\u001b[0;34m(address, timeout, source_address, socket_options)\u001b[0m\n\u001b[1;32m     84\u001b[0m     sock\u001b[38;5;241m.\u001b[39mbind(source_address)\n\u001b[0;32m---> 85\u001b[0m \u001b[43msock\u001b[49m\u001b[38;5;241;43m.\u001b[39;49m\u001b[43mconnect\u001b[49m\u001b[43m(\u001b[49m\u001b[43msa\u001b[49m\u001b[43m)\u001b[49m\n\u001b[1;32m     86\u001b[0m \u001b[38;5;28;01mreturn\u001b[39;00m sock\n",
      "\u001b[0;31mTimeoutError\u001b[0m: [Errno 110] Connection timed out",
      "\nDuring handling of the above exception, another exception occurred:\n",
      "\u001b[0;31mNewConnectionError\u001b[0m                        Traceback (most recent call last)",
      "File \u001b[0;32m~/.local/lib/python3.9/site-packages/urllib3/connectionpool.py:703\u001b[0m, in \u001b[0;36mHTTPConnectionPool.urlopen\u001b[0;34m(self, method, url, body, headers, retries, redirect, assert_same_host, timeout, pool_timeout, release_conn, chunked, body_pos, **response_kw)\u001b[0m\n\u001b[1;32m    702\u001b[0m \u001b[38;5;66;03m# Make the request on the httplib connection object.\u001b[39;00m\n\u001b[0;32m--> 703\u001b[0m httplib_response \u001b[38;5;241m=\u001b[39m \u001b[38;5;28;43mself\u001b[39;49m\u001b[38;5;241;43m.\u001b[39;49m\u001b[43m_make_request\u001b[49m\u001b[43m(\u001b[49m\n\u001b[1;32m    704\u001b[0m \u001b[43m    \u001b[49m\u001b[43mconn\u001b[49m\u001b[43m,\u001b[49m\n\u001b[1;32m    705\u001b[0m \u001b[43m    \u001b[49m\u001b[43mmethod\u001b[49m\u001b[43m,\u001b[49m\n\u001b[1;32m    706\u001b[0m \u001b[43m    \u001b[49m\u001b[43murl\u001b[49m\u001b[43m,\u001b[49m\n\u001b[1;32m    707\u001b[0m \u001b[43m    \u001b[49m\u001b[43mtimeout\u001b[49m\u001b[38;5;241;43m=\u001b[39;49m\u001b[43mtimeout_obj\u001b[49m\u001b[43m,\u001b[49m\n\u001b[1;32m    708\u001b[0m \u001b[43m    \u001b[49m\u001b[43mbody\u001b[49m\u001b[38;5;241;43m=\u001b[39;49m\u001b[43mbody\u001b[49m\u001b[43m,\u001b[49m\n\u001b[1;32m    709\u001b[0m \u001b[43m    \u001b[49m\u001b[43mheaders\u001b[49m\u001b[38;5;241;43m=\u001b[39;49m\u001b[43mheaders\u001b[49m\u001b[43m,\u001b[49m\n\u001b[1;32m    710\u001b[0m \u001b[43m    \u001b[49m\u001b[43mchunked\u001b[49m\u001b[38;5;241;43m=\u001b[39;49m\u001b[43mchunked\u001b[49m\u001b[43m,\u001b[49m\n\u001b[1;32m    711\u001b[0m \u001b[43m\u001b[49m\u001b[43m)\u001b[49m\n\u001b[1;32m    713\u001b[0m \u001b[38;5;66;03m# If we're going to release the connection in ``finally:``, then\u001b[39;00m\n\u001b[1;32m    714\u001b[0m \u001b[38;5;66;03m# the response doesn't need to know about the connection. Otherwise\u001b[39;00m\n\u001b[1;32m    715\u001b[0m \u001b[38;5;66;03m# it will also try to release it and we'll have a double-release\u001b[39;00m\n\u001b[1;32m    716\u001b[0m \u001b[38;5;66;03m# mess.\u001b[39;00m\n",
      "File \u001b[0;32m~/.local/lib/python3.9/site-packages/urllib3/connectionpool.py:386\u001b[0m, in \u001b[0;36mHTTPConnectionPool._make_request\u001b[0;34m(self, conn, method, url, timeout, chunked, **httplib_request_kw)\u001b[0m\n\u001b[1;32m    385\u001b[0m \u001b[38;5;28;01mtry\u001b[39;00m:\n\u001b[0;32m--> 386\u001b[0m     \u001b[38;5;28;43mself\u001b[39;49m\u001b[38;5;241;43m.\u001b[39;49m\u001b[43m_validate_conn\u001b[49m\u001b[43m(\u001b[49m\u001b[43mconn\u001b[49m\u001b[43m)\u001b[49m\n\u001b[1;32m    387\u001b[0m \u001b[38;5;28;01mexcept\u001b[39;00m (SocketTimeout, BaseSSLError) \u001b[38;5;28;01mas\u001b[39;00m e:\n\u001b[1;32m    388\u001b[0m     \u001b[38;5;66;03m# Py2 raises this as a BaseSSLError, Py3 raises it as socket timeout.\u001b[39;00m\n",
      "File \u001b[0;32m~/.local/lib/python3.9/site-packages/urllib3/connectionpool.py:1042\u001b[0m, in \u001b[0;36mHTTPSConnectionPool._validate_conn\u001b[0;34m(self, conn)\u001b[0m\n\u001b[1;32m   1041\u001b[0m \u001b[38;5;28;01mif\u001b[39;00m \u001b[38;5;129;01mnot\u001b[39;00m \u001b[38;5;28mgetattr\u001b[39m(conn, \u001b[38;5;124m\"\u001b[39m\u001b[38;5;124msock\u001b[39m\u001b[38;5;124m\"\u001b[39m, \u001b[38;5;28;01mNone\u001b[39;00m):  \u001b[38;5;66;03m# AppEngine might not have  `.sock`\u001b[39;00m\n\u001b[0;32m-> 1042\u001b[0m     \u001b[43mconn\u001b[49m\u001b[38;5;241;43m.\u001b[39;49m\u001b[43mconnect\u001b[49m\u001b[43m(\u001b[49m\u001b[43m)\u001b[49m\n\u001b[1;32m   1044\u001b[0m \u001b[38;5;28;01mif\u001b[39;00m \u001b[38;5;129;01mnot\u001b[39;00m conn\u001b[38;5;241m.\u001b[39mis_verified:\n",
      "File \u001b[0;32m~/.local/lib/python3.9/site-packages/urllib3/connection.py:358\u001b[0m, in \u001b[0;36mHTTPSConnection.connect\u001b[0;34m(self)\u001b[0m\n\u001b[1;32m    356\u001b[0m \u001b[38;5;28;01mdef\u001b[39;00m \u001b[38;5;21mconnect\u001b[39m(\u001b[38;5;28mself\u001b[39m):\n\u001b[1;32m    357\u001b[0m     \u001b[38;5;66;03m# Add certificate verification\u001b[39;00m\n\u001b[0;32m--> 358\u001b[0m     \u001b[38;5;28mself\u001b[39m\u001b[38;5;241m.\u001b[39msock \u001b[38;5;241m=\u001b[39m conn \u001b[38;5;241m=\u001b[39m \u001b[38;5;28;43mself\u001b[39;49m\u001b[38;5;241;43m.\u001b[39;49m\u001b[43m_new_conn\u001b[49m\u001b[43m(\u001b[49m\u001b[43m)\u001b[49m\n\u001b[1;32m    359\u001b[0m     hostname \u001b[38;5;241m=\u001b[39m \u001b[38;5;28mself\u001b[39m\u001b[38;5;241m.\u001b[39mhost\n",
      "File \u001b[0;32m~/.local/lib/python3.9/site-packages/urllib3/connection.py:186\u001b[0m, in \u001b[0;36mHTTPConnection._new_conn\u001b[0;34m(self)\u001b[0m\n\u001b[1;32m    185\u001b[0m \u001b[38;5;28;01mexcept\u001b[39;00m SocketError \u001b[38;5;28;01mas\u001b[39;00m e:\n\u001b[0;32m--> 186\u001b[0m     \u001b[38;5;28;01mraise\u001b[39;00m NewConnectionError(\n\u001b[1;32m    187\u001b[0m         \u001b[38;5;28mself\u001b[39m, \u001b[38;5;124m\"\u001b[39m\u001b[38;5;124mFailed to establish a new connection: \u001b[39m\u001b[38;5;132;01m%s\u001b[39;00m\u001b[38;5;124m\"\u001b[39m \u001b[38;5;241m%\u001b[39m e\n\u001b[1;32m    188\u001b[0m     )\n\u001b[1;32m    190\u001b[0m \u001b[38;5;28;01mreturn\u001b[39;00m conn\n",
      "\u001b[0;31mNewConnectionError\u001b[0m: <urllib3.connection.HTTPSConnection object at 0x2b253d9063d0>: Failed to establish a new connection: [Errno 110] Connection timed out",
      "\nDuring handling of the above exception, another exception occurred:\n",
      "\u001b[0;31mMaxRetryError\u001b[0m                             Traceback (most recent call last)",
      "File \u001b[0;32m~/.local/lib/python3.9/site-packages/requests/adapters.py:489\u001b[0m, in \u001b[0;36mHTTPAdapter.send\u001b[0;34m(self, request, stream, timeout, verify, cert, proxies)\u001b[0m\n\u001b[1;32m    488\u001b[0m \u001b[38;5;28;01mif\u001b[39;00m \u001b[38;5;129;01mnot\u001b[39;00m chunked:\n\u001b[0;32m--> 489\u001b[0m     resp \u001b[38;5;241m=\u001b[39m \u001b[43mconn\u001b[49m\u001b[38;5;241;43m.\u001b[39;49m\u001b[43murlopen\u001b[49m\u001b[43m(\u001b[49m\n\u001b[1;32m    490\u001b[0m \u001b[43m        \u001b[49m\u001b[43mmethod\u001b[49m\u001b[38;5;241;43m=\u001b[39;49m\u001b[43mrequest\u001b[49m\u001b[38;5;241;43m.\u001b[39;49m\u001b[43mmethod\u001b[49m\u001b[43m,\u001b[49m\n\u001b[1;32m    491\u001b[0m \u001b[43m        \u001b[49m\u001b[43murl\u001b[49m\u001b[38;5;241;43m=\u001b[39;49m\u001b[43murl\u001b[49m\u001b[43m,\u001b[49m\n\u001b[1;32m    492\u001b[0m \u001b[43m        \u001b[49m\u001b[43mbody\u001b[49m\u001b[38;5;241;43m=\u001b[39;49m\u001b[43mrequest\u001b[49m\u001b[38;5;241;43m.\u001b[39;49m\u001b[43mbody\u001b[49m\u001b[43m,\u001b[49m\n\u001b[1;32m    493\u001b[0m \u001b[43m        \u001b[49m\u001b[43mheaders\u001b[49m\u001b[38;5;241;43m=\u001b[39;49m\u001b[43mrequest\u001b[49m\u001b[38;5;241;43m.\u001b[39;49m\u001b[43mheaders\u001b[49m\u001b[43m,\u001b[49m\n\u001b[1;32m    494\u001b[0m \u001b[43m        \u001b[49m\u001b[43mredirect\u001b[49m\u001b[38;5;241;43m=\u001b[39;49m\u001b[38;5;28;43;01mFalse\u001b[39;49;00m\u001b[43m,\u001b[49m\n\u001b[1;32m    495\u001b[0m \u001b[43m        \u001b[49m\u001b[43massert_same_host\u001b[49m\u001b[38;5;241;43m=\u001b[39;49m\u001b[38;5;28;43;01mFalse\u001b[39;49;00m\u001b[43m,\u001b[49m\n\u001b[1;32m    496\u001b[0m \u001b[43m        \u001b[49m\u001b[43mpreload_content\u001b[49m\u001b[38;5;241;43m=\u001b[39;49m\u001b[38;5;28;43;01mFalse\u001b[39;49;00m\u001b[43m,\u001b[49m\n\u001b[1;32m    497\u001b[0m \u001b[43m        \u001b[49m\u001b[43mdecode_content\u001b[49m\u001b[38;5;241;43m=\u001b[39;49m\u001b[38;5;28;43;01mFalse\u001b[39;49;00m\u001b[43m,\u001b[49m\n\u001b[1;32m    498\u001b[0m \u001b[43m        \u001b[49m\u001b[43mretries\u001b[49m\u001b[38;5;241;43m=\u001b[39;49m\u001b[38;5;28;43mself\u001b[39;49m\u001b[38;5;241;43m.\u001b[39;49m\u001b[43mmax_retries\u001b[49m\u001b[43m,\u001b[49m\n\u001b[1;32m    499\u001b[0m \u001b[43m        \u001b[49m\u001b[43mtimeout\u001b[49m\u001b[38;5;241;43m=\u001b[39;49m\u001b[43mtimeout\u001b[49m\u001b[43m,\u001b[49m\n\u001b[1;32m    500\u001b[0m \u001b[43m    \u001b[49m\u001b[43m)\u001b[49m\n\u001b[1;32m    502\u001b[0m \u001b[38;5;66;03m# Send the request.\u001b[39;00m\n\u001b[1;32m    503\u001b[0m \u001b[38;5;28;01melse\u001b[39;00m:\n",
      "File \u001b[0;32m~/.local/lib/python3.9/site-packages/urllib3/connectionpool.py:787\u001b[0m, in \u001b[0;36mHTTPConnectionPool.urlopen\u001b[0;34m(self, method, url, body, headers, retries, redirect, assert_same_host, timeout, pool_timeout, release_conn, chunked, body_pos, **response_kw)\u001b[0m\n\u001b[1;32m    785\u001b[0m     e \u001b[38;5;241m=\u001b[39m ProtocolError(\u001b[38;5;124m\"\u001b[39m\u001b[38;5;124mConnection aborted.\u001b[39m\u001b[38;5;124m\"\u001b[39m, e)\n\u001b[0;32m--> 787\u001b[0m retries \u001b[38;5;241m=\u001b[39m \u001b[43mretries\u001b[49m\u001b[38;5;241;43m.\u001b[39;49m\u001b[43mincrement\u001b[49m\u001b[43m(\u001b[49m\n\u001b[1;32m    788\u001b[0m \u001b[43m    \u001b[49m\u001b[43mmethod\u001b[49m\u001b[43m,\u001b[49m\u001b[43m \u001b[49m\u001b[43murl\u001b[49m\u001b[43m,\u001b[49m\u001b[43m \u001b[49m\u001b[43merror\u001b[49m\u001b[38;5;241;43m=\u001b[39;49m\u001b[43me\u001b[49m\u001b[43m,\u001b[49m\u001b[43m \u001b[49m\u001b[43m_pool\u001b[49m\u001b[38;5;241;43m=\u001b[39;49m\u001b[38;5;28;43mself\u001b[39;49m\u001b[43m,\u001b[49m\u001b[43m \u001b[49m\u001b[43m_stacktrace\u001b[49m\u001b[38;5;241;43m=\u001b[39;49m\u001b[43msys\u001b[49m\u001b[38;5;241;43m.\u001b[39;49m\u001b[43mexc_info\u001b[49m\u001b[43m(\u001b[49m\u001b[43m)\u001b[49m\u001b[43m[\u001b[49m\u001b[38;5;241;43m2\u001b[39;49m\u001b[43m]\u001b[49m\n\u001b[1;32m    789\u001b[0m \u001b[43m\u001b[49m\u001b[43m)\u001b[49m\n\u001b[1;32m    790\u001b[0m retries\u001b[38;5;241m.\u001b[39msleep()\n",
      "File \u001b[0;32m~/.local/lib/python3.9/site-packages/urllib3/util/retry.py:592\u001b[0m, in \u001b[0;36mRetry.increment\u001b[0;34m(self, method, url, response, error, _pool, _stacktrace)\u001b[0m\n\u001b[1;32m    591\u001b[0m \u001b[38;5;28;01mif\u001b[39;00m new_retry\u001b[38;5;241m.\u001b[39mis_exhausted():\n\u001b[0;32m--> 592\u001b[0m     \u001b[38;5;28;01mraise\u001b[39;00m MaxRetryError(_pool, url, error \u001b[38;5;129;01mor\u001b[39;00m ResponseError(cause))\n\u001b[1;32m    594\u001b[0m log\u001b[38;5;241m.\u001b[39mdebug(\u001b[38;5;124m\"\u001b[39m\u001b[38;5;124mIncremented Retry for (url=\u001b[39m\u001b[38;5;124m'\u001b[39m\u001b[38;5;132;01m%s\u001b[39;00m\u001b[38;5;124m'\u001b[39m\u001b[38;5;124m): \u001b[39m\u001b[38;5;132;01m%r\u001b[39;00m\u001b[38;5;124m\"\u001b[39m, url, new_retry)\n",
      "\u001b[0;31mMaxRetryError\u001b[0m: HTTPSConnectionPool(host='biocreative.bioinformatics.udel.edu', port=443): Max retries exceeded with url: /media/store/files/2016/CDR_Data.zip (Caused by NewConnectionError('<urllib3.connection.HTTPSConnection object at 0x2b253d9063d0>: Failed to establish a new connection: [Errno 110] Connection timed out'))",
      "\nDuring handling of the above exception, another exception occurred:\n",
      "\u001b[0;31mConnectionError\u001b[0m                           Traceback (most recent call last)",
      "Input \u001b[0;32mIn [61]\u001b[0m, in \u001b[0;36m<cell line: 4>\u001b[0;34m()\u001b[0m\n\u001b[1;32m      1\u001b[0m entity_hinting \u001b[38;5;241m=\u001b[39m \u001b[38;5;124m'\u001b[39m\u001b[38;5;124mpipeline\u001b[39m\u001b[38;5;124m'\u001b[39m\n\u001b[1;32m      2\u001b[0m output_dir \u001b[38;5;241m=\u001b[39m \u001b[38;5;124m'\u001b[39m\u001b[38;5;124mcustom_main_test_cdr\u001b[39m\u001b[38;5;124m'\u001b[39m\n\u001b[0;32m----> 4\u001b[0m train_raw, valid_raw, test_raw \u001b[38;5;241m=\u001b[39m \u001b[43m_download_corpus\u001b[49m\u001b[43m(\u001b[49m\u001b[43m)\u001b[49m\n\u001b[1;32m      5\u001b[0m test \u001b[38;5;241m=\u001b[39m _preprocess(test_raw, sort_rels\u001b[38;5;241m=\u001b[39m\u001b[38;5;28;01mTrue\u001b[39;00m, entity_hinting\u001b[38;5;241m=\u001b[39mentity_hinting)\n",
      "Input \u001b[0;32mIn [60]\u001b[0m, in \u001b[0;36m_download_corpus\u001b[0;34m()\u001b[0m\n\u001b[1;32m     47\u001b[0m \u001b[38;5;28;01mdef\u001b[39;00m \u001b[38;5;21m_download_corpus\u001b[39m() \u001b[38;5;241m-\u001b[39m\u001b[38;5;241m>\u001b[39m Tuple[\u001b[38;5;28mstr\u001b[39m, \u001b[38;5;28mstr\u001b[39m, \u001b[38;5;28mstr\u001b[39m]:\n\u001b[0;32m---> 48\u001b[0m     z \u001b[38;5;241m=\u001b[39m \u001b[43mutil\u001b[49m\u001b[38;5;241;43m.\u001b[39;49m\u001b[43mdownload_zip\u001b[49m\u001b[43m(\u001b[49m\u001b[43mCDR_URL\u001b[49m\u001b[43m)\u001b[49m\n\u001b[1;32m     49\u001b[0m     train \u001b[38;5;241m=\u001b[39m z\u001b[38;5;241m.\u001b[39mread(\u001b[38;5;28mstr\u001b[39m(Path(PARENT_DIR) \u001b[38;5;241m/\u001b[39m TRAIN_FILENAME))\u001b[38;5;241m.\u001b[39mdecode()\n\u001b[1;32m     50\u001b[0m     valid \u001b[38;5;241m=\u001b[39m z\u001b[38;5;241m.\u001b[39mread(\u001b[38;5;28mstr\u001b[39m(Path(PARENT_DIR) \u001b[38;5;241m/\u001b[39m VALID_FILENAME))\u001b[38;5;241m.\u001b[39mdecode()\n",
      "File \u001b[0;32m/N/project/zhangclab/Pavi/KD-DocRE/RE/seq2rel-ds/seq2rel_ds/common/util.py:90\u001b[0m, in \u001b[0;36mdownload_zip\u001b[0;34m(url)\u001b[0m\n\u001b[1;32m     88\u001b[0m \u001b[38;5;28;01mdef\u001b[39;00m \u001b[38;5;21mdownload_zip\u001b[39m(url: \u001b[38;5;28mstr\u001b[39m) \u001b[38;5;241m-\u001b[39m\u001b[38;5;241m>\u001b[39m ZipFile:\n\u001b[1;32m     89\u001b[0m     \u001b[38;5;66;03m# https://stackoverflow.com/a/23419450/6578628\u001b[39;00m\n\u001b[0;32m---> 90\u001b[0m     r \u001b[38;5;241m=\u001b[39m \u001b[43mrequests\u001b[49m\u001b[38;5;241;43m.\u001b[39;49m\u001b[43mget\u001b[49m\u001b[43m(\u001b[49m\u001b[43murl\u001b[49m\u001b[43m)\u001b[49m\n\u001b[1;32m     91\u001b[0m     z \u001b[38;5;241m=\u001b[39m ZipFile(io\u001b[38;5;241m.\u001b[39mBytesIO(r\u001b[38;5;241m.\u001b[39mcontent))\n\u001b[1;32m     92\u001b[0m     \u001b[38;5;28;01mreturn\u001b[39;00m z\n",
      "File \u001b[0;32m~/.local/lib/python3.9/site-packages/requests/api.py:73\u001b[0m, in \u001b[0;36mget\u001b[0;34m(url, params, **kwargs)\u001b[0m\n\u001b[1;32m     62\u001b[0m \u001b[38;5;28;01mdef\u001b[39;00m \u001b[38;5;21mget\u001b[39m(url, params\u001b[38;5;241m=\u001b[39m\u001b[38;5;28;01mNone\u001b[39;00m, \u001b[38;5;241m*\u001b[39m\u001b[38;5;241m*\u001b[39mkwargs):\n\u001b[1;32m     63\u001b[0m     \u001b[38;5;124mr\u001b[39m\u001b[38;5;124;03m\"\"\"Sends a GET request.\u001b[39;00m\n\u001b[1;32m     64\u001b[0m \n\u001b[1;32m     65\u001b[0m \u001b[38;5;124;03m    :param url: URL for the new :class:`Request` object.\u001b[39;00m\n\u001b[0;32m   (...)\u001b[0m\n\u001b[1;32m     70\u001b[0m \u001b[38;5;124;03m    :rtype: requests.Response\u001b[39;00m\n\u001b[1;32m     71\u001b[0m \u001b[38;5;124;03m    \"\"\"\u001b[39;00m\n\u001b[0;32m---> 73\u001b[0m     \u001b[38;5;28;01mreturn\u001b[39;00m \u001b[43mrequest\u001b[49m\u001b[43m(\u001b[49m\u001b[38;5;124;43m\"\u001b[39;49m\u001b[38;5;124;43mget\u001b[39;49m\u001b[38;5;124;43m\"\u001b[39;49m\u001b[43m,\u001b[49m\u001b[43m \u001b[49m\u001b[43murl\u001b[49m\u001b[43m,\u001b[49m\u001b[43m \u001b[49m\u001b[43mparams\u001b[49m\u001b[38;5;241;43m=\u001b[39;49m\u001b[43mparams\u001b[49m\u001b[43m,\u001b[49m\u001b[43m \u001b[49m\u001b[38;5;241;43m*\u001b[39;49m\u001b[38;5;241;43m*\u001b[39;49m\u001b[43mkwargs\u001b[49m\u001b[43m)\u001b[49m\n",
      "File \u001b[0;32m~/.local/lib/python3.9/site-packages/requests/api.py:59\u001b[0m, in \u001b[0;36mrequest\u001b[0;34m(method, url, **kwargs)\u001b[0m\n\u001b[1;32m     55\u001b[0m \u001b[38;5;66;03m# By using the 'with' statement we are sure the session is closed, thus we\u001b[39;00m\n\u001b[1;32m     56\u001b[0m \u001b[38;5;66;03m# avoid leaving sockets open which can trigger a ResourceWarning in some\u001b[39;00m\n\u001b[1;32m     57\u001b[0m \u001b[38;5;66;03m# cases, and look like a memory leak in others.\u001b[39;00m\n\u001b[1;32m     58\u001b[0m \u001b[38;5;28;01mwith\u001b[39;00m sessions\u001b[38;5;241m.\u001b[39mSession() \u001b[38;5;28;01mas\u001b[39;00m session:\n\u001b[0;32m---> 59\u001b[0m     \u001b[38;5;28;01mreturn\u001b[39;00m \u001b[43msession\u001b[49m\u001b[38;5;241;43m.\u001b[39;49m\u001b[43mrequest\u001b[49m\u001b[43m(\u001b[49m\u001b[43mmethod\u001b[49m\u001b[38;5;241;43m=\u001b[39;49m\u001b[43mmethod\u001b[49m\u001b[43m,\u001b[49m\u001b[43m \u001b[49m\u001b[43murl\u001b[49m\u001b[38;5;241;43m=\u001b[39;49m\u001b[43murl\u001b[49m\u001b[43m,\u001b[49m\u001b[43m \u001b[49m\u001b[38;5;241;43m*\u001b[39;49m\u001b[38;5;241;43m*\u001b[39;49m\u001b[43mkwargs\u001b[49m\u001b[43m)\u001b[49m\n",
      "File \u001b[0;32m~/.local/lib/python3.9/site-packages/requests/sessions.py:587\u001b[0m, in \u001b[0;36mSession.request\u001b[0;34m(self, method, url, params, data, headers, cookies, files, auth, timeout, allow_redirects, proxies, hooks, stream, verify, cert, json)\u001b[0m\n\u001b[1;32m    582\u001b[0m send_kwargs \u001b[38;5;241m=\u001b[39m {\n\u001b[1;32m    583\u001b[0m     \u001b[38;5;124m\"\u001b[39m\u001b[38;5;124mtimeout\u001b[39m\u001b[38;5;124m\"\u001b[39m: timeout,\n\u001b[1;32m    584\u001b[0m     \u001b[38;5;124m\"\u001b[39m\u001b[38;5;124mallow_redirects\u001b[39m\u001b[38;5;124m\"\u001b[39m: allow_redirects,\n\u001b[1;32m    585\u001b[0m }\n\u001b[1;32m    586\u001b[0m send_kwargs\u001b[38;5;241m.\u001b[39mupdate(settings)\n\u001b[0;32m--> 587\u001b[0m resp \u001b[38;5;241m=\u001b[39m \u001b[38;5;28;43mself\u001b[39;49m\u001b[38;5;241;43m.\u001b[39;49m\u001b[43msend\u001b[49m\u001b[43m(\u001b[49m\u001b[43mprep\u001b[49m\u001b[43m,\u001b[49m\u001b[43m \u001b[49m\u001b[38;5;241;43m*\u001b[39;49m\u001b[38;5;241;43m*\u001b[39;49m\u001b[43msend_kwargs\u001b[49m\u001b[43m)\u001b[49m\n\u001b[1;32m    589\u001b[0m \u001b[38;5;28;01mreturn\u001b[39;00m resp\n",
      "File \u001b[0;32m~/.local/lib/python3.9/site-packages/requests/sessions.py:701\u001b[0m, in \u001b[0;36mSession.send\u001b[0;34m(self, request, **kwargs)\u001b[0m\n\u001b[1;32m    698\u001b[0m start \u001b[38;5;241m=\u001b[39m preferred_clock()\n\u001b[1;32m    700\u001b[0m \u001b[38;5;66;03m# Send the request\u001b[39;00m\n\u001b[0;32m--> 701\u001b[0m r \u001b[38;5;241m=\u001b[39m \u001b[43madapter\u001b[49m\u001b[38;5;241;43m.\u001b[39;49m\u001b[43msend\u001b[49m\u001b[43m(\u001b[49m\u001b[43mrequest\u001b[49m\u001b[43m,\u001b[49m\u001b[43m \u001b[49m\u001b[38;5;241;43m*\u001b[39;49m\u001b[38;5;241;43m*\u001b[39;49m\u001b[43mkwargs\u001b[49m\u001b[43m)\u001b[49m\n\u001b[1;32m    703\u001b[0m \u001b[38;5;66;03m# Total elapsed time of the request (approximately)\u001b[39;00m\n\u001b[1;32m    704\u001b[0m elapsed \u001b[38;5;241m=\u001b[39m preferred_clock() \u001b[38;5;241m-\u001b[39m start\n",
      "File \u001b[0;32m~/.local/lib/python3.9/site-packages/requests/adapters.py:565\u001b[0m, in \u001b[0;36mHTTPAdapter.send\u001b[0;34m(self, request, stream, timeout, verify, cert, proxies)\u001b[0m\n\u001b[1;32m    561\u001b[0m     \u001b[38;5;28;01mif\u001b[39;00m \u001b[38;5;28misinstance\u001b[39m(e\u001b[38;5;241m.\u001b[39mreason, _SSLError):\n\u001b[1;32m    562\u001b[0m         \u001b[38;5;66;03m# This branch is for urllib3 v1.22 and later.\u001b[39;00m\n\u001b[1;32m    563\u001b[0m         \u001b[38;5;28;01mraise\u001b[39;00m SSLError(e, request\u001b[38;5;241m=\u001b[39mrequest)\n\u001b[0;32m--> 565\u001b[0m     \u001b[38;5;28;01mraise\u001b[39;00m \u001b[38;5;167;01mConnectionError\u001b[39;00m(e, request\u001b[38;5;241m=\u001b[39mrequest)\n\u001b[1;32m    567\u001b[0m \u001b[38;5;28;01mexcept\u001b[39;00m ClosedPoolError \u001b[38;5;28;01mas\u001b[39;00m e:\n\u001b[1;32m    568\u001b[0m     \u001b[38;5;28;01mraise\u001b[39;00m \u001b[38;5;167;01mConnectionError\u001b[39;00m(e, request\u001b[38;5;241m=\u001b[39mrequest)\n",
      "\u001b[0;31mConnectionError\u001b[0m: HTTPSConnectionPool(host='biocreative.bioinformatics.udel.edu', port=443): Max retries exceeded with url: /media/store/files/2016/CDR_Data.zip (Caused by NewConnectionError('<urllib3.connection.HTTPSConnection object at 0x2b253d9063d0>: Failed to establish a new connection: [Errno 110] Connection timed out'))"
     ]
    }
   ],
   "source": [
    "entity_hinting = 'pipeline'\n",
    "output_dir = 'custom_main_test_cdr'\n",
    "\n",
    "train_raw, valid_raw, test_raw = _download_corpus()\n",
    "test = _preprocess(test_raw, sort_rels=True, entity_hinting=entity_hinting)\n",
    "\n",
    "\n",
    "# What is D009270 - how is the entity ID created - From MESH library\n",
    "# Do we have to keep all the occurences of a word (even if is already recorded) - Yes it should be kept\n",
    "# How is the offset calculated, is it word inbdex per sesntence or the whole document - whole document\n",
    "\n",
    "# From MESH library\n",
    "# 227508\\t0\\t8\\tNaloxone\\tChemical\\tD009270\n",
    "# 227508\\t865\\t873\\tnaloxone\\tChemical\\tD00927\n",
    "# First is captial N and second is small n and both have same uid. What is this uid\n",
    "\n",
    "# 227508\\t49\\t58\\tclonidine\\tChemical\\tD003000\n",
    "# 227508\\t181\\t190\\tclonidine\\tChemical\\tD003000\n",
    "\n",
    "# 227508\\t563\\t576\\t[3H]-naloxone\\tChemical\\t-1\n",
    "# 227508\\t671\\t695\\t[3H]-dihydroergocryptine\\tChemical\\t-1\n",
    "# 227508\\t244\\t252\\tnalozone\\tChemical\\t-1\n",
    "\n",
    "# This has a different uid - how is t-1 different from tD009270\n",
    "# And [3H]-naloxone is more related to Naloxone. But it has same uid as nalozone t-1\n"
   ]
  },
  {
   "cell_type": "code",
   "execution_count": 30,
   "id": "c86bace4",
   "metadata": {},
   "outputs": [
    {
     "name": "stdout",
     "output_type": "stream",
     "text": [
      "Total outputs recorded  297\n"
     ]
    }
   ],
   "source": [
    "print('Total outputs recorded ', len(test))\n"
   ]
  },
  {
   "cell_type": "code",
   "execution_count": 45,
   "id": "dd923a2a",
   "metadata": {},
   "outputs": [
    {
     "name": "stdout",
     "output_type": "stream",
     "text": [
      "histamine @CHEMICAL@ [SEP] Famotidine - associated delirium . A series of six cases . Famotidine is a histamine H2 - receptor antagonist used in inpatient settings for prevention of stress ulcers and is showing increasing popularity because of its low cost . Although all of the currently available H2 - receptor antagonists have shown the propensity to cause delirium , only two previously reported cases have been associated with famotidine . The authors report on six cases of famotidine - associated delirium in hospitalized patients who cleared completely upon removal of famotidine . The pharmacokinetics of famotidine are reviewed , with no change in its metabolism in the elderly population seen . The implications of using famotidine in elderly persons are discussed .\t\n",
      "\n",
      "\n",
      "sodium @CHEMICAL@ [SEP] Indomethacin induced hypotension in sodium and volume depleted rats . After a single oral dose of 4 mg / kg indomethacin ( IDM ) to sodium and volume depleted rats plasma renin activity ( PRA ) and systolic blood pressure fell significantly within four hours . In sodium repleted animals indomethacin did not change systolic blood pressure ( BP ) although plasma renin activity was decreased . Thus , indomethacin by inhibition of prostaglandin synthesis may diminish the blood pressure maintaining effect of the stimulated renin - angiotensin system in sodium and volume depletion .\t\n",
      "\n",
      "\n",
      "co @CHEMICAL@ [SEP] The risk and associated factors of methamphetamine psychosis in methamphetamine - dependent patients in Malaysia . OBJECTIVE : The objective of this study was to determine the risk of lifetime and current methamphetamine - induced psychosis in patients with methamphetamine dependence . The association between psychiatric co - morbidity and methamphetamine - induced psychosis was also studied . METHODS : This was a cross - sectional study conducted concurrently at a teaching hospital and a drug rehabilitation center in Malaysia . Patients with the diagnosis of methamphetamine based on DSM - IV were interviewed using the Mini International Neuropsychiatric Interview ( M . I . N . I . ) for methamphetamine - induced psychosis and other Axis I psychiatric disorders . The information on sociodemographic background and drug use history was obtained from interview or medical records . RESULTS : Of 292 subjects , 47 . 9 % of the subjects had a past history of psychotic symptoms and 13 . 0 % of the patients were having current psychotic symptoms . Co - morbid major depressive disorder ( OR = 7 . 18 , 95 CI = 2 . 612 - 19 . 708 ) , bipolar disorder ( OR = 13 . 807 , 95 CI = 5 . 194 - 36 . 706 ) , antisocial personality disorder ( OR = 12 . 619 , 95 CI = 6 . 702 - 23 . 759 ) and heavy methamphetamine uses were significantly associated with lifetime methamphetamine - induced psychosis after adjusted for other factors . Major depressive disorder ( OR = 2 . 870 , CI = 1 . 154 - 7 . 142 ) and antisocial personality disorder ( OR = 3 . 299 , 95 CI = 1 . 375 - 7 . 914 ) were the only factors associated with current psychosis . CONCLUSION : There was a high risk of psychosis in patients with methamphetamine dependence . It was associated with co - morbid affective disorder , antisocial personality , and heavy methamphetamine use . It is recommended that all cases of methamphetamine dependence should be screened for psychotic symptoms .\t\n",
      "\n",
      "\n",
      "levodopa @CHEMICAL@ [SEP] Cerebellar sensory processing alterations impact motor cortical plasticity in Parkinson ' s disease : clues from dyskinetic patients . The plasticity of primary motor cortex ( M1 ) in patients with Parkinson ' s disease ( PD ) and levodopa - induced dyskinesias ( LIDs ) is severely impaired . We recently reported in young healthy subjects that inhibitory cerebellar stimulation enhanced the sensorimotor plasticity of M1 that was induced by paired associative stimulation ( PAS ) . This study demonstrates that the deficient sensorimotor M1 plasticity in 16 patients with LIDs could be reinstated by a single session of real inhibitory cerebellar stimulation but not sham stimulation . This was evident only when a sensory component was involved in the induction of plasticity , indicating that cerebellar sensory processing function is involved in the resurgence of M1 plasticity . The benefit of inhibitory cerebellar stimulation on LIDs is known . To explore whether this benefit is linked to the restoration of sensorimotor plasticity of M1 , we conducted an additional study looking at changes in LIDs and PAS - induced plasticity after 10 sessions of either bilateral , real inhibitory cerebellar stimulation or sham stimulation . Only real and not sham stimulation had an antidyskinetic effect and it was paralleled by a resurgence in the sensorimotor plasticity of M1 . These results suggest that alterations in cerebellar sensory processing function , occurring secondary to abnormal basal ganglia signals reaching it , may be an important element contributing to the maladaptive sensorimotor plasticity of M1 and the emergence of abnormal involuntary movements .\tlevodopa @CHEMICAL@\n",
      "\n",
      "\n"
     ]
    }
   ],
   "source": [
    "# From our NER output:\n",
    "for i in test[:4]:\n",
    "    print(i)\n",
    "    print('\\n')\n"
   ]
  },
  {
   "cell_type": "code",
   "execution_count": 14,
   "id": "4f631bbd",
   "metadata": {},
   "outputs": [
    {
     "name": "stdout",
     "output_type": "stream",
     "text": [
      "famotidine @CHEMICAL@ delirium @DISEASE@ stress ulcers @DISEASE@ [SEP] Famotidine-associated delirium. A series of six cases. Famotidine is a histamine H2-receptor antagonist used in inpatient settings for prevention of stress ulcers and is showing increasing popularity because of its low cost. Although all of the currently available H2-receptor antagonists have shown the propensity to cause delirium, only two previously reported cases have been associated with famotidine. The authors report on six cases of famotidine-associated delirium in hospitalized patients who cleared completely upon removal of famotidine. The pharmacokinetics of famotidine are reviewed, with no change in its metabolism in the elderly population seen. The implications of using famotidine in elderly persons are discussed.\tfamotidine @CHEMICAL@ delirium @DISEASE@ @CID@\n",
      "\n",
      "\n",
      "indomethacin @CHEMICAL@ hypotension @DISEASE@ sodium @CHEMICAL@ prostaglandin @CHEMICAL@ [SEP] Indomethacin induced hypotension in sodium and volume depleted rats. After a single oral dose of 4 mg/kg indomethacin (IDM) to sodium and volume depleted rats plasma renin activity (PRA) and systolic blood pressure fell significantly within four hours. In sodium repleted animals indomethacin did not change systolic blood pressure (BP) although plasma renin activity was decreased. Thus, indomethacin by inhibition of prostaglandin synthesis may diminish the blood pressure maintaining effect of the stimulated renin-angiotensin system in sodium and volume depletion.\tindomethacin ; idm @CHEMICAL@ hypotension @DISEASE@ @CID@\n",
      "\n",
      "\n",
      "scleroderma renal crisis ; src @DISEASE@ tacrolimus @CHEMICAL@ prednisolone @CHEMICAL@ systemic sclerosis ; ssc @DISEASE@ thrombotic microangiopathy @DISEASE@ cyclosporine @CHEMICAL@ [SEP] Late-onset scleroderma renal crisis induced by tacrolimus and prednisolone: a case report. Scleroderma renal crisis (SRC) is a rare complication of systemic sclerosis (SSc) but can be severe enough to require temporary or permanent renal replacement therapy. Moderate to high dose corticosteroid use is recognized as a major risk factor for SRC. Furthermore, there have been reports of thrombotic microangiopathy precipitated by cyclosporine in patients with SSc. In this article, we report a patient with SRC induced by tacrolimus and corticosteroids. The aim of this work is to call attention to the risk of tacrolimus use in patients with SSc.\ttacrolimus @CHEMICAL@ systemic sclerosis ; ssc @DISEASE@ @CID@ corticosteroid ; corticosteroids @CHEMICAL@ systemic sclerosis ; ssc @DISEASE@ @CID@ cyclosporine @CHEMICAL@ thrombotic microangiopathy @DISEASE@ @CID@\n",
      "\n",
      "\n",
      "methamphetamine @CHEMICAL@ psychosis ; psychotic symptoms @DISEASE@ psychiatric ; axis i psychiatric disorders @DISEASE@ depressive disorder @DISEASE@ bipolar disorder @DISEASE@ [SEP] The risk and associated factors of methamphetamine psychosis in methamphetamine-dependent patients in Malaysia. OBJECTIVE: The objective of this study was to determine the risk of lifetime and current methamphetamine-induced psychosis in patients with methamphetamine dependence. The association between psychiatric co-morbidity and methamphetamine-induced psychosis was also studied. METHODS: This was a cross-sectional study conducted concurrently at a teaching hospital and a drug rehabilitation center in Malaysia. Patients with the diagnosis of methamphetamine based on DSM-IV were interviewed using the Mini International Neuropsychiatric Interview (M.I.N.I.) for methamphetamine-induced psychosis and other Axis I psychiatric disorders. The information on sociodemographic background and drug use history was obtained from interview or medical records. RESULTS: Of 292 subjects, 47.9% of the subjects had a past history of psychotic symptoms and 13.0% of the patients were having current psychotic symptoms. Co-morbid major depressive disorder (OR=7.18, 95 CI=2.612-19.708), bipolar disorder (OR=13.807, 95 CI=5.194-36.706), antisocial personality disorder (OR=12.619, 95 CI=6.702-23.759) and heavy methamphetamine uses were significantly associated with lifetime methamphetamine-induced psychosis after adjusted for other factors. Major depressive disorder (OR=2.870, CI=1.154-7.142) and antisocial personality disorder (OR=3.299, 95 CI=1.375-7.914) were the only factors associated with current psychosis. CONCLUSION: There was a high risk of psychosis in patients with methamphetamine dependence. It was associated with co-morbid affective disorder, antisocial personality, and heavy methamphetamine use. It is recommended that all cases of methamphetamine dependence should be screened for psychotic symptoms.\tmethamphetamine @CHEMICAL@ psychosis ; psychotic symptoms @DISEASE@ @CID@ methamphetamine @CHEMICAL@ bipolar disorder @DISEASE@ @CID@ methamphetamine @CHEMICAL@ antisocial personality disorder ; antisocial personality @DISEASE@ @CID@\n",
      "\n",
      "\n"
     ]
    }
   ],
   "source": [
    "# From pipeline output:\n",
    "for i in test[:4]:\n",
    "    print(i)\n",
    "    print('\\n')\n"
   ]
  },
  {
   "cell_type": "code",
   "execution_count": null,
   "id": "46b43025",
   "metadata": {},
   "outputs": [],
   "source": []
  },
  {
   "cell_type": "code",
   "execution_count": 32,
   "id": "3dd0f490",
   "metadata": {},
   "outputs": [
    {
     "data": {
      "text/plain": [
       "28839"
      ]
     },
     "execution_count": 32,
     "metadata": {},
     "output_type": "execute_result"
    }
   ],
   "source": [
    "from pathlib import Path\n",
    "output_dir = Path(\"custom_main_test_cdr\")\n",
    "output_dir.mkdir(parents=True, exist_ok=True)\n",
    "\n",
    "(output_dir / \"test_custom.tsv\").write_text(\"\\n\".join(test[:20]))"
   ]
  },
  {
   "cell_type": "code",
   "execution_count": null,
   "id": "63182f06",
   "metadata": {},
   "outputs": [],
   "source": [
    "# https://vsoch.github.io/lessons/sherlock-jobs/"
   ]
  },
  {
   "cell_type": "code",
   "execution_count": 33,
   "id": "d31dd15a",
   "metadata": {},
   "outputs": [
    {
     "name": "stdout",
     "output_type": "stream",
     "text": [
      "2023-02-21 19:00:51.152153: W tensorflow/stream_executor/platform/default/dso_loader.cc:64] Could not load dynamic library 'libcudart.so.11.0'; dlerror: libcudart.so.11.0: cannot open shared object file: No such file or directory; LD_LIBRARY_PATH: /N/soft/rhel7/python/3.9.8/lib:/N/soft/rhel7/intel/19.5/compilers_and_libraries_2019.5.281/linux/compiler/lib/intel64:/N/soft/rhel7/intel/19.5/compilers_and_libraries_2019.5.281/linux/ipp/lib/intel64:/N/soft/rhel7/intel/19.5/compilers_and_libraries_2019.5.281/linux/compiler/lib/intel64_lin:/N/soft/rhel7/intel/19.5/compilers_and_libraries_2019.5.281/linux/mkl/lib/intel64_lin:/N/soft/rhel7/intel/19.5/compilers_and_libraries_2019.5.281/linux/tbb/lib/intel64/gcc4.7:/N/soft/rhel7/intel/19.5/debugger_2019/iga/lib:/N/soft/rhel7/intel/19.5/debugger_2019/libipt/intel64/lib:/N/soft/rhel7/intel/19.5/compilers_and_libraries_2019.5.281/linux/daal/lib/intel64_lin:/N/soft/rhel7/gcc/12.1.0/lib64:/N/soft/rhel7/gcc/12.1.0/lib:/N/soft/rhel7/gcc/infrastructure/lib\n",
      "2023-02-21 19:00:51.152282: I tensorflow/stream_executor/cuda/cudart_stub.cc:29] Ignore above cudart dlerror if you do not have a GPU set up on your machine.\n",
      "2023-02-21 19:01:47,304 - INFO - allennlp.common.plugins - Plugin allennlp_models available\n",
      "2023-02-21 19:01:53,451 - INFO - cached_path - cache of https://github.com/JohnGiorgi/seq2rel/releases/download/pretrained-models/cdr.tar.gz is up-to-date\n",
      "2023-02-21 19:01:53,452 - INFO - allennlp.models.archival - loading archive file https://github.com/JohnGiorgi/seq2rel/releases/download/pretrained-models/cdr.tar.gz from cache at /N/u/paswam/Carbonate/.allennlp/cache/da436b73452adc6becdb387839c37b12a8fbf93f16990fd6a63accdc56cc39c1.b998c18b6f8de86129a44212ca3cf410f9b51dafcb920e3e7211b62c89d602ff\n",
      "2023-02-21 19:01:53,454 - INFO - allennlp.models.archival - extracting archive file /N/u/paswam/Carbonate/.allennlp/cache/da436b73452adc6becdb387839c37b12a8fbf93f16990fd6a63accdc56cc39c1.b998c18b6f8de86129a44212ca3cf410f9b51dafcb920e3e7211b62c89d602ff to temp dir /tmp/tmpx15iyjlo\n",
      "Special tokens have been added in the vocabulary, make sure the associated word embeddings are fine-tuned or trained.\n",
      "Special tokens have been added in the vocabulary, make sure the associated word embeddings are fine-tuned or trained.\n",
      "Special tokens have been added in the vocabulary, make sure the associated word embeddings are fine-tuned or trained.\n",
      "Special tokens have been added in the vocabulary, make sure the associated word embeddings are fine-tuned or trained.\n",
      "2023-02-21 19:02:02,904 - INFO - allennlp.data.vocabulary - Loading token dictionary from /tmp/tmpx15iyjlo/vocabulary.\n",
      "Some weights of the model checkpoint at microsoft/BiomedNLP-PubMedBERT-base-uncased-abstract-fulltext were not used when initializing BertModel: ['cls.predictions.transform.LayerNorm.weight', 'cls.predictions.transform.dense.bias', 'cls.predictions.bias', 'cls.seq_relationship.weight', 'cls.predictions.decoder.weight', 'cls.predictions.decoder.bias', 'cls.predictions.transform.dense.weight', 'cls.seq_relationship.bias', 'cls.predictions.transform.LayerNorm.bias']\n",
      "- This IS expected if you are initializing BertModel from the checkpoint of a model trained on another task or with another architecture (e.g. initializing a BertForSequenceClassification model from a BertForPreTraining model).\n",
      "- This IS NOT expected if you are initializing BertModel from the checkpoint of a model that you expect to be exactly identical (initializing a BertForSequenceClassification model from a BertForSequenceClassification model).\n",
      "2023-02-21 19:02:07,122 - INFO - allennlp.modules.token_embedders.embedding - Loading a model trained before embedding extension was implemented; pass an explicit vocab namespace if you want to extend the vocabulary.\n",
      "2023-02-21 19:02:07,450 - INFO - allennlp.models.archival - removing temporary unarchived model dir at /tmp/tmpx15iyjlo\n",
      "2023-02-21 19:02:07,594 - INFO - allennlp.common.checks - Pytorch version: 1.11.0+cu102\n",
      "2023-02-21 19:02:07,597 - INFO - allennlp.commands.evaluate - Reading evaluation data from test_custom\n",
      "loading instances: 0it [00:00, ?it/s]2023-02-21 19:02:07,601 - INFO - seq2rel.dataset_reader - Reading instances from lines in file at: custom_main_test_cdr/test_custom.tsv\n",
      "loading instances: 20it [00:00, 267.19it/s]\n",
      "2023-02-21 19:02:07,718 - INFO - allennlp.evaluation.evaluator - Iterating over dataset\n",
      "precision: 0.00, recall: 0.00, fscore: 0.00, loss: 29.93 ||: : 1it [04:25, 265.98s/it]\n",
      "2023-02-21 19:06:33,812 - INFO - allennlp.common.util - Metrics: {\n",
      "  \"precision\": 0.0,\n",
      "  \"recall\": 0.0,\n",
      "  \"fscore\": 0.0,\n",
      "  \"loss\": 29.933605194091797\n",
      "}\n",
      "2023-02-21 19:06:33,813 - INFO - allennlp.commands.evaluate - Finished evaluating.\n"
     ]
    }
   ],
   "source": [
    "!allennlp evaluate \"https://github.com/JohnGiorgi/seq2rel/releases/download/pretrained-models/cdr.tar.gz\" \\\n",
    "    \"custom_main_test_cdr/test_custom.tsv\" \\\n",
    "    --output-file \"test_metrics_custom.jsonl\" \\\n",
    "    --predictions-output-file \"test_predictions_custom.jsonl\" \\\n",
    "    --include-package \"seq2rel\"\n",
    "\n",
    "# https://github.com/allenai/allennlp/blob/main/allennlp/commands/evaluate.py\n",
    "# removed --cuda-device 0"
   ]
  },
  {
   "cell_type": "code",
   "execution_count": 41,
   "id": "1b001614",
   "metadata": {},
   "outputs": [
    {
     "data": {
      "text/plain": [
       "'[SEP] Effects of the intracoronary infusion of cocaine on left ventricular systolic and diastolic function in humans. BACKGROUND: In dogs, a large amount of intravenous cocaine causes a profound deterioration of left ventricular (LV) systolic function and an increase in LV end-diastolic pressure. This study was done to assess the influence of a high intracoronary cocaine concentration on LV systolic and diastolic function in humans. METHODS AND RESULTS: In 20 patients (14 men and 6 women aged 39 to 72 years) referred for cardiac catheterization for the evaluation of chest pain, we measured heart rate, systemic arterial pressure, LV pressure and its first derivative (dP/dt), and LV volumes and ejection fraction before and during the final 2 to 3 minutes of a 15-minute intracoronary infusion of saline (n=10, control subjects) or cocaine hydrochloride 1 mg/min (n=10). No variable changed with saline. With cocaine, the drug concentration in blood obtained from the coronary sinus was 3.0+/-0.4 (mean+/-SD) mg/L, similar in magnitude to the blood cocaine concentration reported in abusers dying of cocaine intoxication. Cocaine induced no significant change in heart rate, LV dP/dt (positive or negative), or LV end-diastolic volume, but it caused an increase in systolic and mean arterial pressures, LV end-diastolic pressure, and LV end-systolic volume, as well as a decrease in LV ejection fraction. CONCLUSIONS: In humans, the intracoronary infusion of cocaine sufficient in amount to achieve a high drug concentration in coronary sinus blood causes a deterioration of LV systolic and diastolic performance.\\tcocaine ; cocaine hydrochloride @CHEMICAL@ deterioration of left ventricular (lv) systolic function ; deterioration of lv systolic and diastolic performance @DISEASE@ @CID@'"
      ]
     },
     "execution_count": 41,
     "metadata": {},
     "output_type": "execute_result"
    }
   ],
   "source": [
    "test[310]"
   ]
  },
  {
   "cell_type": "code",
   "execution_count": null,
   "id": "ffb0c81d",
   "metadata": {},
   "outputs": [],
   "source": []
  },
  {
   "cell_type": "code",
   "execution_count": 53,
   "id": "6eb6a154",
   "metadata": {},
   "outputs": [
    {
     "name": "stdout",
     "output_type": "stream",
     "text": [
      "\n",
      " Predictions:  levodopa @CHEMICAL@ bradykinesia @DISEASE@ @CID@ levodopa @CHEMICAL@ rigidity @DISEASE@ @CID@ levodopa @CHEMICAL@ dyskinesias @DISEASE@ @CID@\n",
      "Target:  levodopa @CHEMICAL@ @CID@ 1\n",
      "For abstract:  {'source_tokens': ['[CLS]', 'levodopa', '@', 'chemical', '@', '[SEP]', 'bilateral', 'subth', '##alamic', 'nucleus', 'stimulation', 'for', 'parkinson', \"'\", 's', 'disease', '.', 'unlabelled', ':', 'high', 'frequency', 'stimulation', 'of', 'the', 'subth', '##alamic', 'nucleus', '(', 'stn', ')', 'is', 'known', 'to', 'ameliorate', 'the', 'signs', 'and', 'symptoms', 'of', 'advanced', 'parkinson', \"'\", 's', 'disease', '.', 'aim', ':', 'we', 'studied', 'the', 'effect', 'of', 'high', 'frequency', 'stn', 'stimulation', 'in', '23', 'patients', '.', 'method', ':', 'twenty', '-', 'three', 'patients', 'suffering', 'from', 'severe', 'parkinson', \"'\", 's', 'disease', '(', 'stages', 'iii', '-', 'v', 'on', 'ho', '##eh', '##n', 'and', 'ya', '##hr', 'scale', ')', 'and', ',', 'particularly', 'brady', '##kinesia', ',', 'rigidity', ',', 'and', 'levodopa', '-', 'induced', 'dys', '##kinesia', '##s', 'underwent', 'bilateral', 'implantation', 'of', 'electrodes', 'in', 'the', 'stn', '.', 'preoperative', 'and', 'postoperative', 'assessments', 'of', 'these', 'patients', 'at', '1', ',', '3', ',', '6', 'and', '12', 'months', 'follow', '-', 'up', ',', 'in', '\"', 'on', '\"', 'and', '\"', 'off', '\"', 'drug', 'conditions', ',', 'was', 'carried', 'out', 'using', 'unified', 'parkinson', \"'\", 's', 'disease', 'rating', 'scale', ',', 'ho', '##eh', '##n', 'and', 'ya', '##hr', 'staging', ',', 'england', 'activities', 'of', 'daily', 'living', 'score', 'and', 'video', 'recordings', '.', 'results', ':', 'after', 'one', 'year', 'of', 'electrical', 'stimulation', 'of', 'the', 'stn', ',', 'the', 'patients', \"'\", 'scores', 'for', 'activities', 'of', 'daily', 'living', 'and', 'motor', 'examination', 'scores', '(', 'unified', 'parkinson', \"'\", 's', 'disease', 'rating', 'scale', 'parts', 'ii', 'and', 'iii', ')', 'off', 'medication', 'improved', 'by', '62', '%', 'and', '61', '%', 'respectively', '(', 'p', '<', '0', '.', '0005', ')', '.', 'the', 'subs', '##core', '##s', 'for', 'the', 'akin', '##esia', ',', 'rigidity', ',', 'tremor', 'and', 'gait', 'also', 'improved', '.', '(', 'p', '<', '0', '.', '0005', ')', '.', 'the', 'average', 'levodopa', 'dose', 'decreased', 'from', '81', '##3', 'mg', 'to', '359', 'mg', '.', 'the', 'cognitive', 'functions', 'remained', 'unchanged', '.', 'two', 'patients', 'developed', 'device', '-', 'related', 'complications', 'and', 'two', 'patients', 'experienced', 'abnormal', 'weight', 'gain', '.', 'conclusion', ':', 'bilateral', 'subth', '##alamic', 'nucleus', 'stimulation', 'is', 'an', 'effective', 'treatment', 'for', 'advanced', 'parkinson', \"'\", 's', 'disease', '.', 'it', 'reduces', 'the', 'severity', 'of', '\"', 'off', '\"', 'phase', 'symptoms', ',', 'improves', 'the', 'axial', 'symptoms', 'and', 'reduces', 'levodopa', 'requirements', '.', 'the', 'reduction', 'in', 'the', 'levodopa', 'dose', 'is', 'useful', 'in', 'controlling', 'drug', '-', 'induced', 'dys', '##kinesia', '##s', '.', '[SEP]'], 'target_tokens': ['levodopa', '@CHEMICAL@', '@CID@']}\n",
      "\n",
      " Predictions:  acetaminophen ; apap @CHEMICAL@ nephrotoxicity @DISEASE@ @CID@ acetaminophen ; apap @CHEMICAL@ proximal tubular necrosis @DISEASE@ @CID@\n",
      "Target:  pap @CHEMICAL@ @CID@ 3\n",
      "For abstract:  {'source_tokens': ['[CLS]', 'p', '-', 'amino', '##phenol', '@', 'chemical', '@', 'pap', '@', 'chemical', '@', '[SEP]', 'the', 'role', 'of', 'p', '-', 'amino', '##phenol', 'in', 'acetaminophen', '-', 'induced', 'nephrotoxicity', ':', 'effect', 'of', 'bis', '(', 'p', '-', 'nitrophenyl', ')', 'phosphate', 'on', 'acetaminophen', 'and', 'p', '-', 'amino', '##phenol', 'nephrotoxicity', 'and', 'metabolism', 'in', 'fischer', '344', 'rats', '.', 'acetaminophen', '(', 'apap', ')', 'produces', 'proximal', 'tubular', 'necrosis', 'in', 'fischer', '344', '(', 'f3', '##44', ')', 'rats', '.', 'recently', ',', 'p', '-', 'amino', '##phenol', '(', 'pap', ')', ',', 'a', 'known', 'potent', 'nephrot', '##oxic', '##ant', ',', 'was', 'identified', 'as', 'a', 'metabolite', 'of', 'apap', 'in', 'f3', '##44', 'rats', '.', 'the', 'purpose', 'of', 'this', 'study', 'was', 'to', 'determine', 'if', 'pap', 'formation', 'is', 'a', 'requisite', 'step', 'in', 'apap', '-', 'induced', 'nephrotoxicity', '.', 'therefore', ',', 'the', 'effect', 'of', 'bis', '(', 'p', '-', 'nitrophenyl', ')', 'phosphate', '(', 'bnp', '##p', ')', ',', 'an', 'acyl', '##amid', '##ase', 'inhibitor', ',', 'on', 'apap', 'and', 'pap', 'nephrotoxicity', 'and', 'metabolism', 'was', 'determined', '.', 'bnp', '##p', '(', '1', 'to', '8', 'mm', ')', 'reduced', 'apap', 'deacetylation', 'and', 'covalent', 'binding', 'in', 'f3', '##44', 'renal', 'cortical', 'homogenates', 'in', 'a', 'concentration', '-', 'dependent', 'manner', '.', 'pretreatment', 'of', 'animals', 'with', 'bnp', '##p', 'prior', 'to', 'apap', 'or', 'pap', 'administration', 'resulted', 'in', 'marked', 'reduction', 'of', 'apap', '(', '900', 'mg', '/', 'kg', ')', 'nephrotoxicity', 'but', 'not', 'pap', 'nephrotoxicity', '.', 'this', 'result', 'was', 'not', 'due', 'to', 'altered', 'disposition', 'of', 'either', 'apap', 'or', 'acetylated', 'metabolites', 'in', 'plasma', 'or', 'renal', 'cortical', 'and', 'hepatic', 'tissue', '.', 'rather', ',', 'bnp', '##p', 'pretreatment', 'reduced', 'the', 'fraction', 'of', 'apap', 'excreted', 'as', 'pap', 'by', '64', 'and', '75', '%', 'after', 'apap', 'doses', 'of', '750', 'and', '900', 'mg', '/', 'kg', '.', 'bnp', '##p', 'did', 'not', 'alter', 'the', 'excretion', 'of', 'apap', 'or', 'any', 'of', 'its', 'non', '-', 'deacetyl', '##ated', 'metabolites', 'nor', 'did', 'bnp', '##p', 'alter', 'excretion', 'of', 'pap', 'or', 'its', 'metabolites', 'after', 'pap', 'doses', 'of', '150', 'and', '300', 'mg', '/', 'kg', '.', 'therefore', ',', 'the', 'bnp', '##p', '-', 'induced', 'reduction', 'in', 'apap', '-', 'induced', 'nephrotoxicity', 'appears', 'to', 'be', 'due', 'to', 'inhibition', 'of', 'apap', 'deacetylation', '.', 'it', 'is', 'concluded', 'that', 'pap', 'formation', ',', 'in', 'vivo', ',', 'accounts', ',', 'at', 'least', 'in', 'part', ',', 'for', 'apap', '-', 'induced', 'renal', 'tubular', 'necrosis', '.', '[SEP]'], 'target_tokens': ['pap', '@CHEMICAL@', '@CID@']}\n",
      "\n",
      " Predictions:  streptozotocin ; stz @CHEMICAL@ cognitive deficits ; cognitive deficits @DISEASE@ @CID@ streptozotocin ; stz @CHEMICAL@ cognitive deficits ; dementia ; cognitive deficits @DISEASE@ @CID@\n",
      "Target:  galactose @CHEMICAL@ glucose @CHEMICAL@ @CID@ 4\n",
      "For abstract:  {'source_tokens': ['[CLS]', 'galactose', ';', 'd', '-', 'galactose', '@', 'chemical', '@', 'glucose', ';', 'd', '-', 'glucose', '@', 'chemical', '@', '[SEP]', 'long', '-', 'term', 'oral', 'galactose', 'treatment', 'prevents', 'cognitive', 'deficits', 'in', 'male', 'wistar', 'rats', 'treated', 'intracere', '##bro', '##ventricular', '##ly', 'with', 'streptozotocin', '.', 'basic', 'and', 'clinical', 'research', 'has', 'demonstrated', 'that', 'dementia', 'of', 'sporadic', 'alzheimer', \"'\", 's', 'disease', '(', 'sad', ')', 'type', 'is', 'associated', 'with', 'dysfunction', 'of', 'the', 'insulin', '-', 'receptor', '(', 'ir', ')', 'system', 'followed', 'by', 'decreased', 'glucose', 'transport', 'via', 'glucose', 'transporter', 'glut4', 'and', 'decreased', 'glucose', 'metabolism', 'in', 'brain', 'cells', '.', 'an', 'alternative', 'source', 'of', 'energy', 'is', 'd', '-', 'galactose', '(', 'the', 'c', '-', '4', '-', 'epi', '##mer', 'of', 'd', '-', 'glucose', ')', 'which', 'is', 'transported', 'into', 'the', 'brain', 'by', 'insulin', '-', 'independent', 'glut', '##3', 'transporter', 'where', 'it', 'might', 'be', 'metabolized', 'to', 'glucose', 'via', 'the', 'le', '##lo', '##ir', 'pathway', '.', 'exclusively', 'parenteral', 'daily', 'injections', 'of', 'galactose', 'induce', 'memory', 'deterioration', 'in', 'rodents', 'and', 'are', 'used', 'to', 'generate', 'animal', 'aging', 'model', ',', 'but', 'the', 'effects', 'of', 'oral', 'galactose', 'treatment', 'on', 'cognitive', 'functions', 'have', 'never', 'been', 'tested', '.', 'we', 'have', 'investigated', 'the', 'effects', 'of', 'continuous', 'daily', 'oral', 'galactose', '(', '200', 'mg', '/', 'kg', '/', 'day', ')', 'treatment', 'on', 'cognitive', 'deficits', 'in', 'streptozotocin', '-', 'induced', '(', 'stz', '-', 'icv', ')', 'rat', 'model', 'of', 'sad', ',', 'tested', 'by', 'morris', 'water', 'maze', 'and', 'passive', 'avoidance', 'test', ',', 'respectively', '.', 'one', 'month', 'of', 'oral', 'galactose', 'treatment', 'initiated', 'immediately', 'after', 'the', 'stz', '-', 'icv', 'administration', ',', 'successfully', 'prevented', 'development', 'of', 'the', 'stz', '-', 'icv', '-', 'induced', 'cognitive', 'deficits', '.', 'beneficial', 'effect', 'of', 'oral', 'galactose', 'was', 'independent', 'of', 'the', 'rat', 'age', 'and', 'of', 'the', 'galactose', 'dose', 'ranging', 'from', '100', 'to', '300', 'mg', '/', 'kg', '/', 'day', '.', 'additionally', ',', 'oral', 'galactose', 'administration', 'led', 'to', 'the', 'appearance', 'of', 'galactose', 'in', 'the', 'blood', '.', 'the', 'increase', 'of', 'galactose', 'concentration', 'in', 'the', 'cerebrospinal', 'fluid', 'was', 'several', 'times', 'lower', 'after', 'oral', 'than', 'after', 'parenteral', 'administration', 'of', 'the', 'same', 'galactose', 'dose', '.', 'oral', 'galactose', 'exposure', 'might', 'have', 'beneficial', 'effects', 'on', 'learning', 'and', 'memory', 'ability', 'and', 'could', 'be', 'worth', 'investigating', 'for', 'improvement', 'of', 'cognitive', 'deficits', 'associated', 'with', 'glucose', 'hypom', '##eta', '##bo', '##li', '##sm', 'in', 'ad', '.', '[SEP]'], 'target_tokens': ['galactose', '@CHEMICAL@', 'glucose', '@CHEMICAL@', '@CID@']}\n",
      "\n",
      " Predictions:  levodopa @CHEMICAL@ dyskinesia @DISEASE@ @CID@\n",
      "Target:  levodopa @CHEMICAL@ @CID@ 6\n",
      "For abstract:  {'source_tokens': ['[CLS]', 'levodopa', '@', 'chemical', '@', '[SEP]', 'risk', 'factors', 'and', 'predictors', 'of', 'levodopa', '-', 'induced', 'dys', '##kinesia', 'among', 'multi', '##eth', '##nic', 'malaysia', '##ns', 'with', 'parkinson', \"'\", 's', 'disease', '.', 'unlabelled', ':', 'chronic', 'pulsatile', 'levodopa', 'therapy', 'for', 'parkinson', \"'\", 's', 'disease', '(', 'pd', ')', 'leads', 'to', 'the', 'development', 'of', 'motor', 'fluctuations', 'and', 'dys', '##kinesia', '.', 'we', 'studied', 'the', 'prevalence', 'and', 'predictors', 'of', 'levodopa', '-', 'induced', 'dys', '##kinesia', 'among', 'multi', '##eth', '##nic', 'malaysia', '##n', 'patients', 'with', 'pd', '.', 'methods', ':', 'this', 'is', 'a', 'cross', '-', 'sectional', 'study', 'involving', '95', 'patients', 'with', 'pd', 'on', 'unint', '##err', '##upt', '##ed', 'levodopa', 'therapy', 'for', 'at', 'least', '6', 'months', '.', 'the', 'instrument', 'used', 'was', 'the', 'upd', '##rs', 'questionnaires', '.', 'the', 'predictors', 'of', 'dys', '##kinesia', 'were', 'determined', 'using', 'multivariate', 'logistic', 'regression', 'analysis', '.', 'results', ':', 'the', 'mean', 'age', 'was', '65', '.', '6', '+', '-', '8', '.', '5', 'years', '.', 'the', 'mean', 'onset', 'age', 'was', '58', '.', '5', '+', '-', '9', '.', '8', 'years', '.', 'the', 'median', 'disease', 'duration', 'was', '6', '(', '7', ')', 'years', '.', 'dys', '##kinesia', 'was', 'present', 'in', '44', '%', '(', 'n', '=', '42', ')', 'with', 'median', 'levodopa', 'therapy', 'of', '3', 'years', '.', 'there', 'were', '64', '.', '3', '%', 'chinese', ',', '31', '%', 'malays', ',', 'and', '3', '.', '7', '%', 'indian', '##s', 'and', 'other', 'ethnic', 'groups', '.', 'eighty', '-', 'one', 'percent', 'of', 'patients', 'with', 'dys', '##kinesia', 'had', 'clinical', 'fluctuations', '.', 'patients', 'with', 'dys', '##kinesia', 'had', 'lower', 'onset', 'age', '(', 'p', '<', '0', '.', '001', ')', ',', 'longer', 'duration', 'of', 'levodopa', 'therapy', '(', 'p', '<', '0', '.', '001', ')', ',', 'longer', 'disease', 'duration', '(', 'p', '<', '0', '.', '001', ')', ',', 'higher', 'total', 'daily', 'levodopa', 'dose', '(', 'p', '<', '0', '.', '001', ')', ',', 'and', 'higher', 'total', 'upd', '##rs', 'scores', '(', 'p', '=', '0', '.', '005', ')', 'than', 'patients', 'without', 'dys', '##kinesia', '.', 'the', 'three', 'significant', 'predictors', 'of', 'dys', '##kinesia', 'were', 'duration', 'of', 'levodopa', 'therapy', ',', 'onset', 'age', ',', 'and', 'total', 'daily', 'levodopa', 'dose', '.', 'conclusions', ':', 'the', 'prevalence', 'of', 'levodopa', '-', 'induced', 'dys', '##kinesia', 'in', 'our', 'patients', 'was', '44', '%', '.', 'the', 'most', 'significant', 'predictors', 'were', 'duration', 'of', 'levodopa', 'therapy', ',', 'total', 'daily', 'levodopa', 'dose', ',', 'and', 'onset', 'age', '.', '[SEP]'], 'target_tokens': ['levodopa', '@CHEMICAL@', '@CID@']}\n",
      "\n",
      " Predictions:  calcium carbonate @CHEMICAL@ hypercalcemia @DISEASE@ @CID@\n",
      "Target:  calcium @CHEMICAL@ carbonate @CHEMICAL@ @CID@ 10\n",
      "For abstract:  {'source_tokens': ['[CLS]', 'calcium', '@', 'chemical', '@', 'carbonate', '@', 'chemical', '@', '[SEP]', 'etiology', 'of', 'hypercal', '##cemia', 'in', 'hemodialysis', 'patients', 'on', 'calcium', 'carbonate', 'therapy', '.', 'fourteen', 'of', '39', 'dialysis', 'patients', '(', '36', '%', ')', 'became', 'hypercal', '##cemic', 'after', 'switching', 'to', 'calcium', 'carbonate', 'as', 'their', 'principal', 'phosphate', 'binder', '.', 'in', 'order', 'to', 'identify', 'risk', 'factors', 'associated', 'with', 'the', 'development', 'of', 'hypercal', '##cemia', ',', 'indirect', 'parameters', 'of', 'intestinal', 'calcium', 'reabsorption', 'and', 'bone', 'turnover', 'rate', 'in', 'these', '14', 'patients', 'were', 'compared', 'with', 'results', 'in', '14', 'euc', '##alc', '##emic', 'patients', 'matched', 'for', 'age', ',', 'sex', ',', 'length', 'of', 'time', 'on', 'dialysis', ',', 'and', 'etiology', 'of', 'renal', 'disease', '.', 'in', 'addition', 'to', 'experiencing', 'hypercal', '##cemic', 'episodes', 'with', 'peak', 'calcium', 'values', 'of', '2', '.', '7', 'to', '3', '.', '8', 'mmol', '/', 'l', '(', '10', '.', '7', 'to', '15', '.', '0', 'mg', '/', 'dl', ')', ',', 'patients', 'in', 'the', 'hypercal', '##cemic', 'group', 'exhibited', 'a', 'significant', 'increase', 'in', 'the', 'mean', 'calcium', 'concentration', 'obtained', 'during', '6', 'months', 'before', 'the', 'switch', ',', 'compared', 'with', 'the', 'mean', 'value', 'obtained', 'during', 'the', '7', 'months', 'of', 'observation', 'after', 'the', 'switch', '(', '2', '.', '4', '+', '/', '-', '0', '.', '03', 'to', '2', '.', '5', '+', '/', '-', '0', '.', '03', 'mmol', '/', 'l', '[', '9', '.', '7', '+', '/', '-', '0', '.', '2', 'to', '10', '.', '2', '+', '/', '-', '0', '.', '1', 'mg', '/', 'dl', ']', ',', 'p', '=', '0', '.', '006', ')', '.', 'in', 'contrast', ',', 'euc', '##alc', '##emic', 'patients', 'exhibited', 'no', 'change', 'in', 'mean', 'calcium', 'values', 'over', 'the', 'same', 'time', 'period', '(', '2', '.', '3', '+', '/', '-', '0', '.', '05', 'to', '2', '.', '3', '+', '/', '-', '0', '.', '05', 'mmol', '/', 'l', '[', '9', '.', '2', '+', '/', '-', '0', '.', '2', 'to', '9', '.', '2', '+', '/', '-', '0', '.', '2', 'mg', '/', 'dl', ']', ')', '.', 'caco', '##3', 'dosage', ',', 'calculated', 'dietary', 'calcium', 'intake', ',', 'and', 'circulating', 'levels', 'of', 'vitamin', 'd', 'metabolites', 'were', 'similar', 'in', 'both', 'groups', '.', 'physical', 'activity', 'index', 'and', 'pred', '##ialysis', 'serum', 'bicarbonate', 'levels', 'also', 'were', 'similar', 'in', 'both', 'groups', '.', 'however', ',', 'there', 'was', 'a', 'significant', 'difference', 'in', 'parameters', 'reflecting', 'bone', 'turnover', 'rates', 'between', 'groups', '.', '(', 'abstract', 'truncated', 'at', '250', 'words', ')', '[SEP]'], 'target_tokens': ['calcium', '@CHEMICAL@', 'carbonate', '@CHEMICAL@', '@CID@']}\n",
      "\n",
      " Predictions:  celecoxib ; ce @CHEMICAL@ erythema @DISEASE@ @CID@ celecoxib ; ce @CHEMICAL@ rush @DISEASE@ @CID@ celecoxib ; ce @CHEMICAL@ angioedema @DISEASE@ @CID@ nimesulide @CHEMICAL@ erythema @DISEASE@ @CID@ nimesulide @CHEMICAL@ urticaria @DISEASE@ @CID@ nimesulide @CHEMICAL@ angioedema @DISEASE@ @CID@\n",
      "Target:  ce @CHEMICAL@ @CID@ 12\n",
      "For abstract:  {'source_tokens': ['[CLS]', 'ce', '@', 'chemical', '@', '[SEP]', 'safety', 'of', 'celecoxib', 'in', 'patients', 'with', 'adverse', 'skin', 'reactions', 'to', 'acetaminophen', '(', 'paracetamol', ')', 'and', 'nim', '##es', '##uli', '##de', 'associated', 'or', 'not', 'with', 'common', 'non', '-', 'steroidal', 'anti', '-', 'inflammatory', 'drugs', '.', 'background', ':', 'acetaminophen', '(', 'paracetamol', '-', '-', 'p', ')', 'and', 'nim', '##es', '##uli', '##de', '(', 'n', ')', 'are', 'widely', 'used', 'analgesic', '-', 'anti', '##pyr', '##etic', '/', 'anti', '-', 'inflammatory', 'drugs', '.', 'the', 'rate', 'of', 'adverse', 'hypersensitivity', 'reactions', 'to', 'these', 'agents', 'is', 'generally', 'low', '.', 'on', 'the', 'contrary', 'non', '-', 'steroidal', 'anti', '-', 'inflammatory', 'drugs', '(', 'nsaids', ')', 'are', 'commonly', 'involved', 'in', 'such', 'reactions', '.', 'celecoxib', '(', 'ce', ')', 'is', 'a', 'novel', 'drug', ',', 'with', 'high', 'selectivity', 'and', 'affinity', 'for', 'cox', '-', '2', 'enzyme', '.', 'objective', ':', 'we', 'evaluated', 'the', 'tolerability', 'of', 'ce', 'in', 'a', 'group', 'of', 'patients', 'with', 'documented', 'history', 'of', 'adverse', 'cutaneous', 'reactions', 'to', 'p', 'and', 'n', 'associated', 'or', 'not', 'to', 'classic', 'nsaids', '.', 'methods', ':', 'we', 'studied', '9', 'patients', 'with', 'hypersensitivity', 'to', 'p', 'and', 'n', 'with', 'or', 'without', 'associated', 'reactions', 'to', 'classic', 'nsaids', '.', 'the', 'diagnosis', 'of', 'p', 'and', 'n', '-', 'induced', 'skin', 'reactions', 'was', 'based', 'in', 'vivo', 'challenge', '.', 'the', 'placebo', 'was', 'blind', '##ly', 'administered', 'at', 'the', 'beginning', 'of', 'each', 'challenge', '.', 'after', 'three', 'days', ',', 'a', 'cumulative', 'dosage', 'of', '200', 'mg', 'of', 'ce', 'in', 'refract', '##ed', 'doses', 'were', 'given', '.', 'after', '2', '-', '3', 'days', ',', 'a', 'single', 'dose', 'of', '200', 'mg', 'was', 'administered', '.', 'all', 'patients', 'were', 'observed', 'for', '6', 'hours', 'after', 'each', 'challenge', ',', 'and', 'controlled', 'again', 'after', '24', 'hours', 'to', 'exclude', 'delayed', 'reactions', '.', 'the', 'challenge', 'was', 'considered', 'positive', 'if', 'one', 'or', 'more', 'of', 'the', 'following', 'appeared', ':', 'erythema', ',', 'rus', '##h', 'or', 'urtic', '##aria', '-', 'angio', '##edema', '.', 'results', ':', 'no', 'reaction', 'was', 'observed', 'with', 'placebo', 'and', 'eight', 'patients', '(', '88', '.', '8', '%', ')', 'tolerated', 'ce', '.', 'only', 'one', 'patient', 'developed', 'a', 'moderate', 'angio', '##edema', 'of', 'the', 'lips', '.', 'conclusion', ':', 'only', 'one', 'hypersensitivity', 'reaction', 'to', 'ce', 'was', 'documented', 'among', '9', 'p', 'and', 'n', '-', 'highly', 'nsaids', 'intoler', '##ant', 'patients', '.', 'thus', ',', 'we', 'conclude', 'that', 'ce', 'is', 'a', 'reasonably', 'safe', 'alternative', 'to', 'be', 'used', 'in', 'subjects', 'who', 'do', 'not', 'tolerate', 'p', 'and', 'n', '.', '[SEP]'], 'target_tokens': ['ce', '@CHEMICAL@', '@CID@']}\n",
      "\n",
      " Predictions:  phenylephrine ; phe @CHEMICAL@ hypertension ; map elevation @DISEASE@ @CID@ sodium nitroprusside ; sn @CHEMICAL@ hypotension @DISEASE@ @CID@\n",
      "Target:  arginine @CHEMICAL@ sodium @CHEMICAL@ @CID@ 19\n",
      "For abstract:  {'source_tokens': ['[CLS]', 'arginine', '@', 'chemical', '@', 'sodium', '@', 'chemical', '@', '[SEP]', 'central', 'cardiovascular', 'effects', 'of', 'avp', 'and', 'anp', 'in', 'normotensive', 'and', 'spontaneously', 'hypertensive', 'rats', '.', 'the', 'purpose', 'of', 'the', 'present', 'study', 'was', 'to', 'compare', 'influence', 'of', 'central', 'arginine', 'vasopressin', '(', 'avp', ')', 'and', 'of', 'atrial', 'natriuretic', 'peptide', '(', 'anp', ')', 'on', 'control', 'of', 'arterial', 'blood', 'pressure', '(', 'map', ')', 'and', 'heart', 'rate', '(', 'hr', ')', 'in', 'normotensive', '(', 'wky', ')', 'and', 'spontaneously', 'hypertensive', '(', 'shr', ')', 'rats', '.', 'three', 'series', 'of', 'experiments', 'were', 'performed', 'on', '30', 'wky', 'and', '30', 'shr', ',', 'chronically', 'instrument', '##ed', 'with', 'guide', 'tubes', 'in', 'the', 'lateral', 'ventricle', '(', 'lv', ')', 'and', 'arterial', 'and', 'venous', 'catheters', '.', 'map', 'and', 'hr', 'were', 'monitored', 'before', 'and', 'after', 'i', '.', 'v', '.', 'injections', 'of', 'either', 'vehicle', 'or', '1', ',', '10', 'and', '50', 'ng', 'of', 'avp', 'and', '25', ',', '125', 'and', '500', 'ng', 'of', 'anp', '.', 'sensitivity', 'of', 'cardiac', 'component', 'of', 'bar', '##oreflex', '(', 'cc', '##b', ')', ',', 'expressed', 'as', 'a', 'slope', 'of', 'the', 'regression', 'line', 'was', 'determined', 'from', 'relationships', 'between', 'systolic', 'arterial', 'pressure', '(', 'sap', ')', 'and', 'hr', 'period', '(', 'hrp', ')', 'during', 'phenylephrine', '(', 'phe', ')', '-', 'induced', 'hypertension', 'and', 'sodium', 'nitro', '##pr', '##uss', '##ide', '(', 'sn', ')', '-', 'induced', 'hypotension', '.', 'cc', '##b', 'was', 'measured', 'before', 'and', 'after', 'administration', 'of', 'either', 'vehicle', ',', 'avp', ',', 'anp', ',', 'or', 'both', 'peptides', 'together', '.', 'increases', 'of', 'map', 'occurred', 'after', 'lv', 'administration', 'of', '1', ',', '10', 'and', '50', 'ng', 'of', 'avp', 'in', 'wky', 'and', 'of', '10', 'and', '50', 'ng', 'in', 'shr', '.', 'anp', 'did', 'not', 'cause', 'significant', 'changes', 'in', 'map', 'in', 'both', 'strains', 'as', 'compared', 'to', 'vehicle', ',', 'but', 'it', 'abolished', 'avp', '-', 'induced', 'map', 'increase', 'in', 'wky', 'and', 'shr', '.', 'cc', '##b', 'was', 'reduced', 'in', 'wky', 'and', 'shr', 'after', 'lv', 'administration', 'of', 'avp', 'during', 'sn', '-', 'induced', 'hypotension', '.', 'in', 'shr', 'but', 'not', 'in', 'wky', 'administration', 'of', 'anp', ',', 'avp', 'and', 'anp', '+', 'avp', 'decreased', 'cc', '##b', 'during', 'phe', '-', 'induced', 'map', 'elevation', '.', 'the', 'results', 'indicate', 'that', 'centrally', 'applied', 'avp', 'and', 'anp', 'exert', 'differential', 'effects', 'on', 'blood', 'pressure', 'and', 'bar', '##oreflex', 'control', 'of', 'heart', 'rate', 'in', 'wky', 'and', 'shr', 'and', 'suggest', 'interaction', 'of', 'these', 'two', 'peptides', 'in', 'blood', 'pressure', 'regulation', 'at', 'the', 'level', 'of', 'central', 'nervous', 'system', '.', '[SEP]'], 'target_tokens': ['arginine', '@CHEMICAL@', 'sodium', '@CHEMICAL@', '@CID@']}\n",
      "\n",
      " Predictions:  levodopa @CHEMICAL@ neuropsychiatric behaviors ; neuropsychiatric disorders @DISEASE@ @CID@ 1 - methyl - 4 - phenyl - 1, 2, 3, 6 - tetrahydropyridine @CHEMICAL@ neuropsychiatric behaviors ; neuropsychiatric disorders @DISEASE@ @CID@\n",
      "Target:  levodopa @CHEMICAL@ @CID@ 30\n",
      "For abstract:  {'source_tokens': ['[CLS]', 'levodopa', ';', 'levodopa', '@', 'chemical', '@', 'dopamine', '@', 'chemical', '@', '[SEP]', 'neuropsychiatric', 'behaviors', 'in', 'the', 'mptp', 'marm', '##ose', '##t', 'model', 'of', 'parkinson', \"'\", 's', 'disease', '.', 'objectives', ':', 'neuropsychiatric', 'symptoms', 'are', 'increasingly', 'recognised', 'as', 'a', 'significant', 'problem', 'in', 'patients', 'with', 'parkinson', \"'\", 's', 'disease', '(', 'pd', ')', '.', 'these', 'symptoms', 'may', 'be', 'due', 'to', \"'\", 'sensiti', '##sa', '##tion', \"'\", 'following', 'repeated', 'levodopa', 'treatment', 'or', 'a', 'direct', 'effect', 'of', 'dopamine', 'on', 'the', 'disease', 'state', '.', 'the', 'levodopa', '-', 'treated', 'mptp', '-', 'lesioned', 'marm', '##ose', '##t', 'was', 'used', 'as', 'a', 'model', 'of', 'neuropsychiatric', 'symptoms', 'in', 'pd', 'patients', '.', 'here', 'we', 'compare', 'the', 'time', 'course', 'of', 'levodopa', '-', 'induced', 'motor', 'fluctuations', 'and', 'neuropsychiatric', '-', 'like', 'behaviors', 'to', 'determine', 'the', 'relationship', 'between', 'duration', 'of', 'treatment', 'and', 'onset', 'of', 'symptoms', '.', 'methods', ':', 'marm', '##ose', '##ts', 'were', 'administered', '1', '-', 'methyl', '-', '4', '-', 'phenyl', '-', '1', ',', '2', ',', '3', ',', '6', '-', 'tetrahydro', '##pyr', '##idine', '(', '2', '.', '0', 'mg', '/', 'kg', 's', '.', 'c', '.', ')', 'for', 'five', 'days', ',', 'resulting', 'in', 'stable', 'parkinsonism', '.', 'levodopa', '(', '15', 'mg', '/', 'kg', 'and', 'ben', '##ser', '##azide', ',', '3', '.', '75', 'mg', '/', 'kg', ')', 'p', '.', 'o', '.', 'b', '.', 'i', '.', 'd', ',', 'was', 'administered', 'for', '30', 'days', '.', 'animals', 'were', 'evaluated', 'for', 'parkinson', '##ian', 'disability', ',', 'dys', '##kinesia', 'and', 'on', '-', 'time', '(', 'motor', 'fluctuations', ')', 'and', 'neuropsychiatric', '-', 'like', 'behaviors', 'on', 'day', '0', '(', 'prior', 'to', 'levodopa', ')', 'and', 'on', 'days', '1', ',', '7', ',', '13', ',', '27', 'and', '30', 'of', 'treatment', 'using', 'post', 'hoc', 'dv', '##d', 'analysis', 'by', 'a', 'trained', 'rater', ',', 'blind', 'to', 'the', 'treatment', 'day', '.', 'results', ':', 'the', 'neuropsychiatric', '-', 'like', 'behavior', 'rating', 'scale', 'demonstrated', 'high', 'inter', '##ra', '##ter', 'reliability', 'between', 'three', 'trained', 'raters', 'of', 'differing', 'professional', 'backgrounds', '.', 'as', 'anticipated', ',', 'animals', 'exhibited', 'a', 'progressive', 'increase', 'in', 'levodopa', '-', 'induced', 'motor', 'fluctuations', ',', 'dys', '##kinesia', 'and', 'wearing', '-', 'off', ',', 'that', 'correlated', 'with', 'the', 'duration', 'of', 'levodopa', 'therapy', '.', 'in', 'contrast', ',', 'levodopa', '-', 'induced', 'neuropsychiatric', '-', 'like', 'behaviors', 'were', 'present', 'on', 'day', '1', 'of', 'levodopa', 'treatment', 'and', 'their', 'severity', 'did', 'not', 'correlate', 'with', 'duration', 'of', 'treatment', '.', 'conclusions', ':', 'the', 'data', 'suggest', 'that', 'neuropsychiatric', 'disorders', 'in', 'pd', 'are', 'more', 'likely', 'an', 'interaction', 'between', 'levodopa', 'and', 'the', 'disease', 'state', 'than', 'a', 'consequence', 'of', 'sensiti', '##sa', '##tion', 'to', 'repeated', 'dopaminergic', 'therapy', '.', '[SEP]'], 'target_tokens': ['levodopa', '@CHEMICAL@', '@CID@']}\n",
      "\n",
      " Predictions:  cobalt @CHEMICAL@ heart failure @DISEASE@ @CID@ doxorubicin @CHEMICAL@ heart failure @DISEASE@ @CID@\n",
      "Target:  cobalt @CHEMICAL@ @CID@ 31\n",
      "For abstract:  {'source_tokens': ['[CLS]', 'cobalt', '@', 'chemical', '@', 'norepinephrine', '@', 'chemical', '@', '[SEP]', 'human', 'and', 'canine', 'ventricular', 'vasoactive', 'intestinal', 'polypeptide', ':', 'decrease', 'with', 'heart', 'failure', '.', 'vasoactive', 'intestinal', 'polypeptide', '(', 'vip', ')', 'is', 'a', 'systemic', 'and', 'coronary', 'vasodilator', 'that', 'may', 'have', 'positive', 'inotropic', 'properties', '.', 'myocardial', 'levels', 'of', 'vip', 'were', 'assayed', 'before', 'and', 'after', 'the', 'development', 'of', 'heart', 'failure', 'in', 'two', 'canine', 'models', '.', 'in', 'the', 'first', ',', 'cobalt', 'cardiomyopathy', 'was', 'induced', 'in', 'eight', 'dogs', ';', 'vip', '(', 'by', 'radioimmunoassay', ')', 'decreased', 'from', '35', '+', '/', '-', '11', 'pg', '/', 'mg', 'protein', '(', 'mean', '+', '/', '-', 'sd', ')', 'to', '5', '+', '/', '-', '4', 'pg', '/', 'mg', 'protein', '(', 'p', 'less', 'than', '0', '.', '05', ')', '.', 'in', 'six', 'dogs', 'with', 'doxorubicin', '-', 'induced', 'heart', 'failure', ',', 'vip', 'decreased', 'from', '31', '+', '/', '-', '7', 'to', '11', '+', '/', '-', '4', 'pg', '/', 'mg', 'protein', '(', 'p', 'less', 'than', '0', '.', '05', ')', '.', 'in', 'addition', ',', 'vip', 'content', 'of', 'left', 'ventricular', 'muscle', 'of', 'resected', 'failing', 'hearts', 'in', '10', 'patients', 'receiving', 'a', 'heart', 'transplant', 'was', 'compared', 'with', 'the', 'papillary', 'muscles', 'in', '14', 'patients', '(', 'five', 'with', 'rheumatic', 'disease', ',', 'nine', 'with', 'myx', '##omatous', 'degeneration', ')', 'receiving', 'mitral', 'valve', 'prostheses', '.', 'the', 'lowest', 'myocardial', 'vip', 'concentration', 'was', 'found', 'in', 'the', 'hearts', 'of', 'patients', 'with', 'coronary', 'disease', '(', 'one', 'patient', 'receiving', 'a', 'transplant', 'and', 'three', 'receiving', 'mitral', 'prostheses', ')', '(', '6', '.', '3', '+', '/', '-', '1', '.', '9', 'pg', '/', 'mg', 'protein', ')', '.', 'the', 'other', 'patients', 'undergoing', 'transplantation', 'had', 'an', 'average', 'ejection', 'fraction', 'of', '17', '%', '+', '/', '-', '6', '%', 'and', 'a', 'vip', 'level', 'of', '8', '.', '8', '+', '/', '-', '3', '.', '9', 'pg', '/', 'mg', 'protein', '.', 'the', 'hearts', 'without', 'coronary', 'artery', 'disease', '(', 'average', 'ejection', 'fraction', 'of', 'this', 'group', '62', '%', '+', '/', '-', '10', '%', ')', 'had', 'a', 'vip', 'concentration', 'of', '14', '.', '1', '+', '/', '-', '7', '.', '9', 'pg', '/', 'mg', 'protein', ',', 'and', 'this', 'was', 'greater', 'than', 'in', 'hearts', 'of', 'the', 'patients', 'with', 'coronary', 'disease', 'and', 'the', 'hearts', 'of', 'patients', 'receiving', 'a', 'transplant', '(', 'p', 'less', 'than', '0', '.', '05', ')', '.', 'myocardial', 'catecholamines', 'were', 'also', 'determined', 'in', '14', 'subjects', ';', 'a', 'weak', 'correlation', '(', 'r', '=', '0', '.', '57', ',', 'p', 'less', 'than', '0', '.', '05', ')', 'between', 'the', 'tissue', 'concentrations', 'of', 'vip', 'and', 'norepinephrine', 'was', 'noted', '.', '(', 'abstract', 'truncated', 'at', '250', 'words', ')', '[SEP]'], 'target_tokens': ['cobalt', '@CHEMICAL@', '@CID@']}\n",
      "\n",
      " Predictions:  isoprenaline @CHEMICAL@ cardiac arrhythmias @DISEASE@ @CID@ isoprenaline @CHEMICAL@ ventricular tachycardia @DISEASE@ @CID@ ouabain @CHEMICAL@ ventricular tachycardia @DISEASE@ @CID@\n",
      "Target:  adrenaline @CHEMICAL@ @CID@ 42\n",
      "For abstract:  {'source_tokens': ['[CLS]', 'glucose', '@', 'chemical', '@', 'lactate', '@', 'chemical', '@', 'adrenal', '##ine', '@', 'chemical', '@', '[SEP]', 'the', 'biological', 'properties', 'of', 'the', 'optical', 'isomers', 'of', 'propranolol', 'and', 'their', 'effects', 'on', 'cardiac', 'arrhythmias', '.', '1', '.', 'the', 'optical', 'isomers', 'of', 'propranolol', 'have', 'been', 'compared', 'for', 'their', 'beta', '-', 'blocking', 'and', 'anti', '##arrhyth', '##mic', 'activities', '.', '2', '.', 'in', 'blocking', 'the', 'positive', 'inotropic', 'and', 'chron', '##otropic', 'responses', 'to', 'isopren', '##aline', ',', '(', '+', ')', '-', 'propranolol', 'had', 'less', 'than', 'one', 'hundred', '##th', 'the', 'potency', 'of', '(', '-', ')', '-', 'propranolol', '.', 'at', 'dose', 'levels', 'of', '(', '+', ')', '-', 'propranolol', 'which', 'attenuated', 'the', 'responses', 'to', 'isopren', '##aline', ',', 'there', 'was', 'a', 'significant', 'prolongation', 'of', 'the', 'pr', 'interval', 'of', 'the', 'electrocardiogram', '.', '3', '.', 'the', 'metabolic', 'responses', 'to', 'isopren', '##aline', 'in', 'dogs', '(', 'an', 'increase', 'in', 'circulating', 'glucose', ',', 'lactate', 'and', 'free', 'fatty', 'acids', ')', 'were', 'all', 'blocked', 'by', '(', '-', ')', '-', 'propranolol', '.', '(', '+', ')', '-', 'propranolol', 'had', 'no', 'effect', 'on', 'fatty', 'acid', 'mobilization', 'but', 'significantly', 'reduced', 'the', 'increments', 'in', 'both', 'lactate', 'and', 'glucose', '.', '4', '.', 'both', 'isomers', 'of', 'propranolol', 'possessed', 'similar', 'depress', '##ant', 'potency', 'on', 'isolated', 'atrial', 'muscle', 'taken', 'from', 'guinea', '-', 'pigs', '.', '5', '.', 'the', 'isomers', 'of', 'propranolol', 'exhibited', 'similar', 'local', 'anaesthetic', 'pot', '##encies', 'on', 'an', 'isolated', 'frog', 'nerve', 'preparation', 'at', 'a', 'level', 'approximately', 'three', 'times', 'that', 'of', 'proc', '##aine', '.', 'the', 'race', '##mic', 'compound', 'was', 'significantly', 'less', 'potent', 'than', 'either', 'isomer', '.', '6', '.', 'both', 'isomers', 'of', 'propranolol', 'were', 'capable', 'of', 'preventing', 'adrenal', '##ine', '-', 'induced', 'cardiac', 'arrhythmias', 'in', 'cats', 'anaesthetized', 'with', 'halo', '##th', '##ane', ',', 'but', 'the', 'mean', 'dose', 'of', '(', '-', ')', '-', 'propranolol', 'was', '0', '.', '09', '+', '/', '-', '0', '.', '02', 'mg', '/', 'kg', 'whereas', 'that', 'of', '(', '+', ')', '-', 'propranolol', 'was', '4', '.', '2', '+', '/', '-', '1', '.', '2', 'mg', '/', 'kg', '.', 'at', 'the', 'effective', 'dose', 'level', 'of', '(', '+', ')', '-', 'propranolol', 'there', 'was', 'a', 'significant', 'prolongation', 'of', 'the', 'pr', 'interval', 'of', 'the', 'electrocardiogram', '.', 'blockade', 'of', 'arrhythmias', 'with', 'both', 'isomers', 'was', 'sur', '##mo', '##unt', '##able', 'by', 'increasing', 'the', 'dose', 'of', 'adrenal', '##ine', '.', '7', '.', 'both', 'isomers', 'of', 'propranolol', 'were', 'also', 'capable', 'of', 'reversing', 'ventricular', 'tachycardia', 'caused', 'by', 'ouabain', 'in', 'anaesthetized', 'cats', 'and', 'dogs', '.', 'the', 'dose', 'of', '(', '-', ')', '-', 'propranolol', 'was', 'significantly', 'smaller', 'than', 'that', 'of', '(', '+', ')', '-', 'propranolol', 'in', 'both', 'species', 'but', 'much', 'higher', 'than', 'that', 'required', 'to', 'produce', 'evidence', 'of', 'beta', '-', 'blockade', '.', '8', '.', 'the', 'implications', 'of', 'these', 'results', 'are', 'discussed', '.', '[SEP]'], 'target_tokens': ['adrenal', '##ine', '@CHEMICAL@', '@CID@']}\n",
      "\n",
      " Predictions:  adenosine triphosphate ; atp @CHEMICAL@ hypotension @DISEASE@ @CID@ sodium nitroprusside ; snp @CHEMICAL@ hypotension @DISEASE@ @CID@\n",
      "Target:  sodium @CHEMICAL@ @CID@ 49\n",
      "For abstract:  {'source_tokens': ['[CLS]', 'adenosine', 'triphosphate', ';', 'adenosine', 'triphosphate', ';', 'atp', '@', 'chemical', '@', 'sodium', '@', 'chemical', '@', '[SEP]', 'cardiovascular', 'effects', 'of', 'hypotension', 'induced', 'by', 'adenosine', 'triphosphate', 'and', 'sodium', 'nitro', '##pr', '##uss', '##ide', 'on', 'dogs', 'with', 'den', '##erv', '##ated', 'hearts', '.', 'adenosine', 'triphosphate', '(', 'atp', ')', 'and', 'sodium', 'nitro', '##pr', '##uss', '##ide', '(', 'snp', ')', 'are', 'administered', 'to', 'patients', 'to', 'induce', 'and', 'control', 'hypotension', 'during', 'anesthesia', '.', 'snp', 'is', 'authorized', 'for', 'clinical', 'use', 'in', 'usa', 'and', 'uk', ',', 'and', 'atp', 'is', 'clinically', 'used', 'in', 'other', 'countries', 'such', 'as', 'japan', '.', 'we', 'investigated', 'how', 'these', 'two', 'drugs', 'act', 'on', 'the', 'cardiovascular', 'systems', 'of', '20', 'dogs', 'whose', 'hearts', 'had', 'been', 'den', '##erv', '##ated', 'by', 'a', 'procedure', 'we', 'had', 'devised', '.', 'atp', '(', '10', 'dogs', ')', 'or', 'snp', '(', '10', 'dogs', ')', 'was', 'administered', 'to', 'reduce', 'mean', 'arterial', 'pressure', 'by', '30', '%', 'to', '70', '%', 'of', 'control', '.', 'before', ',', 'during', 'and', 'after', 'induced', 'hypotension', ',', 'we', 'measured', 'major', 'cardiovascular', 'parameters', '.', 'hypotension', 'induced', 'by', 'atp', 'was', 'accompanied', 'by', 'significant', 'decreases', 'in', 'mean', 'pulmonary', 'arterial', 'pressure', '(', 'p', 'less', 'than', '0', '.', '001', ')', ',', 'central', 'venous', 'pressure', '(', 'p', 'less', 'than', '0', '.', '001', ')', ',', 'left', 'ventricular', 'end', '-', 'diastolic', 'pressure', '(', 'p', 'less', 'than', '0', '.', '001', ')', ',', 'total', 'peripheral', 'resistance', '(', 'p', 'less', 'than', '0', '.', '001', ')', ',', 'rate', 'pressure', 'product', '(', 'p', 'less', 'than', '0', '.', '001', ')', ',', 'total', 'body', 'oxygen', 'consumption', '(', 'p', 'less', 'than', '0', '.', '05', ')', ',', 'and', 'heart', 'rate', '(', 'p', 'less', 'than', '0', '.', '001', ')', ';', 'all', 'these', 'variables', 'returned', 'normal', 'within', '30', 'min', 'after', 'atp', 'was', 'stopped', '.', 'cardiac', 'output', 'did', 'not', 'change', '.', 'during', 'hypotension', 'produced', 'by', 'snp', 'similar', 'decreases', 'were', 'observed', 'in', 'mean', 'pulmonary', 'arterial', 'pressure', '(', 'p', 'less', 'than', '0', '.', '01', ')', ',', 'central', 'venous', 'pressure', '(', 'p', 'less', 'than', '0', '.', '001', ')', ',', 'left', 'ventricular', 'end', '-', 'diastolic', 'pressure', '(', 'p', 'less', 'than', '0', '.', '01', ')', ',', 'total', 'peripheral', 'resistance', '(', 'p', 'less', 'than', '0', '.', '001', ')', ',', 'rate', 'pressure', 'product', '(', 'p', 'less', 'than', '0', '.', '001', ')', ',', 'and', 'oxygen', 'content', 'difference', 'between', 'arterial', 'and', 'mixed', 'venous', 'blood', '(', 'p', 'less', 'than', '0', '.', '05', ')', ',', 'while', 'heart', 'rate', '(', 'p', 'less', 'than', '0', '.', '001', ')', 'and', 'cardiac', 'output', '(', 'p', 'less', 'than', '0', '.', '05', ')', 'were', 'increased', '.', 'recoveries', 'of', 'heart', 'rate', 'and', 'left', 'ventricular', 'end', '-', 'diastolic', 'pressure', 'were', 'not', 'shown', 'within', '60', 'min', 'after', 'snp', 'had', 'been', 'stopped', '.', 'both', 'atp', 'and', 'snp', 'should', 'act', 'on', 'the', 'pacemaker', 'tissue', 'of', 'the', 'heart', '.', '[SEP]'], 'target_tokens': ['sodium', '@CHEMICAL@', '@CID@']}\n",
      "\n",
      " Predictions:  cocaine @CHEMICAL@ cardiotoxity @DISEASE@ @CID@ cocaine @CHEMICAL@ ventricular arrhythmias ; myocardial depression @DISEASE@ @CID@ ethanol @CHEMICAL@ ventricular arrhythmias ; ventricular tachycardia @DISEASE@ @CID@ ethanol @CHEMICAL@ ventricular arrhythmias ; ventricular tachycardia @DISEASE@ @CID@\n",
      "Target:  ethanol @CHEMICAL@ ce @CHEMICAL@ @CID@ 65\n",
      "For abstract:  {'source_tokens': ['[CLS]', 'ethanol', '@', 'chemical', '@', 'ce', '@', 'chemical', '@', 'co', '@', 'chemical', '@', '[SEP]', 'cocaine', ',', 'ethanol', ',', 'and', 'coc', '##ae', '##thy', '##len', '##e', 'cardio', '##to', '##xi', '##ty', 'in', 'an', 'animal', 'model', 'of', 'cocaine', 'and', 'ethanol', 'abuse', '.', 'objectives', ':', 'simultaneous', 'abuse', 'of', 'cocaine', 'and', 'ethanol', 'affects', '12', 'million', 'americans', 'annually', '.', 'in', 'combination', ',', 'these', 'substances', 'are', 'substantially', 'more', 'toxic', 'than', 'either', 'drug', 'alone', '.', 'their', 'combined', 'cardiac', 'toxicity', 'may', 'be', 'due', 'to', 'independent', 'effects', 'of', 'each', 'drug', ';', 'however', ',', 'they', 'may', 'also', 'be', 'due', 'to', 'coc', '##ae', '##thy', '##len', '##e', '(', 'ce', ')', ',', 'a', 'cocaine', 'metabolite', 'formed', 'only', 'in', 'the', 'presence', 'of', 'ethanol', '.', 'the', 'purpose', 'of', 'this', 'study', 'was', 'to', 'delineate', 'the', 'role', 'of', 'ce', 'in', 'the', 'combined', 'cardiotoxicity', 'of', 'cocaine', 'and', 'ethanol', 'in', 'a', 'model', 'simulating', 'their', 'abuse', '.', 'methods', ':', 'twenty', '-', 'three', 'dogs', 'were', 'randomized', 'to', 'receive', 'either', '1', ')', 'three', 'intravenous', '(', 'iv', ')', 'bolus', '##es', 'of', 'cocaine', '7', '.', '5', 'mg', '/', 'kg', 'with', 'ethanol', '(', '1', 'g', '/', 'kg', ')', 'as', 'an', 'iv', 'infusion', '(', 'c', '+', 'e', ',', 'n', '=', '8', ')', ',', '2', ')', 'three', 'cocaine', 'bolus', '##es', 'only', '(', 'c', ',', 'n', '=', '6', ')', ',', '3', ')', 'ethanol', 'infusion', 'only', '(', 'e', ',', 'n', '=', '5', ')', ',', 'or', '4', ')', 'placebo', 'bolus', '##es', 'and', 'infusion', '(', 'n', '=', '4', ')', '.', 'hemodynamic', 'measurements', ',', 'electrocardiogram', '##s', ',', 'and', 'serum', 'drug', 'concentrations', 'were', 'obtained', 'at', 'baseline', ',', 'and', 'then', 'at', 'fixed', 'time', 'intervals', 'after', 'each', 'drug', 'was', 'administered', '.', 'results', ':', 'two', 'of', 'eight', 'dogs', 'in', 'the', 'c', '+', 'e', 'group', 'experienced', 'cardiovascular', 'collapse', '.', 'the', 'most', 'dramatic', 'hemodynamic', 'changes', 'occurred', 'after', 'each', 'cocaine', 'bolus', 'in', 'the', 'c', '+', 'e', 'and', 'c', 'only', 'groups', ';', 'however', ',', 'persistent', 'hemodynamic', 'changes', 'occurred', 'in', 'the', 'c', '+', 'e', 'group', '.', 'peak', 'ce', 'levels', 'were', 'associated', 'with', 'a', '45', '%', '(', 'sd', '+', '/', '-', '22', '%', ',', '95', '%', 'ci', '=', '22', '%', 'to', '69', '%', ')', 'decrease', 'in', 'cardiac', 'output', '(', 'p', '<', '0', '.', '05', ')', ',', 'a', '56', '%', '(', 'sd', '+', '/', '-', '23', '%', ',', '95', '%', 'ci', '=', '32', '%', 'to', '80', '%', ')', 'decrease', 'in', 'dp', '/', 'dt', '(', 'max', ')', '(', 'p', '<', '.', '006', ')', ',', 'and', 'a', '23', '%', '(', 'sd', '+', '/', '-', '15', '%', ',', '95', '%', 'ci', '=', '7', '%', 'to', '49', '%', ')', 'decrease', 'in', 'sv', '##o', '(', '2', ')', '(', 'p', '<', '0', '.', '025', ')', '.', 'ventricular', 'arrhythmias', 'were', 'primarily', 'observed', 'in', 'the', 'c', '+', 'e', 'group', ',', 'in', 'which', 'four', 'of', 'eight', 'dogs', 'experienced', 'ventricular', 'tachycardia', '.', 'conclusions', ':', 'cocaine', 'and', 'ethanol', 'in', 'combination', 'were', 'more', 'toxic', 'than', 'either', 'substance', 'alone', '.', 'co', '-', 'administration', 'resulted', 'in', 'prolonged', 'cardiac', 'toxicity', 'and', 'was', 'dys', '##rh', '##yth', '##mog', '##enic', '.', 'peak', 'serum', 'coc', '##ae', '##thy', '##len', '##e', 'concentrations', 'were', 'associated', 'with', 'prolonged', 'myocardial', 'depression', '.', '[SEP]'], 'target_tokens': ['ethanol', '@CHEMICAL@', 'ce', '@CHEMICAL@', '@CID@']}\n"
     ]
    }
   ],
   "source": [
    "import pandas as pd    \n",
    "jsonObj = pd.read_json(path_or_buf='test_predictions_500.jsonl', lines=True)\n",
    "for i in range(len(jsonObj['predicted_strings'].iloc[0])):\n",
    "    if(jsonObj['target_strings'].iloc[0][i]): # Use for test_predictions_500.jsonl\n",
    "        print('\\n Predictions: ', jsonObj['predicted_strings'].iloc[0][i])\n",
    "        print('Target: ', jsonObj['target_strings'].iloc[0][i], i)\n",
    "        print('For abstract: ', jsonObj['metadata'].iloc[0][i])\n",
    "\n",
    "        # Predictions final output of seq2rel\n",
    "        # Target is the target string (filtered) in cdr\n",
    "        \n",
    "# Important things to see:\n",
    "    # In 5th output, our NER was unable to detect 3-hydroxy-2-butanone (maybe removed because of redundancy issue), but\n",
    "    # the RE model has picked this entity and predicted as having a relation to disease.\n",
    "    # This shows that the model does not only depend on the Entity hinting to get entities."
   ]
  },
  {
   "cell_type": "code",
   "execution_count": null,
   "id": "da1d87a4",
   "metadata": {},
   "outputs": [],
   "source": []
  },
  {
   "cell_type": "code",
   "execution_count": null,
   "id": "3c80cd67",
   "metadata": {},
   "outputs": [],
   "source": []
  },
  {
   "cell_type": "code",
   "execution_count": 52,
   "id": "1475b21f",
   "metadata": {},
   "outputs": [
    {
     "name": "stdout",
     "output_type": "stream",
     "text": [
      "\n",
      " Predictions:  glucose @CHEMICAL@ @ @ unknown @ @ ion @DISEASE@ @CID@\n",
      "Target:   0\n",
      "For abstract:  {'source_tokens': ['[CLS]', 'glucose', '@', 'chemical', '@', '[SEP]', 'objectives', ':', 'the', 'aim', 'of', 'this', 'work', 'was', 'to', 'study', 'the', 'changes', 'of', 'bacterial', 'cell', 'growth', ',', 'acet', '##ion', 'formation', 'and', 'glucose', 'consumption', 'with', 'fermentation', 'time', 'during', 'batch', 'cultivation', '.', 'results', ':', 'a', 'mathematical', 'model', 'of', 'cell', 'growth', ',', 'product', 'synthesis', ',', 'and', 'substrate', 'consumption', 'changes', 'with', 'time', 'during', 'the', 'batch', 'cultivation', 'of', 'acet', '##ion', 'was', 'established', '.', 'by', 'analyzing', 'the', 'fitting', 'curve', 'of', 'the', 'kinetic', 'model', ',', 'it', 'is', 'found', 'that', 'the', 'calculated', 'value', 'of', 'the', 'model', 'fits', 'well', 'with', 'the', 'experimental', 'value', ',', 'and', 'the', 'fitting', 'model', 'r2', 'is', 'greater', 'than', '0', '.', '98', '.', 'conclusions', ':', 'the', 'kinetic', 'model', 'established', 'in', 'this', 'experiment', 'can', 'better', 'reflect', 'the', 'batch', 'cultivation', 'process', 'of', 'acet', '##ion', '.', '[SEP]'], 'target_tokens': []}\n",
      "\n",
      " Predictions:  fat @CHEMICAL@ fat @DISEASE@ @CID@ 2 - hexanol @CHEMICAL@ cheeses @DISEASE@ @CID@ acetoin @CHEMICAL@ @ @ unknown @ @ oin @CHEMICAL@ @ @ unknown @ @ s @DISEASE@ @CID@\n",
      "Target:   1\n",
      "For abstract:  {'source_tokens': ['[CLS]', 'alcohols', '@', 'chemical', '@', '[SEP]', 'in', 'this', 'study', ',', 'physicochemical', 'composition', ',', 'nitrogen', 'fractions', 'and', 'volatile', 'compounds', 'of', 'goat', 'cheese', '##s', 'manufactured', 'using', 'art', '##isa', '##nal', 'liquid', 'coagul', '##ant', 'by', 'four', 'different', 'manufacturers', 'in', 'a', 'mountain', '##ous', 'area', 'were', 'investigated', '.', 'fresh', 'goat', 'cheese', '##s', 'were', 'characterized', 'by', 'their', 'high', 'fat', 'and', 'high', 'levels', 'of', 'total', 'free', 'amino', 'acids', '.', 'volatile', 'profiles', 'were', 'isolated', 'by', 'a', 'solid', '-', 'phase', 'micro', '##ex', '##tra', '##ction', 'technique', '(', 'spm', '##e', '/', 'gc', '-', 'ms', ')', 'and', 'analyzed', 'by', 'gas', 'chrom', '##ography', '-', 'mass', 'spectrometry', '(', 'gc', '-', 'ms', ')', '.', 'in', 'the', 'cheese', '##s', ',', '50', 'arom', '##a', 'components', 'were', 'identified', 'as', 'ten', 'acids', ',', 'nine', 'ter', '##pens', ',', 'nine', 'alcohols', ',', 'eight', 'esters', ',', 'six', 'aldehydes', ',', 'five', 'ketone', '##s', ',', 'two', 'volatile', 'phenol', '##s', 'and', 'one', 'nor', '##iso', '##pren', '##oid', 'with', '13', 'carbon', 'atoms', '.', 'the', 'major', 'arom', '##a', 'compounds', 'found', 'were', 'non', '##anoic', 'acid', ',', '2', '-', 'hex', '##anol', 'and', 'acet', '##oin', '.', '[SEP]'], 'target_tokens': []}\n",
      "\n",
      " Predictions:  acetoin @CHEMICAL@ acetoin @CHEMICAL@ @ @ unknown @ @ oin @CHEMICAL@ @ @ unknown @ @ @DISEASE@ @CID@\n",
      "Target:   2\n",
      "For abstract:  {'source_tokens': ['[CLS]', 'sugar', '@', 'chemical', '@', '[SEP]', 'acet', '##oin', 'is', 'used', 'in', 'the', 'biochemical', ',', 'chemical', 'and', 'pharmaceutical', 'industries', '.', 'several', 'effective', 'methods', 'for', 'acet', '##oin', 'production', 'from', 'petroleum', '-', 'based', 'substrates', 'have', 'been', 'developed', ',', 'but', 'they', 'all', 'have', 'an', 'environmental', 'impact', 'and', 'do', 'not', 'meet', 'sustainability', 'criteria', '.', 'here', 'we', 'describe', 'a', 'simple', 'and', 'efficient', 'method', 'for', 'acet', '##oin', 'production', 'from', 'oil', 'palm', 'meso', '##car', '##p', 'fiber', 'hydrolys', '##ate', 'using', 'engineered', 'escherichia', 'coli', '.', 'an', 'optimization', 'of', 'culture', 'conditions', 'for', 'acet', '##oin', 'production', 'was', 'carried', 'out', 'using', 'reagent', '-', 'grade', 'chemicals', '.', 'the', 'final', 'concentration', 'reached', '29', '.', '9', '##gl', '-', '1', 'with', 'a', 'theoretical', 'yield', 'of', '79', '%', '.', 'the', 'optimal', 'pretreatment', 'conditions', 'for', 'preparing', 'hydrolys', '##ate', 'with', 'higher', 'sugar', 'yields', 'were', 'then', 'determined', '.', 'when', 'acet', '##oin', 'was', 'produced', 'using', 'hydrolys', '##ate', 'fort', '##ified', 'with', 'yeast', 'extract', ',', 'the', 'theoretical', 'yield', 'reached', '97', '%', 'with', 'an', 'acet', '##oin', 'concentration', 'of', '15', '.', '5g', '##l', '-', '1', '.', 'the', 'acet', '##oin', 'productivity', 'was', '10', '-', 'fold', 'higher', 'than', 'that', 'obtained', 'using', 'reagent', '-', 'grade', 'sugars', '.', 'this', 'approach', 'makes', 'use', 'of', 'a', 'compromise', 'strategy', 'for', 'effective', 'utilization', 'of', 'oil', 'palm', 'biomass', 'towards', 'industrial', 'application', '.', '[SEP]'], 'target_tokens': []}\n",
      "\n",
      " Predictions:  2 - ketogluconate @CHEMICAL@ acetoin @CHEMICAL@ acetoin @CHEMICAL@ @ @ unknown @ @ oin @CHEMICAL@ @ @ unknown @ @ oin @CHEMICAL@ @ @ unknown @ @ oin @CHEMICAL@ @ @ unknown @ @ oin @DISEASE@ @CID@\n",
      "Target:   3\n",
      "For abstract:  {'source_tokens': ['[CLS]', 'lactate', '@', 'chemical', '@', 'glucose', '@', 'chemical', '@', '[SEP]', 'enterobacter', 'aer', '##ogenes', 'was', 'metabolically', 'engineered', 'for', 'acet', '##oin', 'production', '.', 'to', 'remove', 'the', 'pathway', 'enzymes', 'that', 'catalyzed', 'the', 'formation', 'of', 'by', '-', 'products', ',', 'the', 'three', 'genes', 'encoding', 'a', 'lactate', 'dehydrogenase', '(', 'ldh', '##a', ')', 'and', 'two', '2', ',', '3', '-', 'but', '##aned', '##iol', 'dehydrogenase', '##s', '(', 'bud', '##c', ',', 'and', 'dha', '##d', ')', ',', 'respectively', ',', 'were', 'deleted', 'from', 'the', 'genome', '.', 'the', 'acet', '##oin', 'production', 'was', 'higher', 'under', 'highly', 'aerobic', 'conditions', '.', 'however', ',', 'an', 'extracellular', 'glucose', 'oxidative', 'pathway', 'in', 'e', '.', 'aer', '##ogenes', 'was', 'activated', 'under', 'the', 'aerobic', 'conditions', ',', 'resulting', 'in', 'the', 'accumulation', 'of', '2', '-', 'keto', '##gluc', '##onate', '.', 'to', 'decrease', 'the', 'accumulation', 'of', 'this', 'by', '-', 'product', ',', 'the', 'gene', 'encoding', 'a', 'glucose', 'dehydrogenase', '(', 'gc', '##d', ')', 'was', 'also', 'deleted', '.', 'the', 'resulting', 'strain', 'did', 'not', 'produce', '2', '-', 'keto', '##gluc', '##onate', 'but', 'produced', 'significant', 'amounts', 'of', 'acet', '##oin', ',', 'with', 'concentration', 'reaching', '71', '.', '7g', '/', 'l', 'with', '2', '.', '87', '##g', '/', 'l', '/', 'h', 'productivity', 'in', 'fed', '-', 'batch', 'fermentation', '.', 'this', 'result', 'demonstrated', 'the', 'importance', 'of', 'blocking', 'the', 'glucose', 'oxidative', 'pathway', 'under', 'highly', 'aerobic', 'conditions', 'for', 'acet', '##oin', 'production', 'using', 'e', '.', 'aer', '##ogenes', '.', '[SEP]'], 'target_tokens': []}\n",
      "\n",
      " Predictions:  acetoin @CHEMICAL@ hydroxy ; 3 - hydroxy - 2 - butanone @CHEMICAL@ scratch alert @DISEASE@ @CID@\n",
      "Target:   4\n",
      "For abstract:  {'source_tokens': ['[CLS]', 'hydroxy', '@', 'chemical', '@', '2', '-', 'but', '##anone', '@', 'chemical', '@', '[SEP]', 'recent', 'avian', 'influenza', 'infection', 'outbreaks', 'have', 'resulted', 'in', 'global', 'bios', '##ecu', '##ri', '##ty', 'and', 'economic', 'concerns', '.', 'mall', '##ards', 'are', 'asymptomatic', 'for', 'the', 'disease', 'and', 'can', 'potentially', 'spread', 'ai', 'along', 'migratory', 'bird', 'fly', '##ways', '.', 'in', 'a', 'previous', 'study', ',', 'trained', 'mice', 'correctly', 'discriminated', 'the', 'health', 'status', 'of', 'individual', 'duck', '##s', 'on', 'the', 'basis', 'of', 'fecal', 'odors', 'when', 'feces', 'from', 'post', '-', 'infection', 'periods', 'were', 'paired', 'with', 'feces', 'from', 'pre', '-', 'infection', 'periods', '.', 'chemical', 'analyses', 'indicated', 'that', 'avian', 'influenza', 'infection', 'was', 'associated', 'with', 'a', 'marked', 'increase', 'of', 'acet', '##oin', '(', '3', '-', 'hydroxy', '-', '2', '-', 'but', '##anone', ')', 'in', 'feces', '.', 'in', 'the', 'current', 'study', ',', 'domestic', '##ated', 'male', 'ferre', '##ts', '(', 'must', '##ela', 'put', '##ori', '##us', 'fur', '##o', ')', 'were', 'trained', 'to', 'display', 'a', 'specific', 'conditioned', 'response', '(', 'i', '.', 'e', '.', 'active', 'scratch', 'alert', ')', 'in', 'response', 'to', 'a', 'marked', 'increase', 'of', 'acet', '##oin', 'in', 'a', 'presentation', 'of', 'an', 'acet', '##oin', ':', '1', '-', 'oct', '##en', '-', '3', '-', 'ol', 'solution', '.', 'ferre', '##ts', 'rapidly', 'generalized', 'this', 'learned', 'response', 'to', 'the', 'odor', 'of', 'irradiated', 'feces', 'from', 'avian', 'influenza', 'infected', 'mall', '##ards', '.', 'these', 'results', 'suggest', 'that', 'a', 'trained', 'mammalian', 'biosensor', 'could', 'be', 'employed', 'in', 'an', 'avian', 'influenza', 'surveillance', 'program', '.', '[SEP]'], 'target_tokens': []}\n",
      "\n",
      " Predictions:  sugar @CHEMICAL@ wines ; sugar @CHEMICAL@ wines ; red wines @DISEASE@ @CID@\n",
      "Target:   5\n",
      "For abstract:  {'source_tokens': ['[CLS]', 'sugar', '@', 'chemical', '@', '[SEP]', 'a', 'set', 'of', '91', '##7', 'wine', '##s', 'of', 'czech', 'origin', 'were', 'analysed', 'using', 'nuclear', 'magnetic', 'resonance', 'spectroscopy', '(', 'nmr', ')', 'with', 'the', 'aim', 'of', 'building', 'and', 'evaluating', 'multivariate', 'statistical', 'models', 'and', 'machine', 'learning', 'methods', 'for', 'the', 'classification', 'of', '6', 'types', 'based', 'on', 'colour', 'and', 'residual', 'sugar', 'content', ',', '13', 'wine', 'grape', 'varieties', 'and', '4', 'locations', 'based', 'on', '1h', 'nmr', 'spectra', '.', 'the', 'predictive', 'models', 'afforded', 'greater', 'than', '93', '%', 'correct', '##ness', 'for', 'classifying', 'dry', 'and', 'medium', 'dry', ',', 'medium', ',', 'and', 'sweet', 'white', 'wine', '##s', 'and', 'dry', 'red', 'wine', '##s', '.', 'the', 'trained', 'random', 'forest', '(', 'rf', ')', 'model', 'classified', 'pin', '##ot', 'no', '##ir', 'with', '96', '%', 'correct', '##ness', ',', 'bla', '##uf', '##ran', '##ki', '##sch', '96', '%', ',', 'ri', '##es', '##ling', '92', '%', ',', 'cab', '##er', '##net', 'sa', '##uv', '##ign', '##on', '77', '%', ',', 'char', '##don', '##na', '##y', '76', '%', ',', 'ge', '##w', '##urt', '##z', '##tra', '##mine', '##r', '60', '%', ',', 'hib', '##er', '##nal', '60', '%', ',', 'gr', '##une', '##r', 'vel', '##tl', '##iner', '52', '%', ',', 'pin', '##ot', 'gr', '##is', '48', '%', ',', 'sa', '##uv', '##ign', '##on', 'bla', '##nc', '45', '%', ',', 'and', 'pal', '##ava', '40', '%', '.', 'pin', '##ot', 'bla', '##nc', 'and', 'char', '##don', '##na', '##y', ',', 'varieties', 'that', 'are', 'often', 'mist', '##aken', '##ly', 'interchange', '##d', ',', 'were', 'discriminated', 'with', '71', '%', 'correct', '##ness', '.', 'the', 'findings', 'support', 'chemo', '##met', '##rics', 'as', 'a', 'tool', 'for', 'predicting', 'important', 'features', 'in', 'wine', ',', 'particularly', 'for', 'quality', 'assessment', 'and', 'fra', '##ud', 'detection', '.', '[SEP]'], 'target_tokens': []}\n",
      "\n",
      " Predictions:  pentanal @CHEMICAL@ @ @ unknown @ @ iled @DISEASE@ @CID@ aceticanal @CHEMICAL@ formic, lactic, lactic, butyric acid @DISEASE@ @CID@ nonanal @CHEMICAL@ isobutyric butanol @CHEMICAL@ isobutyric butanol @CHEMICAL@ @ @ unknown @ @ iled @DISEASE@ @CID@\n",
      "Target:   6\n",
      "For abstract:  {'source_tokens': ['[CLS]', 'pda', '@', 'chemical', '@', 'oct', '##anal', '@', 'chemical', '@', '[SEP]', 'the', 'aim', 'of', 'this', 'work', 'was', 'to', 'investigate', 'the', 'microbial', 'association', 'of', 'horse', 'fill', '##ets', 'during', 'aerobic', 'storage', 'at', 'isothermal', 'conditions', '(', '0', '-', '15', '°', 'c', ')', '.', 'samples', 'were', 'analyzed', 'microbiological', '##ly', ',', 'and', 'in', 'parallel', 'the', 'metabolic', 'profile', 'of', 'the', 'samples', 'was', 'quantified', 'by', 'hs', '-', 'spm', '##e', '/', 'gc', '-', 'ms', 'and', 'hplc', '-', 'pda', '-', 'ri', '.', 'considering', 'hplc', 'results', ',', 'the', 'concentration', 'of', 'prop', '##ionic', ',', 'formic', ',', 'lactic', 'and', 'succin', '##ic', 'acids', 'decreased', 'during', 'aerobic', 'storage', 'of', 'horse', 'fill', '##ets', ',', 'contrary', 'to', 'acetic', ',', 'citric', ',', 'but', '##yric', 'and', 'iso', '##but', '##yric', 'acids', ',', 'which', 'increased', '.', 'as', 'far', 'as', 'the', 'vol', '##atil', '##ome', 'formation', 'during', 'aerobic', 'storage', 'is', 'concerned', ',', 'pent', '##anal', ',', 'hex', '##anal', ',', 'oct', '##anal', ',', 'non', '##anal', ',', 'dec', '##anal', ',', 'were', 'correlated', 'with', 'fresh', 'samples', ',', 'while', 'dia', '##ce', '##ty', '##l', ',', 'acet', '##oin', ',', '2', '-', 'hept', '##anone', ',', '2', '-', 'oct', '##anone', ',', 'hex', '##anoic', 'acid', ',', '3', '-', 'methyl', '-', 'butanol', ',', '2', '-', 'meth', '##y', '-', 'butanol', 'and', '3', '-', 'methyl', '-', 'but', '##anal', 'detected', 'in', 'spo', '##iled', 'ones', '.', 'herein', ',', 'a', 'support', 'vector', 'machine', 'regression', 'model', 'using', 'data', 'from', '0', ',', '5', 'and', '15', '°', 'c', 'predicted', 'the', 'responses', 'of', 'the', 'dataset', 'at', '10', '°', 'c', 'with', 'a', 'correlation', 'coefficient', '0', '.', '91', '##5', 'and', '0', '.', '91', '##0', 'for', 'training', 'and', 'testing', ',', 'respectively', '.', '[SEP]'], 'target_tokens': []}\n",
      "\n",
      " Predictions:  acetoin @CHEMICAL@ acetoin @CHEMICAL@ @ @ unknown @ @, 3 - butanediol ; 2, 3 - bd @CHEMICAL@ @ @ unknown @ @, 3 - butanediol ; 2, 3 - bd @CHEMICAL@ @ @ unknown @ @, 3 - butanediol ; 2, 3 - bd @CHEMICAL@ @ @ unknown @ @, 3 - butanediol ; 2, 3 - bd @CHEMICAL@ @ @ unknown @ @, 3 - butanediol ; 2, 3 - bd @CHEMICAL@ @ @ unknown @ @, 3 - butanediol ; 2, 3 - bd @CHEMICAL@ @ @ unknown @ @, 3 - bd @CHEMICAL@ @ @ unknown @ @, 3 - butanediol ; 2, 3 - bd @CHEMICAL@ @ @ unknown @ @ @DISEASE@ @CID@\n",
      "Target:   7\n",
      "For abstract:  {'source_tokens': ['[CLS]', 'nicotinamide', 'adenine', 'dinucleotide', '@', 'chemical', '@', 'co', '@', 'chemical', '@', '[SEP]', 'enzymatic', 'reduction', 'of', 'acet', '##oin', 'into', '2', ',', '3', '-', 'but', '##aned', '##iol', '(', '2', ',', '3', '-', 'bd', ')', 'typically', 'requires', 'the', 'reduced', 'nicotinamide', 'adenine', 'dinucleotide', '(', 'nadh', ')', 'or', 'its', 'phosphate', 'form', '(', 'nadph', ')', 'as', 'electron', 'donor', '.', 'efficiency', 'of', '2', ',', '3', '-', 'bd', 'biosynthesis', ',', 'therefore', ',', 'is', 'heavily', 'influenced', 'by', 'the', 'enzyme', 'specificity', 'and', 'the', 'cofactor', 'availability', 'which', 'varies', 'dynamically', '.', 'this', 'work', 'describes', 'the', 'engineering', 'of', 'cofactor', 'flexibility', 'for', '2', ',', '3', '-', 'bd', 'production', 'by', 'simultaneous', 'overexpression', 'of', 'an', 'nadh', '-', 'dependent', '2', ',', '3', '-', 'bd', 'dehydrogenase', 'from', 'klebsiella', 'pneumoniae', '(', 'kp', '##bu', '##dc', ')', 'and', 'an', 'nadph', '-', 'specific', '2', ',', '3', '-', 'bd', 'dehydrogenase', 'from', 'clostridium', 'beij', '##erin', '##ck', '##ii', '(', 'cba', '##dh', ')', '.', 'co', '-', 'expression', 'of', 'kp', '##bu', '##dc', 'and', 'cba', '##dh', 'not', 'only', 'enabled', 'condition', 'versatility', 'for', '2', ',', '3', '-', 'bd', 'synthesis', 'via', 'flexible', 'utilization', 'of', 'cofactors', ',', 'but', 'also', 'improved', 'production', 'stereo', '-', 'specificity', 'of', '2', ',', '3', '-', 'bd', 'without', 'accumulation', 'of', 'acet', '##oin', '.', 'with', 'optimization', 'of', 'medium', 'and', 'fermentation', 'condition', ',', 'the', 'co', '-', 'expression', 'strain', 'produced', '92', 'g', '/', 'l', 'of', '2', ',', '3', '-', 'bd', 'in', '56', 'h', 'with', '90', '%', 'stereo', '-', 'purity', 'for', '(', 'r', ',', 'r', ')', '-', 'isoform', 'and', '85', '%', 'of', 'maximum', 'theoretical', 'yield', '.', 'incorporating', 'cofactor', 'flexibility', 'into', 'the', 'design', 'principle', 'should', 'benefit', 'production', 'of', 'bio', '-', 'based', 'chemical', 'involving', 'redox', 'reactions', '.', '[SEP]'], 'target_tokens': []}\n",
      "\n",
      " Predictions:  diacetyl @CHEMICAL@ @ @ unknown @ @ ; aldehydes @CHEMICAL@ @ @ unknown @ @ ; aldehyde @DISEASE@ @CID@ diacetyl @CHEMICAL@ @ @ unknown @ @ cetyl @CHEMICAL@ @ @ unknown @ @ oin @CHEMICAL@ @ @ unknown @ @ oin @CHEMICAL@ @ @ unknown @ @ @DISEASE@ @CID@\n",
      "Target:   8\n",
      "For abstract:  {'source_tokens': ['[CLS]', 'air', '@', 'chemical', '@', '[SEP]', 'regulations', 'on', 'e', '-', 'cigarettes', 'in', 'the', 'u', '.', 's', '.', 'do', 'not', 'provide', 'guidelines', 'on', 'the', 'chemical', 'content', 'of', 'e', '-', 'cigarette', 'liquids', '.', 'we', 'evaluated', 'emissions', 'of', 'aldehydes', 'and', 'flavor', '##ing', 'chemicals', 'in', 'e', '-', 'cigarette', 'vapor', 'under', 'typical', 'usage', 'conditions', '.', 'we', 'selected', '24', 'e', '-', 'cigarette', 'flavor', '##s', 'from', 'the', 'top', 'sell', '##ing', 'disposable', 'e', '-', 'cigarette', 'brand', '##s', '.', 'e', '-', 'cigarettes', 'were', 'connected', 'to', 'a', 'pump', 'drawing', 'air', 'for', 'two', 'second', 'pu', '##ffs', 'with', 'sixty', '-', 'second', 'intervals', 'between', 'pu', '##ffs', '.', 'the', 'vapor', 'was', 'analyzed', 'for', 'the', 'presence', 'of', 'aldehydes', 'using', 'high', '-', 'performance', 'liquid', 'chromatography', '-', 'ultraviolet', 'detector', 'and', 'for', 'the', 'presence', 'of', 'flavor', '##ing', 'chemicals', 'with', 'gas', 'chromatography', 'and', 'an', 'electron', 'capture', 'detector', '.', 'all', 'e', '-', 'cigarette', 'emissions', 'tested', 'contained', 'at', 'least', 'one', 'aldehyde', 'and', '/', 'or', 'flavor', '##ing', 'chemical', 'on', 'either', 'the', 'fem', '##a', '\"', 'high', 'priority', 'chemicals', '\"', 'or', 'fda', 'harmful', 'and', 'potentially', 'harmful', 'constituents', 'lists', 'when', 'sampled', 'at', 'typical', 'usage', 'conditions', '.', 'dia', '##ce', '##ty', '##l', ',', 'a', 'known', 'respiratory', 'hazard', ',', 'along', 'with', 'acet', '##oin', ',', 'were', 'the', 'most', 'prevalent', 'of', 'the', 'flavor', '##ing', 'chemicals', 'in', 'e', '-', 'cigarette', 'vapor', ',', 'being', 'found', 'in', 'more', 'than', '60', '%', 'of', 'samples', '.', 'the', 'presence', 'of', 'prop', '##ional', '##dehyde', ',', 'acetaldehyde', 'and', 'formaldehyde', 'were', 'correlated', ',', 'corrobor', '##ating', 'previous', 'work', 'suggesting', 'thermal', 'degradation', 'as', 'a', 'pathway', 'for', 'aldehyde', 'generation', 'in', 'e', '-', 'cigarette', 'vapor', '##s', '.', 'median', 'formaldehyde', 'concentrations', 'of', '62', '##6', 'μg', '/', 'm3', 'in', 'e', '-', 'cigarette', 'vapor', 'exceed', 'the', 'acg', '##ih', 'maximum', 'concentrations', 'allow', '##able', 'for', 'workers', 'of', '370', 'μg', '/', 'm3', '.', '[SEP]'], 'target_tokens': []}\n",
      "\n",
      " Predictions:  acetoin ; 3 - hydroxy - 2 - butanone @CHEMICAL@ acetoin ; 3 - hydroxy - 2 - butanone @CHEMICAL@ @ @ unknown @ @ oin ; 3 - hydroxy - 2 - butanone @CHEMICAL@ @ @ unknown @ @ oin ; 3 - hydroxy - 2 - butanone @CHEMICAL@ @ @ unknown @ @ oin ; 3 - hydroxy - 2 - butanone @CHEMICAL@ @ @ unknown @ @ oin ; 3 - hydroxy - 2 - butanone @CHEMICAL@ @ @ unknown @ @ oin ; 3 - hydroxy - 2 - butanone @CHEMICAL@ @ @ unknown @ @ oin ; 3 - hydroxy - 2 - butanone @CHEMICAL@ @ @ unknown @ @ oin ; 3 - hydroxy - 2 - butanone @CHEMICAL@ @ @ unknown @ @ oin ; 3 - hydroxy - 2 - butanone @CHEMICAL@ @ @ unknown @ @ oin ; 3 - hydroxy - 2\n",
      "Target:   9\n",
      "For abstract:  {'source_tokens': ['[CLS]', 'hydroxy', '@', 'chemical', '@', '2', '-', 'but', '##anone', '@', 'chemical', '@', 'glucose', '@', 'chemical', '@', '[SEP]', 'acet', '##oin', '(', '3', '-', 'hydroxy', '-', '2', '-', 'but', '##anone', ')', 'is', 'an', 'important', 'physiological', 'metabolic', 'product', 'in', 'many', 'microorganisms', '.', 'acet', '##oin', 'breakdown', 'is', 'catalyzed', 'by', 'the', 'acet', '##oin', 'dehydrogenase', 'enzyme', 'system', '(', 'ao', '##dh', 'es', ')', ',', 'which', 'is', 'encoded', 'by', 'ac', '##oa', '##bc', '##l', 'operon', '.', 'in', 'this', 'study', ',', 'we', 'analyzed', 'transcription', 'and', 'regulation', 'of', 'the', 'ac', '##o', 'operon', 'in', 'bacillus', 'th', '##uring', '##iensis', '(', 'bt', ')', '.', 'rt', '-', 'pcr', 'analysis', 'revealed', 'that', 'ac', '##oa', '##bc', '##l', 'forms', 'one', 'transcriptional', 'unit', '.', 'the', 'sigma', '54', 'controlled', 'consensus', 'sequence', 'was', 'located', '12', 'bp', 'from', 'the', 'ac', '##oa', 'transcriptional', 'start', 'site', '(', 'tss', ')', '.', 'β', '-', 'galactosidase', 'assay', 'revealed', 'that', 'ac', '##o', 'operon', 'transcription', 'is', 'induced', 'by', 'acet', '##oin', ',', 'controlled', 'by', 'sigma', '54', ',', 'and', 'positively', 'regulated', 'by', 'ac', '##or', '.', 'the', 'ht', '##h', 'domain', 'of', 'ac', '##or', 'recognized', 'and', 'specifically', 'bound', 'to', 'a', '13', '-', 'bp', 'inverted', 'repeat', 'region', 'that', 'participates', 'in', '30', '-', 'bp', 'fragment', 'mapping', '81', 'bp', 'upstream', 'of', 'the', 'ac', '##oa', 'tss', '.', 'the', 'ga', '##f', 'domain', 'in', 'ac', '##or', 'represses', 'enhancer', 'transcriptional', 'activity', 'at', 'the', 'ac', '##oa', 'promoter', '.', 'transcription', '##s', 'of', 'the', 'ac', '##o', 'operon', 'and', 'ac', '##or', 'were', 'repressed', 'by', 'glucose', 'via', 'ccp', '##a', ',', 'and', 'ccp', '##a', 'specifically', 'bound', 'to', 'sequences', 'within', 'the', 'ac', '##or', 'promoter', 'fragment', '.', 'in', 'the', 'ac', '##oa', '##bc', '##l', 'and', 'ac', '##or', 'mutants', ',', 'acet', '##oin', 'use', 'was', 'abolished', ',', 'suggesting', 'that', 'the', 'ac', '##o', 'operon', 'is', 'essential', 'for', 'utilization', 'of', 'acet', '##oin', '.', 'the', 'data', 'presented', 'here', 'improve', 'our', 'understanding', 'of', 'the', 'regulation', 'of', 'the', 'ac', '##o', 'gene', 'cluster', 'in', 'bacteria', '.', '[SEP]'], 'target_tokens': []}\n",
      "\n",
      " Predictions:  ethanol @CHEMICAL@ ethanol @CHEMICAL@ ethanol @CHEMICAL@ @ @ unknown @ @ @DISEASE@ @CID@ acetic acid @CHEMICAL@ acetic acid @CHEMICAL@ @ @ unknown @ @, 3 - butanediol @CHEMICAL@ @ @ unknown @ @, 3 - butanediol @CHEMICAL@ @ @ unknown @ @, 3 - butanediol @CHEMICAL@ @ @ unknown @ @, 3 - butanediol @CHEMICAL@ @ @ unknown @ @, 3 - butanediol @CHEMICAL@ @ @ unknown @ @, 3 - butanediol @CHEMICAL@ @ @ unknown @ @, 3 - butanediol @CHEMICAL@ @ @ unknown @ @, 3 - butanediol @CHEMICAL@ @ @ unknown @ @, 3 - butanediol @CHEMICAL@ @ @ unknown @ @, 3 - butanediol @CHEMICAL@ @ @ unknown @ @, 3 - butanediol @CHEMICAL@ @ @ unknown @ @, 3 - butanediol @CHEMICAL@ @ @ unknown @ @, 3 - butanediol @CHEMICAL@ @ @ unknown @ @, 3 - butanediol @CHEMICAL@ @ @ unknown @ @\n",
      "Target:   10\n",
      "For abstract:  {'source_tokens': ['[CLS]', 'ethanol', '@', 'chemical', '@', 'glycerol', '@', 'chemical', '@', 'acetic', 'acid', '@', 'chemical', '@', '[SEP]', 'saccharomyces', 'cerevisiae', 'has', 'good', 'reproductive', 'ability', 'in', 'both', 'haploid', 'and', 'diploid', 'forms', ',', 'a', 'pyruvate', 'decarboxylase', 'plays', 'an', 'important', 'role', 'in', 's', '.', 'cerevisiae', 'cell', 'metabolism', '.', 'in', 'this', 'study', ',', 'pdc', '##1', 'and', 'pdc', '##5', 'double', 'knockout', 'strains', 'of', 's', '.', 'cerevisiae', 'h1', '##4', '-', '02', '(', 'mat', '##a', 'type', ')', 'and', 's', '.', 'cerevisiae', 'h5', '-', '02', '(', 'mat', '##α', 'type', ')', 'were', 'obtained', 'by', 'the', 'cre', '/', 'loxp', 'technique', '.', 'the', 'effects', 'of', 'the', 'deletion', 'of', 'pdc', '##1', 'and', 'pdc', '##5', 'on', 'the', 'metabolites', 'of', 'the', 'two', 'haploid', 's', '.', 'cerevisiae', 'strains', 'were', 'consistent', '.', 'in', 's', '.', 'cerevisiae', 'h1', '##4', '-', '02', ',', 'the', 'ethanol', 'conversion', 'decreased', 'by', '30', '.', '19', '%', ',', 'the', 'conversion', 'of', 'glycerol', 'increased', 'by', '40', '.', '005', '%', ',', 'the', 'concentration', 'of', 'acetic', 'acid', 'decreased', 'by', '43', '.', '54', '%', ',', 'the', 'concentration', 'of', 'acet', '##oin', 'increased', 'by', '12', '.', '79', 'times', ',', 'and', 'the', 'activity', 'of', 'pyruvate', 'decarboxylase', 'decreased', 'by', '40', '.', '91', '%', 'compared', 'to', 'those', 'in', 'the', 'original', 'h1', '##4', 'strain', '.', 'the', 'original', 's', '.', 'cerevisiae', 'haploid', 'strain', 'h1', '##4', 'produced', 'a', 'small', 'amount', 'of', 'acet', '##oin', 'but', 'produced', 'very', 'little', '2', ',', '3', '-', 'but', '##aned', '##iol', '.', 'however', ',', 's', '.', 'cerevisiae', 'h1', '##4', '-', '02', 'produced', '1', '.', '420', '±', '0', '.', '06', '##3', 'g', '/', 'l', '2', ',', '3', '-', 'bd', '.', 'this', 'study', 'not', 'only', 'provides', 'strain', 'selection', 'for', 'obtaining', 'haploid', 'strains', 'with', 'a', 'high', 'yield', 'of', '2', ',', '3', '-', 'bd', 'but', 'also', 'lay', '##s', 'a', 'foundation', 'for', 'haploid', 's', '.', 'cerevisiae', 'to', 'be', 'used', 'as', 'a', 'new', 'tool', 'for', 'genetic', 'research', 'and', 'breeding', 'programs', '.', '[SEP]'], 'target_tokens': []}\n",
      "\n",
      " Predictions:  alkylresorcinols ; ars @CHEMICAL@ advanced glycation end products ; cml @CHEMICAL@ advanced glycation end products ; cml @CHEMICAL@ buttery @DISEASE@ @CID@\n",
      "Target:   11\n",
      "For abstract:  {'source_tokens': ['[CLS]', 'lysine', '@', 'chemical', '@', '[SEP]', 'alkyl', '##res', '##or', '##cin', '##ols', '(', 'ars', ')', 'are', 'important', 'bioactive', 'components', 'in', 'wheat', 'bran', 'which', 'have', 'been', 'used', 'as', 'biomarkers', 'for', 'whole', 'grain', 'wheat', 'consumption', '.', 'in', 'this', 'study', ',', 'the', 'impact', 'of', 'ars', 'on', 'the', 'formation', 'of', 'n', '##ε', '-', '(', 'carboxy', '##methyl', ')', 'lysine', '(', 'cml', ')', ',', 'the', 'main', 'component', 'of', 'dietary', 'advanced', 'glycation', 'end', 'products', 'which', 'could', 'induce', 'chronic', 'disease', 'was', 'analyzed', '.', 'moreover', ',', 'the', 'influence', 'of', 'the', 'addition', 'of', 'ars', 'on', 'the', 'sensory', 'profiles', 'of', 'wheat', 'bread', 'was', 'evaluated', '.', 'ars', 'supplementation', '(', '0', '.', '03', '%', ',', '0', '.', '1', '%', ',', 'and', '0', '.', '3', '%', 'w', '/', 'w', ')', 'could', 'significantly', 'decrease', 'the', 'formation', 'of', 'cml', 'by', '21', '.', '70', '%', ',', '35', '.', '11', '%', ',', 'and', '42', '.', '18', '%', ',', 'respectively', ',', 'compared', 'with', 'the', 'control', '.', 'moreover', ',', 'ars', '-', 'supplemented', 'bread', 'achieved', 'a', 'higher', 'score', 'in', 'overall', 'acceptability', 'and', 'butter', '##y', '-', 'like', 'arom', '##a', 'through', 'sensory', 'evaluation', '.', 'the', 'volatile', 'compounds', 'in', 'bread', 'supplemented', 'with', 'ars', 'were', 'characterized', 'by', 'heads', '##pa', '##ce', 'solid', 'phase', 'micro', '##ex', '##tra', '##ction', '-', 'gas', 'chromatography', '-', 'mass', 'spectrometry', '(', 'hs', '-', 'spm', '##e', '-', 'gc', '-', 'ms', ')', ',', 'among', 'which', 'acet', '##oin', ',', '2', ',', '3', '-', 'but', '##aned', '##ione', ',', '3', '-', 'methyl', '-', '1', '-', 'butanol', ',', '2', '-', 'phenyle', '##th', '##anol', ',', 'and', '2', '-', 'methyl', '##but', '##anal', 'were', 'confirmed', 'as', 'the', 'main', 'volatile', 'compounds', 'through', 'determination', 'of', 'odor', 'activity', 'value', '.', 'in', 'addition', ',', 'ars', 'supplementation', 'had', 'no', 'negative', 'impact', 'on', 'the', 'chew', '##iness', ',', 'hardness', ',', 'and', 'spring', '##iness', 'of', 'bread', '.', 'these', 'findings', 'demonstrated', 'that', 'ars', 'could', 'be', 'applied', 'as', 'potential', 'food', 'additives', 'to', 'improve', 'the', 'quality', 'and', 'sensory', 'profile', 'of', 'bread', '.', '[SEP]'], 'target_tokens': []}\n",
      "\n",
      " Predictions:  acetoin @CHEMICAL@ riboflavin @CHEMICAL@ @ @ unknown @ @ @CHEMICAL@ @ @ unknown @ @ @CHEMICAL@ @ @ unknown @ @ @CHEMICAL@ @ @ unknown @ @ @CHEMICAL@ @ @ unknown @ @ @CHEMICAL@ @ @ unknown @ @ @CHEMICAL@ @ @ unknown @ @ @CHEMICAL@ @ @ unknown @ @ @CHEMICAL@ @ @ unknown @ @ @CHEMICAL@ @ @ unknown @ @ @CHEMICAL@ @ @ unknown @ @ @CHEMICAL@ @ @ unknown @ @ @CHEMICAL@ @ @ unknown @ @ @CHEMICAL@ @ @ unknown @ @ @CHEMICAL@ @ @ unknown @ @ @CHEMICAL@ @ @ unknown @ @ @CHEMICAL@ @ @ unknown @ @ @CHEMICAL@ @ @ unknown @ @ @CHEMICAL@ @ @ unknown @ @ @CHEMICAL@ @ @ unknown @ @ @CHEMICAL@ @ @ unknown @ @ @CHEMICAL@ @ @ unknown @ @ @CHEMICAL@ @ @ unknown @ @ @CHEMICAL@ @ @ unknown @ @ @CHEMICAL@ @ @ unknown @ @ @CHEMICAL@ @ @ unknown @ @ @CHEMICAL@ @ @ unknown @ @ @CHEMICAL@ @ @ unknown @ @ @CHEMICAL@ @ @ unknown @ @ @CHEMICAL@ @ @ unknown @ @ @CHEMICAL@ @ @ unknown @ @ @CHEMICAL@ @ @ unknown @ @ @CHEMICAL@ @ @ unknown @ @ @CHEMICAL@ @ @ unknown @ @ @CHEMICAL@ @ @ unknown @ @ @CHEMICAL@ @ @ unknown @ @ @CHEMICAL@ @ @ unknown @ @ @CHEMICAL@ @ @ unknown @ @ @CHEMICAL@ @ @ unknown @ @ @CHEMICAL@ @ @ unknown @ @ @CHEMICAL@ @ @ unknown @ @ @CHEMICAL@ @ @ unknown @ @ @CHEMICAL@ @ @ unknown @ @ @CHEMICAL@ @ @ unknown @ @ @CHEMICAL@ @ @ unknown @ @ @CHEMICAL@ @ @ unknown @ @ @CHEMICAL@ @ @ unknown @ @ @CHEMICAL@ @ @ unknown @ @ @CHEMICAL@ @ @ unknown @ @ @CHEMICAL@ @ @ unknown @ @ @CHEMICAL@ @ @ unknown @ @ @CHEMICAL@ @ @ unknown @ @ @CHEMICAL@ @ @ unknown @ @ @CHEMICAL@ @ @ unknown @ @ @CHEMICAL@ @ @ unknown @ @ @CHEMICAL@ @ @ unknown @ @ @CHEMICAL@ @ @ unknown @ @ @CHEMICAL@ @ @ unknown @ @ @CHEMICAL@ @ @ unknown @ @ @CHEMICAL@ @ @ unknown @ @ @CHEMICAL@ @ @ unknown @ @ @CHEMICAL@ @ @ unknown @ @\n",
      "Target:   12\n",
      "For abstract:  {'source_tokens': ['[CLS]', 'riboflavin', '@', 'chemical', '@', 'glucose', '@', 'chemical', '@', '[SEP]', 'the', 'introduction', 'of', 'an', 'nadh', '/', 'nad', '+', 'regeneration', 'system', 'can', 'regulate', 'the', 'distribution', 'between', 'acet', '##oin', 'and', '2', ',', '3', '-', 'but', '##aned', '##iol', '.', 'nadh', 'regeneration', 'can', 'also', 'enhance', 'butanol', 'production', 'in', 'coculture', 'fermentation', '.', 'in', 'this', 'work', ',', 'a', 'novel', 'artificial', 'consortium', 'of', 'pae', '##ni', '##ba', '##cil', '##lu', '##s', 'polym', '##yx', '##a', 'cj', '##x5', '##18', 'and', 'recombinant', 'escherichia', 'coli', 'ls', '##02', '##t', 'that', 'produces', 'riboflavin', '(', 'vb', '##2', ')', 'was', 'used', 'to', 'regulate', 'the', 'nadh', '/', 'nad', '+', 'ratio', 'and', ',', 'consequently', ',', 'the', 'distribution', 'of', 'acet', '##oin', 'and', '2', ',', '3', '-', 'but', '##aned', '##iol', 'by', 'p', '.', 'polym', '##yx', '##a', '.', 'compared', 'with', 'a', 'pure', 'culture', 'of', 'p', '.', 'polym', '##yx', '##a', ',', 'the', 'level', 'of', 'acet', '##oin', 'was', 'increased', '76', '.', '7', '%', 'in', 'the', 'p', '.', 'polym', '##yx', '##a', 'and', 'recombinant', 'e', '.', 'coli', 'coculture', '.', 'meanwhile', ',', 'the', 'maximum', 'production', 'and', 'yield', 'of', 'acet', '##oin', 'in', 'an', 'artificial', 'consortium', 'with', 'fed', '-', 'batch', 'fermentation', 'were', '57', '.', '2', 'g', '/', 'l', 'and', '0', '.', '4', 'g', '/', 'g', 'glucose', ',', 'respectively', '.', 'additionally', ',', 'the', 'vb', '##2', 'production', 'of', 'recombinant', 'e', '.', 'coli', 'could', 'maintain', 'a', 'relatively', 'low', 'nadh', '/', 'nad', '+', 'ratio', 'by', 'changing', 'nadh', 'dehydrogenase', 'activity', '.', 'it', 'was', 'also', 'found', 'that', '2', ',', '3', '-', 'but', '##aned', '##iol', 'dehydrogenase', 'activity', 'was', 'enhanced', 'and', 'improved', 'acet', '##oin', 'production', 'by', 'the', 'addition', 'of', 'exogenous', 'vb', '##2', 'or', 'by', 'being', 'in', 'the', 'artificial', 'consortium', 'that', 'produces', 'vb', '##2', '.', 'these', 'results', 'illustrate', 'that', 'the', 'coculture', 'of', 'p', '.', 'polym', '##yx', '##a', 'and', 'recombinant', 'e', '.', 'coli', 'has', 'enormous', 'potential', 'to', 'improve', 'acet', '##oin', 'production', '.', 'it', 'was', 'also', 'a', 'novel', 'strategy', 'to', 'regulate', 'the', 'nadh', '/', 'nad', '+', 'ratio', 'to', 'improve', 'the', 'acet', '##oin', 'production', 'of', 'p', '.', 'polym', '##yx', '##a', '.', '[SEP]'], 'target_tokens': []}\n",
      "\n",
      " Predictions:  diacetyl ; 2, 3 - butanedione @CHEMICAL@ bronchiolitis obliterans @DISEASE@ @CID@ acetoin @CHEMICAL@ bronchiolitis obliterans @DISEASE@ @CID@\n",
      "Target:   13\n",
      "For abstract:  {'source_tokens': ['[CLS]', 'acetic', 'acid', '@', 'chemical', '@', '[SEP]', 'flavor', '##ings', '-', 'related', 'lung', 'disease', 'is', 'a', 'potentially', 'disabling', 'and', 'sometimes', 'fatal', 'lung', 'disease', 'of', 'workers', 'making', 'or', 'using', 'flavor', '##ings', '.', 'first', 'identified', 'almost', '20', 'years', 'ago', 'in', 'microwave', 'popc', '##orn', 'workers', 'exposed', 'to', 'butter', '-', 'flavor', '##ing', 'vapor', '##s', ',', 'flavor', '##ings', '-', 'related', 'lung', 'disease', 'remains', 'a', 'concern', 'today', '.', 'in', 'some', 'cases', ',', 'workers', 'develop', 'bronchiol', '##itis', 'obliter', '##ans', ',', 'a', 'severe', 'form', 'of', 'fixed', 'airways', 'disease', '.', 'affected', 'workers', 'have', 'been', 'reported', 'in', 'microwave', 'popc', '##orn', ',', 'flavor', '##ings', ',', 'and', 'coffee', 'production', 'workplace', '##s', '.', 'volatile', 'α', '-', 'dic', '##arb', '##onyl', 'compounds', ',', 'particularly', 'dia', '##ce', '##ty', '##l', '(', '2', ',', '3', '-', 'but', '##aned', '##ione', ')', 'and', '2', ',', '3', '-', 'pent', '##aned', '##ione', ',', 'are', 'implicated', 'in', 'the', 'etiology', '.', 'published', 'studies', 'on', 'dia', '##ce', '##ty', '##l', 'and', '2', ',', '3', '-', 'pent', '##aned', '##ione', 'document', 'their', 'ability', 'to', 'cause', 'airway', 'epithelial', 'necrosis', ',', 'damage', 'biological', 'molecules', ',', 'and', 'perturb', 'protein', 'homeostasis', '.', 'with', 'chronic', 'exposure', 'in', 'rats', ',', 'they', 'produce', 'airway', 'fibrosis', 'resembling', 'bronchiol', '##itis', 'obliter', '##ans', '.', 'to', 'add', 'to', 'this', 'knowledge', ',', 'we', 'recently', 'evaluated', 'airway', 'toxicity', 'of', 'the', '3', '-', 'carbon', 'α', '-', 'dic', '##arb', '##onyl', 'compound', ',', 'methyl', '##gly', '##oxal', '.', 'methyl', '##gly', '##oxal', 'inhalation', 'causes', 'epithelial', 'necrosis', 'at', 'even', 'lower', 'concentrations', 'than', 'dia', '##ce', '##ty', '##l', '.', 'in', 'addition', ',', 'we', 'investigated', 'airway', 'toxicity', 'of', 'mixtures', 'of', 'dia', '##ce', '##ty', '##l', ',', 'acet', '##oin', ',', 'and', 'acetic', 'acid', ',', 'common', 'volatiles', 'in', 'butter', 'flavor', '##ing', '.', 'at', 'ratios', 'comparable', 'to', 'workplace', 'scenarios', ',', 'the', 'mixtures', 'or', 'dia', '##ce', '##ty', '##l', 'alone', ',', 'but', 'not', 'acetic', 'acid', 'or', 'acet', '##oin', ',', 'cause', 'airway', 'epithelial', 'necrosis', '.', 'these', 'new', 'findings', 'add', 'to', 'existing', 'data', 'to', 'implicate', 'α', '-', 'dic', '##arb', '##onyl', 'compounds', 'in', 'airway', 'injury', 'and', 'flavor', '##ings', '-', 'related', 'lung', 'disease', '.', '[SEP]'], 'target_tokens': []}\n",
      "\n",
      " Predictions:  acetoin @CHEMICAL@ lactic acid @CHEMICAL@ acetic acid @CHEMICAL@ acetic acid @CHEMICAL@ acetic acid @CHEMICAL@ acetic acid @CHEMICAL@ acetic acid @CHEMICAL@ cheese @DISEASE@ @CID@ methoxy - phenyl - oxime @CHEMICAL@ 2, 3 - butanediol @CHEMICAL@ 2, 3 - butanediol @CHEMICAL@ acetic acid @CHEMICAL@ @ @ unknown @ @ @DISEASE@ @CID@\n",
      "Target:   14\n",
      "For abstract:  {'source_tokens': ['[CLS]', 'lactic', 'acid', '@', 'chemical', '@', 'acetic', 'acid', '@', 'chemical', '@', '[SEP]', 'this', 'paper', 'describes', 'the', 'results', 'of', 'the', 'characterization', 'of', 'a', 'traditional', 'slov', '##ak', 'cheese', 'called', '\"', 'may', 'bry', '##nd', '##za', '\"', 'with', 'regard', 'to', 'the', 'profiles', 'of', 'volatile', 'organic', 'compounds', 'and', 'lactic', 'acid', 'bacteria', '.', 'samples', 'of', '\"', 'may', 'bry', '##nd', '##za', '\"', 'cheese', 'produced', 'solely', 'from', 'unp', '##ast', '##eu', '##ri', '##zed', 'ew', '##e', \"'\", 's', 'milk', 'were', 'collected', 'from', '4', 'different', 'slov', '##ak', 'farms', ',', 'and', 'samples', 'of', 'the', 'cheese', 'produced', 'from', 'a', 'mixture', 'of', '2', 'types', 'of', 'milk', '(', 'raw', 'ew', '##e', \"'\", 's', 'and', 'pasteur', '##ized', 'cow', \"'\", 's', 'milk', ')', 'were', 'collected', 'from', '3', 'different', 'slov', '##ak', 'industrial', 'dair', '##ies', '.', 'there', 'were', '15', 'compounds', 'detected', 'and', 'identified', 'by', 'the', 'electronic', 'nose', '.', 'the', 'impact', 'of', 'the', 'kind', 'of', 'milk', 'and', 'the', 'kind', 'of', 'dairy', 'on', 'the', 'arom', '##a', 'profile', 'of', 'the', 'product', 'was', 'not', 'confirmed', 'by', 'pca', '.', 'the', 'compounds', 'with', 'the', 'highest', 'relative', 'contents', 'in', 'samples', 'were', 'acet', '##oin', '(', '2', '.', '59', '%', '-', '24', '.', '55', '%', ')', ',', 'acetic', 'acid', '(', '6', '.', '69', '%', '-', '13', '.', '39', '%', ')', ',', 'methoxy', '-', 'phenyl', '-', 'oxim', '##e', '(', '4', '.', '49', '%', '-', '8', '.', '52', '%', ')', ',', 'but', '##anoic', 'acid', '(', '1', '.', '89', '%', '-', '5', '.', '67', '%', ')', ',', 'and', '2', ',', '3', '-', 'but', '##aned', '##iol', '(', '0', '.', '98', '%', '-', '4', '.', '08', '%', ')', ',', 'which', 'were', 'determined', 'with', 'gas', 'chromatography', '.', 'a', 'total', 'of', '153', '##3', 'isolates', 'of', 'lab', 'were', 'obtained', 'from', 'the', '\"', 'may', 'bry', '##nd', '##za', '\"', 'cheese', 'samples', '.', 'four', 'families', ',', 'five', 'genera', ',', 'and', '19', 'species', 'were', 'identified', 'with', 'mass', 'spectrometry', ',', 'and', 'isolated', 'bacteria', ',', 'both', 'from', 'the', 'farm', 'and', 'industry', 'dair', '##ies', 'were', 'the', 'most', 'frequently', 'found', 'to', 'belong', 'to', 'lact', '##ococcus', 'lactis', 'subsp', '.', 'lactis', '.', '[SEP]'], 'target_tokens': []}\n",
      "\n",
      " Predictions:  acetoin @CHEMICAL@ @ @ unknown @ @ @DISEASE@ @CID@ acetoin @CHEMICAL@ @ @ unknown @ @ @DISEASE@ @CID@\n",
      "Target:   15\n",
      "For abstract:  {'source_tokens': ['[CLS]', 'serine', '@', 'chemical', '@', 'valine', '@', 'chemical', '@', 'leucine', '@', 'chemical', '@', 'glycine', '@', 'chemical', '@', 'proline', '@', 'chemical', '@', '[SEP]', 'introduction', ':', 'acet', '##oin', 'serves', 'as', 'a', 'high', 'value', '-', 'added', 'platform', 'with', 'a', 'broad', 'range', 'of', 'applications', ',', 'and', 'can', 'be', 'effectively', 'produced', 'by', 'bacillus', 'lichen', '##iformis', '.', 'however', ',', 'its', 'toxicity', 'to', 'the', 'producing', 'strain', 'hinder', '##s', 'the', 'higher', 'acet', '##oin', 'production', ',', 'and', 'current', 'knowledge', 'about', 'the', 'acet', '##oin', 'resistance', 'mechanisms', 'of', 'b', '.', 'lichen', '##iformis', 'is', 'quite', 'limited', '.', 'objectives', ':', 'to', 'comprehensively', 'investigate', 'the', 'metabolic', 'changes', 'in', 'b', '.', 'lichen', '##iformis', 'under', 'acet', '##oin', 'stress', '.', 'methods', ':', 'we', 'used', 'gas', 'chromatography', '-', 'mass', 'spectrometry', 'based', 'unt', '##argeted', 'metabolomics', 'approach', 'to', 'measure', 'the', 'metabolic', 'profiles', 'of', 'b', '.', 'lichen', '##iformis', 'under', '20', ',', '40', 'and', '80', 'g', '/', 'l', 'acet', '##oin', 'stress', '.', 'transcriptional', 'analysis', 'was', 'conducted', 'to', 'verify', 'the', 'metabolomics', 'results', '.', 'results', ':', 'a', 'total', 'of', '119', 'metabolites', 'were', 'identified', 'in', 'our', 'experiment', '.', 'the', 'metabolic', 'responses', 'of', 'b', '.', 'lichen', '##iformis', 'to', 'acet', '##oin', 'stress', 'were', 'as', 'follows', ':', '(', 'i', ')', 'pent', '##ose', 'phosphate', 'pathway', 'and', 'tric', '##arboxylic', 'acid', '(', 'tca', ')', 'cycle', 'were', 'negatively', 'affected', 'by', 'acet', '##oin', 'stress', '.', 'in', 'turn', ',', 'gly', '##oxyl', '##ate', 'cycle', 'was', 'activated', 'to', 'supply', 'mal', '##ic', 'acid', '.', '(', 'ii', ')', 'acet', '##oin', 'stress', 'induced', 'the', 'accumulation', 'of', 'serine', ',', 'valine', ',', 'leucine', 'and', 'protective', 'osmol', '##ytes', '(', 'glycine', 'and', 'proline', ')', '.', '(', 'iii', ')', 'acet', '##oin', 'stress', 'induced', 'a', 'higher', 'saturated', 'fatty', 'acid', 'ratio', ',', 'which', 'indicated', 'a', 'lower', 'fluidity', 'of', 'cell', 'membrane', 'that', 'could', 'inhibit', 'the', 'entry', 'of', 'acet', '##oin', 'into', 'cytoplasm', '.', '(', 'iv', ')', 'synthesis', 'of', 'phosphatidylserine', 'was', 'enhanced', ',', 'and', 'phosphatidyl', '##ethanolamine', 'content', 'was', 'probably', 'increased', 'under', 'acet', '##oin', 'stress', '.', 'conclusions', ':', 'this', 'study', 'revealed', 'the', 'metabolic', 'perturbations', 'of', 'b', '.', 'lichen', '##iformis', 'to', 'acet', '##oin', 'stress', '.', 'in', 'response', 'to', 'acet', '##oin', 'stress', ',', 'gly', '##oxyl', '##ate', 'cycle', 'was', 'activated', ',', 'protective', 'osmol', '##ytes', 'were', 'accumulated', ',', 'saturated', 'fatty', 'acid', 'ratio', 'was', 'elevated', 'and', 'synthesis', 'of', 'phosphatidylserine', 'was', 'enhanced', 'in', 'b', '.', 'lichen', '##iformis', '.', '[SEP]'], 'target_tokens': []}\n",
      "\n",
      " Predictions:  3 - hydroxy butanone ; acetoin @CHEMICAL@ @ @ unknown @ @ @DISEASE@ @CID@\n",
      "Target:   16\n",
      "For abstract:  {'source_tokens': ['[CLS]', 'hydroxy', '@', 'chemical', '@', 'but', '##anone', '@', 'chemical', '@', '[SEP]', 'acet', '##oin', 'is', 'an', 'important', 'physiological', 'metabolite', 'excreted', 'by', 'microbes', '.', 'its', 'functions', 'include', 'avoiding', 'acidification', ',', 'participating', 'in', 'regulation', 'of', 'the', 'nad', '+', '/', 'nadh', 'ratio', ',', 'and', 'storing', 'carbon', '.', 'acet', '##ola', '##ct', '##ate', 'decarboxylase', 'is', 'a', 'well', '-', 'characterized', 'anabolic', 'enzyme', 'involved', 'with', '3', '-', 'hydroxy', 'but', '##anone', '(', 'acet', '##oin', ')', '.', 'it', 'catalyzes', 'conversion', 'of', 'the', '(', 'r', ')', '-', 'and', '(', 's', ')', '-', 'enantiomers', 'of', 'acet', '##ola', '##ct', '##ate', 'to', 'generate', 'the', 'single', 'product', ',', '(', 'r', ')', '-', 'acet', '##oin', '.', 'in', 'addition', 'to', 'the', 'x', '-', 'ray', 'crystal', 'structure', 'of', 'acet', '##ola', '##ct', '##ate', 'decarboxylase', 'from', 'bacillus', 'bre', '##vis', ',', 'although', 'the', 'enzyme', 'is', 'widely', 'present', 'in', 'microorganisms', ',', 'very', 'few', 'atomic', 'structures', 'of', 'acet', '##ola', '##ct', '##ate', 'decarboxylase', 'are', 'reported', '.', 'in', 'this', 'paper', ',', 'we', 'solved', 'and', 'reported', 'a', '1', '.', '5', 'a', 'resolution', 'crystal', 'structure', 'of', 'acet', '##ola', '##ct', '##ate', 'decarboxylase', 'from', 'bacillus', 'subtilis', '.', 'dimeric', 'assembly', 'is', 'observed', 'in', 'the', 'solved', 'structure', ',', 'which', 'is', 'consistent', 'with', 'the', 'elution', 'profile', 'conducted', 'by', 'molecular', 'filtration', '.', 'a', 'zinc', 'ion', 'is', 'coordinated', 'by', 'highly', 'conserved', 'histidine', '##s', '(', '191', ',', '193', ',', 'and', '204', ')', 'and', 'conserved', 'glutamate', '##s', '(', '62', 'and', '251', ')', '.', 'we', 'performed', 'kinetic', 'studies', 'on', 'acet', '##ola', '##ct', '##ate', 'decarboxylase', 'from', 'bacillus', 'subtilis', 'using', 'circular', 'dichroism', ',', 'allowing', 'the', 'conversion', 'of', 'acet', '##ola', '##ct', '##ate', 'to', 'chiral', 'acet', '##oin', 'for', 'real', '-', 'time', 'tracking', ',', 'yielding', 'a', 'km', 'value', 'of', '21', 'mm', 'and', 'a', 'kcat', 'value', 'of', '2', '.', '2', 's', '-', '1', '.', 'using', 'the', 'two', 'enantiomers', 'of', 'acet', '##ola', '##ct', '##ate', 'as', 'substrates', ',', 'we', 'further', 'investigated', 'the', 'substrate', 'preference', 'of', 'acet', '##ola', '##ct', '##ate', 'decarboxylase', 'from', 'bacillus', 'subtilis', 'by', 'means', 'of', 'molecular', 'docking', 'and', 'dynamic', 'simulation', 'in', 'silico', '.', 'the', 'binding', 'free', 'energy', 'of', '(', 's', ')', '-', 'acet', '##ola', '##ct', '##ate', 'was', 'found', 'to', 'be', '~', '30', 'kcal', '/', 'mol', 'greater', 'than', 'that', 'of', '(', 'r', ')', '-', 'acet', '##ola', '##ct', '##ate', ',', 'indicating', 'a', 'more', 'stable', 'binding', 'for', '(', 's', ')', '-', 'acet', '##ola', '##ct', '##ate', '.', '[SEP]'], 'target_tokens': []}\n",
      "\n",
      " Predictions:  acetoin @CHEMICAL@ @ @ unknown @ @ oin @CHEMICAL@ @ @ unknown @ @ oin @CHEMICAL@ @ @ unknown @ @ @CHEMICAL@ @ @ unknown @ @ @DISEASE@ @CID@\n",
      "Target:   17\n",
      "For abstract:  {'source_tokens': ['[CLS]', 'glucose', '@', 'chemical', '@', '[SEP]', 'background', ':', 'acet', '##oin', ',', 'especially', 'the', 'optically', 'pure', '(', '3s', ')', '-', 'or', '(', '3r', ')', '-', 'enantiomer', ',', 'is', 'a', 'high', '-', 'value', '-', 'added', 'bio', '-', 'based', 'platform', 'chemical', 'and', 'important', 'potential', 'pharmaceutical', 'intermediate', '.', 'over', 'the', 'past', 'decades', ',', 'intense', 'efforts', 'have', 'been', 'devoted', 'to', 'the', 'production', 'of', 'acet', '##oin', 'through', 'green', 'biotechn', '##iques', '.', 'however', ',', 'efficient', 'and', 'economical', 'methods', 'for', 'the', 'production', 'of', 'optically', 'pure', 'acet', '##oin', 'enantiomers', 'are', 'rarely', 'reported', '.', 'previously', ',', 'we', 'systematically', 'engineered', 'the', 'gras', 'microorganism', 'cor', '##yne', '##ba', '##ct', '##eri', '##um', 'glutamic', '##um', 'to', 'efficiently', 'produce', '(', '3r', ')', '-', 'acet', '##oin', 'from', 'glucose', '.', 'nevertheless', ',', 'its', 'yield', 'and', 'average', 'productivity', 'were', 'still', 'unsatisfactory', 'for', 'industrial', 'biop', '##roc', '##ess', '##es', '.', 'results', ':', 'in', 'this', 'study', ',', 'cellular', 'carbon', 'fluxes', 'in', 'the', 'acet', '##oin', 'producer', 'cg', '##r', '##6', 'were', 'further', 'red', '##irect', '##ed', 'toward', 'acet', '##oin', 'synthesis', 'using', 'several', 'metabolic', 'engineering', 'strategies', ',', 'including', 'blocking', 'anapl', '##ero', '##tic', 'pathways', ',', 'attenuating', 'key', 'genes', 'of', 'the', 'tca', 'cycle', 'and', 'integrating', 'additional', 'copies', 'of', 'the', 'als', '##sd', 'operon', 'into', 'the', 'genome', '.', 'among', 'them', ',', 'the', 'combination', 'of', 'attenuation', 'of', 'citrate', 'synthase', 'and', 'inactivation', 'of', 'phospho', '##enol', '##pyr', '##uv', '##ate', 'carboxylase', 'showed', 'a', 'significant', 'synergistic', 'effect', 'on', 'acet', '##oin', 'production', '.', 'finally', ',', 'the', 'optimal', 'engineered', 'strain', 'cg', '##s1', '##1', 'produced', 'a', 'titer', 'of', '102', '.', '45', 'g', '/', 'l', 'acet', '##oin', 'with', 'a', 'yield', 'of', '0', '.', '419', 'g', '/', 'g', 'glucose', 'at', 'a', 'rate', 'of', '1', '.', '86', 'g', '/', 'l', '/', 'h', 'in', 'a', '5', 'l', 'ferment', '##er', '.', 'the', 'optical', 'purity', 'of', 'the', 'resulting', '(', '3r', ')', '-', 'acet', '##oin', 'surpass', '##ed', '95', '%', '.', 'conclusion', ':', 'to', 'the', 'best', 'of', 'our', 'knowledge', ',', 'this', 'is', 'the', 'highest', 'titer', 'of', 'highly', 'enantiomer', '##ically', 'enriched', '(', '3r', ')', '-', 'acet', '##oin', ',', 'together', 'with', 'a', 'competitive', 'product', 'yield', 'and', 'productivity', ',', 'achieved', 'in', 'a', 'simple', ',', 'green', 'processes', 'without', 'expensive', 'additives', 'or', 'substrates', '.', 'this', 'process', 'therefore', 'opens', 'the', 'possibility', 'to', 'achieve', 'easy', ',', 'efficient', ',', 'economical', 'and', 'environmentally', '-', 'friendly', 'production', 'of', '(', '3r', ')', '-', 'acet', '##oin', 'via', 'microbial', 'fermentation', 'in', 'the', 'near', 'future', '.', '[SEP]'], 'target_tokens': []}\n",
      "\n",
      " Predictions:  sucrose @CHEMICAL@ glycerol @DISEASE@ @CID@ 2, 4 butanedione ; da @CHEMICAL@ respiratory diseases @DISEASE@ @CID@ glucose @CHEMICAL@ @ @ unknown @ @ oin ; ap @CHEMICAL@ @ @ unknown @ @ ketones ; ap @CHEMICAL@ @ @ unknown @ @ diseases @DISEASE@ @CID@\n",
      "Target:   18\n",
      "For abstract:  {'source_tokens': ['[CLS]', 'glycerol', '@', 'chemical', '@', 'sucrose', '@', 'chemical', '@', 'fructose', '@', 'chemical', '@', 'glucose', '@', 'chemical', '@', '[SEP]', 'background', ':', 'concerns', 'over', 'the', 'presence', 'of', 'the', 'di', '##ket', '##ones', '2', ',', '4', 'but', '##aned', '##ione', '(', 'da', ')', 'and', '2', ',', '3', 'pent', '##aned', '##ione', '(', 'ap', ')', 'in', 'e', '-', 'cigarettes', 'arise', 'from', 'their', 'potential', 'to', 'cause', 'respiratory', 'diseases', '.', 'their', 'presence', 'in', 'e', '-', 'liquids', 'is', 'a', 'primary', 'source', ',', 'but', 'they', 'may', 'potentially', 'be', 'generated', 'by', 'glycerol', '(', 'vg', ')', 'and', 'propyl', '##ene', 'glycol', '(', 'pg', ')', 'when', 'heated', 'to', 'produce', 'aerosol', '##s', '.', 'factors', 'leading', 'to', 'the', 'presence', 'of', 'ap', ',', 'da', 'and', 'acet', '##oin', '(', 'ac', ')', 'in', 'e', '-', 'cigarette', 'aerosol', '##s', 'were', 'investigated', '.', 'we', 'quantified', 'direct', 'transfer', 'from', 'e', '-', 'liquids', ',', 'examined', 'thermal', 'degradation', 'of', 'major', 'e', '-', 'liquid', 'constituents', 'vg', ',', 'pg', 'and', '1', ',', '3', 'prop', '##aned', '##iol', '(', '1', ',', '3', 'pd', ')', 'and', 'the', 'potential', 'for', 'ac', ',', 'ap', 'and', 'da', 'production', 'from', 'sugars', 'and', 'flavor', 'additives', 'when', 'heated', 'in', 'e', '-', 'cigarettes', '.', 'method', ':', 'transfers', 'of', 'ac', ',', 'ap', 'and', 'da', 'from', 'e', '-', 'liquids', 'to', 'e', '-', 'cigarette', 'aerosol', '##s', 'were', 'quantified', 'by', 'comparing', 'aerosol', 'concentrations', 'to', 'e', '-', 'liquid', 'concentrations', '.', 'thermal', 'generation', 'from', 'vg', ',', 'pg', 'or', '1', ',', '3', 'pd', 'e', '-', 'liquids', 'was', 'investigated', 'by', 'measuring', 'ac', ',', 'ap', 'and', 'da', 'emissions', 'as', 'a', 'function', 'of', 'temperature', 'in', 'an', 'e', '-', 'cigarette', '.', 'thermal', 'generation', 'of', 'ac', ',', 'ap', 'and', 'da', 'from', 'sugars', 'was', 'examined', 'by', 'aerosol', '##ising', 'e', '-', 'liquids', 'containing', 'sucrose', ',', 'fructose', 'or', 'glucose', 'in', 'an', 'e', '-', 'cigarette', '.', 'pyro', '##ly', '##tic', 'formation', 'of', 'ap', 'and', 'da', 'from', 'a', 'range', 'of', 'common', 'flavor', '##s', 'was', 'assessed', 'using', 'flash', 'pyro', '##lysis', 'techniques', '.', 'results', ':', 'ac', 'transfer', 'efficiency', 'was', '>', '90', '%', ',', 'while', 'ap', 'and', 'da', 'were', 'transferred', 'less', 'efficiently', '(', '65', '%', ')', 'indicating', 'losses', 'during', 'aerosol', '##isation', '.', 'quantif', '##iable', 'levels', 'of', 'da', 'were', 'generated', 'from', 'vg', 'and', 'pg', ',', 'and', 'to', 'a', 'lesser', 'extent', '1', ',', '3', 'pd', 'at', 'coil', 'temperatures', '>', '300', '°', 'c', '.', 'above', '350', '°', 'c', 'ap', 'was', 'generated', 'from', 'vg', 'and', '1', ',', '3', 'pd', 'but', 'not', 'pg', '.', 'ac', 'was', 'not', 'generated', 'from', 'major', 'constituents', ',', 'although', 'low', 'levels', 'were', 'thermal', 'reduction', 'of', 'da', '.', 'aerosol', '##s', 'from', 'e', '-', 'liquids', 'containing', 'sucrose', 'contained', 'quantif', '##iable', '(', '>', '6', 'ng', '/', 'pu', '##ff', ')', 'levels', 'of', 'da', 'at', 'all', 'sucrose', 'concentrations', 'tested', ',', 'with', 'da', 'emissions', 'increasing', 'with', 'increasing', 'device', 'power', 'and', 'concentration', '.', '1', '%', 'glucose', ',', 'fructose', 'or', 'sucrose', 'e', '-', 'liquids', 'gave', 'comparable', 'da', 'emissions', '.', 'fura', '##no', '##se', 'ring', 'compounds', 'also', 'generate', 'da', 'and', 'ap', 'when', 'heated', 'to', '250', '°', 'c', '.', 'conclusions', ':', 'in', 'addition', 'to', 'less', 'than', 'quantitative', 'direct', 'transfer', 'from', 'the', 'e', '-', 'liquid', ',', 'da', 'and', 'ap', 'can', 'be', 'present', 'in', 'the', 'e', '-', 'cigarette', 'aerosol', 'due', 'to', 'thermal', 'decomposition', 'reactions', 'of', 'glycol', '##s', ',', 'sugars', 'and', 'fura', '##non', '##se', 'ring', 'flavor', '##s', 'under', 'e', '-', 'cigarette', 'operating', 'conditions', '.', '[SEP]'], 'target_tokens': []}\n",
      "\n",
      " Predictions:  acetoin ; 3 - hydroxy - 2 - butanone @CHEMICAL@ acetoin ; 3 - hydroxy - 2 - butanone @CHEMICAL@ acetoin ; 3 - hydroxy - 2 - butanone @CHEMICAL@ acetoin ; 3 - hydroxy - 2 - butanone @CHEMICAL@ @ @ unknown @ @ oin ; 3 - hydroxy - 2 - butanone @CHEMICAL@ @ @ unknown @ @ oin ; 3 - hydroxy - 2 - butanone @CHEMICAL@ @ @ unknown @ @, 3 - butanediol @CHEMICAL@ @ @ unknown @ @ oin ; 3 - hydroxy - 2 - butanone @CHEMICAL@ @ @ unknown @ @, 3 - butanediol @CHEMICAL@ @ @ unknown @ @ oin ; 3 - hydroxy - 2 - butanone @CHEMICAL@ @ @ unknown @ @, 3 - butanediol @CHEMICAL@ @ @ unknown @ @ oin ; 3 - hydroxy - 2\n",
      "Target:   19\n",
      "For abstract:  {'source_tokens': ['[CLS]', 'hydroxy', '@', 'chemical', '@', '2', '-', 'but', '##anone', '@', 'chemical', '@', 'glucose', '@', 'chemical', '@', 'xylose', '@', 'chemical', '@', '[SEP]', 'background', ':', 'acet', '##oin', '(', '3', '-', 'hydroxy', '-', '2', '-', 'but', '##anone', ')', ',', 'the', 'precursor', 'of', 'bio', '##fu', '##el', '2', ',', '3', '-', 'but', '##aned', '##iol', ',', 'is', 'an', 'important', 'bio', '-', 'based', 'platform', 'chemical', 'with', 'wide', 'applications', '.', 'ferment', '##ing', 'the', 'low', '-', 'cost', 'and', 'renew', '##able', 'plant', 'biomass', 'is', 'undoubtedly', 'a', 'promising', 'strategy', 'for', 'acet', '##oin', 'production', '.', 'isothermal', 'simultaneous', 'sacch', '##ari', '##fi', '##cat', '##ion', 'and', 'fermentation', '(', 'ss', '##f', ')', 'is', 'regarded', 'as', 'an', 'efficient', 'method', 'for', 'biocon', '##version', 'of', 'lign', '##ocell', '##ulos', '##ic', 'biomass', ',', 'in', 'which', 'the', 'temperature', 'optim', '##a', 'fitting', 'for', 'both', 'lign', '##ocell', '##ulose', '-', 'degrading', 'enzymes', 'and', 'microbial', 'strains', '.', 'results', ':', 'a', 'thermo', '##to', '##ler', '##ant', '(', 'up', 'to', '52', '°', 'c', ')', 'acet', '##oin', 'producer', 'bacillus', 'subtilis', 'ip', '##e', '##5', '-', '4', 'which', 'simultaneously', 'consumed', 'glucose', 'and', 'xylose', 'was', 'isolated', 'and', 'identified', '.', 'by', 'compound', 'mutagenesis', ',', 'the', 'mutant', 'ip', '##e', '##5', '-', '4', '-', 'ud', '-', '4', 'with', 'higher', 'acet', '##oin', 'productivity', 'was', 'selected', '.', 'when', 'ferment', '##ing', 'at', '50', '°', 'c', 'in', 'a', '5', '-', 'l', 'bioreactor', 'using', 'glucose', 'as', 'the', 'feeds', '##to', '##ck', 'by', 'strain', 'ip', '##e', '##5', '-', '4', '-', 'ud', '-', '4', ',', 'the', 'acet', '##oin', 'concentration', 'reached', '28', '.', '83', '±', '0', '.', '91', 'g', 'l', '-', '1', 'with', 'the', 'acet', '##oin', 'yield', 'and', 'productivity', 'of', '0', '.', '34', 'g', 'g', '-', '1', 'glucose', 'and', '0', '.', '60', 'g', 'l', '-', '1', 'h', '-', '1', ',', 'respectively', '.', 'furthermore', ',', 'an', 'optimized', 'and', 'thermo', '##phi', '##lic', 'ss', '##f', 'process', 'operating', 'at', '50', '°', 'c', 'was', 'conducted', 'for', 'acet', '##oin', 'production', 'from', 'alkali', '-', 'pretreated', 'corn', '##co', '##b', '(', 'apc', ')', '.', 'an', 'acet', '##oin', 'concentration', 'of', '12', '.', '55', '±', '0', '.', '28', 'g', 'l', '-', '1', 'was', 'achieved', 'by', 'strain', 'ip', '##e', '##5', '-', '4', '-', 'ud', '-', '4', 'in', 'sha', '##ke', 'flask', 'ss', '##f', ',', 'with', 'the', 'acet', '##oin', 'yield', 'and', 'productivity', 'of', '0', '.', '25', 'g', 'g', '-', '1', 'apc', 'and', '0', '.', '17', 'g', 'l', '-', '1', 'h', '-', '1', '.', 'meanwhile', ',', 'the', 'utilization', 'of', 'cellulose', 'and', 'hemic', '##ell', '##ulose', 'in', 'the', 'ss', '##f', 'approach', 'reached', '96', '.', '34', '93', '.', '29', '%', ',', 'respectively', '.', 'when', 'further', 'fermented', 'at', '50', '°', 'c', 'in', 'a', '5', '-', 'l', 'bioreactor', ',', 'the', 'concentration', 'of', 'acet', '##oin', 'reached', 'the', 'maximum', 'of', '22', '.', '76', '±', '1', '.', '16', 'g', 'l', '-', '1', ',', 'with', 'the', 'acet', '##oin', 'yield', 'and', 'productivity', 'reaching', ',', 'respectively', ',', '0', '.', '46', 'g', 'g', '-', '1', 'apc', 'and', '0', '.', '38', 'g', 'l', '-', '1', 'h', '-', '1', '.', 'this', 'was', 'by', 'far', 'the', 'highest', 'acet', '##oin', 'yield', 'in', 'ss', '##f', 'from', 'lign', '##ocell', '##ulos', '##ic', 'biomass', '.', 'conclusions', ':', 'this', 'thermo', '##phi', '##lic', 'ss', '##f', 'process', 'provided', 'an', 'efficient', 'and', 'economical', 'route', 'for', 'acet', '##oin', 'production', 'from', 'lign', '##ocell', '##ulos', '##ic', 'biomass', 'at', 'ideal', 'temperature', 'for', 'both', 'enzymatic', 'hydrolysis', 'and', 'microbial', 'fermentation', '.', '[SEP]'], 'target_tokens': []}\n"
     ]
    }
   ],
   "source": [
    "import pandas as pd    \n",
    "jsonObj = pd.read_json(path_or_buf='test_predictions_custom.jsonl', lines=True)\n",
    "for i in range(len(jsonObj['predicted_strings'].iloc[0])):\n",
    "#     if(jsonObj['target_strings'].iloc[0][i]): # Use for test_predictions_500.jsonl\n",
    "    print('\\n Predictions: ', jsonObj['predicted_strings'].iloc[0][i])\n",
    "    print('Target: ', jsonObj['target_strings'].iloc[0][i], i)\n",
    "    print('For abstract: ', jsonObj['metadata'].iloc[0][i])\n",
    "\n",
    "\n",
    "# Important things to see:\n",
    "    # In 5th output, our NER was unable to detect 3-hydroxy-2-butanone (maybe removed because of redundancy issue), but\n",
    "    # the RE model has picked this entity and predicted as having a relation to disease.\n",
    "    # This shows that the model does not only depend on the Entity hinting to get entities."
   ]
  },
  {
   "cell_type": "code",
   "execution_count": null,
   "id": "91234d21",
   "metadata": {},
   "outputs": [],
   "source": []
  },
  {
   "cell_type": "code",
   "execution_count": null,
   "id": "542f9e00",
   "metadata": {},
   "outputs": [],
   "source": []
  },
  {
   "cell_type": "code",
   "execution_count": 25,
   "id": "c1454c2f",
   "metadata": {},
   "outputs": [
    {
     "data": {
      "text/plain": [
       "{'Magnesium': [('magnesium', (47, 56)),\n",
       "  ('magnesium', (193, 202)),\n",
       "  ('magnesium', (247, 256)),\n",
       "  ('magnesium', (329, 338)),\n",
       "  ('magnesium', (795, 804)),\n",
       "  ('magnesium', (1044, 1053))]}"
      ]
     },
     "execution_count": 25,
     "metadata": {},
     "output_type": "execute_result"
    }
   ],
   "source": [
    "d = {'Magnesium': [('magnesium', (47, 56)), ('magnesium', (193, 202)), ('magnesium', (247, 256)), ('magnesium', (329, 338)), ('magnesium', (795, 804)), ('magnesium', (1044, 1053))]}\n",
    "\n",
    "d"
   ]
  },
  {
   "cell_type": "code",
   "execution_count": 38,
   "id": "f4ba96e7",
   "metadata": {},
   "outputs": [
    {
     "data": {
      "text/plain": [
       "['magnesium', 'magnesium', 'magnesium', 'magnesium', 'magnesium', 'magnesium']"
      ]
     },
     "execution_count": 38,
     "metadata": {},
     "output_type": "execute_result"
    }
   ],
   "source": [
    "[i[0] for i in d['Magnesium']]"
   ]
  },
  {
   "cell_type": "code",
   "execution_count": 34,
   "id": "23a53d3b",
   "metadata": {},
   "outputs": [],
   "source": [
    "nlp = spacy.load(\"patterns_02_17\")"
   ]
  },
  {
   "cell_type": "code",
   "execution_count": 59,
   "id": "d4a1750c",
   "metadata": {},
   "outputs": [
    {
     "name": "stdout",
     "output_type": "stream",
     "text": [
      "{\"Uridine 5'-diphosphate\": [(\"Uridine 5 ' - diphosphate\", 'Metabolites', (0, 25)), ('UDP', 'Metabolites', (28, 31)), (\"uridINe 5 ' - dipHOSphaTe\", 'Metabolites', (38, 63))], 'D-Glucose': [('glucose', 'Metabolites', (66, 73))], 'Uridine diphosphate glucuronic acid': [('UDP - glucuronic acid', 'Metabolites', (105, 126))], 'Uridine diphosphate glucose': [('UDP - glucose', 'Metabolites', (132, 145))], 'Sucrose': [('sugar', 'Metabolites', (230, 235))]}\n"
     ]
    }
   ],
   "source": [
    "abstract = \"Uridine 5'-diphosphate ( UDP ) and uridINe 5' - dipHOSphaTe - glucose dehydrogenase ( UGD ) produces UDP - glucuronic acid from UDP - glucose as a precursor of plant cell wall polysaccharides .UDP - glucuronic acid is also a sugar donor for the glycosylation of various plant specialized metabolites .Nevertheless , the roles of UGDs in plant specialized metabolism remain poorly understood .Glycyrrhiza species ( licorice ) , which are medicinal legumes , biosynthesize triterpenoid saponins , soyasaponins and glycyrrhizin , commonly glucuronosylated at the C - 3 position of the triterpenoid scaffold .\"\n",
    "abstract_spaced = \"\".join((' {} '.format(el.encode().decode()) if (not el.isalnum() and not el.isspace()) else el for el in abstract))\n",
    "abstract_preprocessed = \" \".join(abstract_spaced.split())\n",
    "doc = None\n",
    "doc = nlp(abstract_preprocessed)\n",
    "entities_dict = {}\n",
    "\n",
    "#print NER result\n",
    "for ent in doc.ents:\n",
    "    # Add to a dict\n",
    "    if(not entities_dict.get(str(ent.ent_id_))):\n",
    "        entities_dict[str(ent.ent_id_)] = [(str(ent.text), str(ent.label_), (ent.start_char, ent.end_char))] # Value and its offset  \n",
    "    else:\n",
    "        if(str(ent.text) not in [i[0] for i in entities_dict[str(ent.ent_id_)]]): # Do not add if already there\n",
    "            entities_dict[str(ent.ent_id_)].append((str(ent.text), str(ent.label_), (ent.start_char, ent.end_char)))\n",
    "print(entities_dict)\n"
   ]
  },
  {
   "cell_type": "code",
   "execution_count": 60,
   "id": "5a27b95d",
   "metadata": {},
   "outputs": [
    {
     "name": "stdout",
     "output_type": "stream",
     "text": [
      "Uridine 5'-diphosphate\n",
      "D-Glucose\n",
      "Uridine diphosphate glucuronic acid\n",
      "Uridine diphosphate glucose\n",
      "Sucrose\n"
     ]
    }
   ],
   "source": [
    "entity_string_list = []\n",
    "\n",
    "for ent in entities_dict:\n",
    "    entity_string = \"\"\n",
    "    if(len(entities_dict[ent]) > 1):\n",
    "        entity_string+= str(entities_dict[ent][0][0])\n",
    "        for inner_ent in entities_dict[ent][1:]:\n",
    "            entity_string+= ' ; ' + str(inner_ent[0])\n",
    "        entity_string+=' @' +  str(inner_ent[1]) + '@'\n",
    "        \n",
    "    else:\n",
    "        entity_string+= str(entities_dict[ent][0][0]) + ' @' +  str(entities_dict[ent][0][1]) + '@'\n",
    "    \n",
    "    entity_string_list.append(entity_string)"
   ]
  },
  {
   "cell_type": "code",
   "execution_count": 61,
   "id": "fa3072fd",
   "metadata": {},
   "outputs": [
    {
     "data": {
      "text/plain": [
       "[\"Uridine 5 ' - diphosphate ; UDP ; uridINe 5 ' - dipHOSphaTe @Metabolites@\",\n",
       " 'glucose @Metabolites@',\n",
       " 'UDP - glucuronic acid @Metabolites@',\n",
       " 'UDP - glucose @Metabolites@',\n",
       " 'sugar @Metabolites@']"
      ]
     },
     "execution_count": 61,
     "metadata": {},
     "output_type": "execute_result"
    }
   ],
   "source": [
    "entity_string_list"
   ]
  },
  {
   "cell_type": "code",
   "execution_count": null,
   "id": "865b4cdb",
   "metadata": {},
   "outputs": [],
   "source": []
  },
  {
   "cell_type": "code",
   "execution_count": 67,
   "id": "a06195bb",
   "metadata": {},
   "outputs": [],
   "source": [
    "# These entities have spaces and stuffs in them. So before doing RE, send the spaced abstracts and not just abstracts\n",
    "# They lower all words while storing in test.tsv, and this lower entities are passed to RE\n",
    "# But keep Disease or Chemical to upper\n",
    "# Check if even abstracts are converted to lower - No they are kept as same\n",
    "# Most test text after entity hinting is just no entities - maybe it is because of cdr data. If no entities detected, then ignore. No need to add.\n",
    "\n",
    "# Change @metabolism@ to @chemical@ in hinting\n",
    "# In test relation target, filter out entities in target which do not have words predicted by our ner - cdr\n",
    "# Two character words need to be case sensitive - \n",
    "\n",
    "# Switch to Bloom\n",
    "# And try biomedical entities\n",
    "\n",
    "# Disease names combine - \n",
    "# Works here but not when ran as python seq2rel-ds/cdr.py\n",
    "# Do allen predict - predictions have chemical and disease entities. Need to do finetuning on this pretrained model.\n",
    "\n",
    "# What if the relation target does not contain any of the NER terms, we need some string for evaluation."
   ]
  },
  {
   "cell_type": "code",
   "execution_count": null,
   "id": "0e7728b4",
   "metadata": {},
   "outputs": [],
   "source": []
  },
  {
   "cell_type": "code",
   "execution_count": 4,
   "id": "00803146",
   "metadata": {},
   "outputs": [
    {
     "data": {
      "text/plain": [
       "['naloxone @CHEMICAL@',\n",
       " 'clonidine @CHEMICAL@',\n",
       " 'hypertensive @DISEASE@',\n",
       " 'nalozone ; [3h]-naloxone ;[3h]-dihydroergocryptine @CHEMICAL@',\n",
       " 'hypotensive @DISEASE@',\n",
       " 'alpha-methyldopa @CHEMICAL@']"
      ]
     },
     "execution_count": 4,
     "metadata": {},
     "output_type": "execute_result"
    }
   ],
   "source": [
    "l = ['naloxone @CHEMICAL@', 'clonidine @CHEMICAL@', 'hypertensive @DISEASE@', 'nalozone ; [3h]-naloxone ;\\\n",
    "[3h]-dihydroergocryptine @CHEMICAL@', 'hypotensive @DISEASE@', 'alpha-methyldopa @CHEMICAL@']\n",
    "l"
   ]
  },
  {
   "cell_type": "code",
   "execution_count": 12,
   "id": "c077fd75",
   "metadata": {},
   "outputs": [],
   "source": []
  },
  {
   "cell_type": "code",
   "execution_count": 22,
   "id": "f6a612af",
   "metadata": {},
   "outputs": [
    {
     "name": "stdout",
     "output_type": "stream",
     "text": [
      "\u001b[1m\n",
      "======================================= Preprocessing CDR =======================================\u001b[0m\n",
      "\u001b[2K\u001b[38;5;2m✔ Downloaded the corpus.\u001b[0m\n",
      "\u001b[38;5;4mℹ Entity hints will be inserted into the source text using the\n",
      "annotations from PubTator.\u001b[0m\n",
      "\u001b[38;5;4mℹ Training and validation sets will be combined into one train set.\u001b[0m\n",
      "\u001b[2K\u001b[38;5;2m✔ Preprocessed the data.\u001b[0m\n",
      "\u001b[38;5;2m✔ Preprocessed data saved to\n",
      "/N/project/zhangclab/Pavi/KD-DocRE/RE/seq2rel-ds/custom_main_test_cdr.\u001b[0m\n"
     ]
    }
   ],
   "source": [
    "%reload_ext autoreload\n",
    "%autoreload 2\n",
    "\n",
    "!python seq2rel_ds/cdr.py --entity_hinting 'pipeline'\n"
   ]
  },
  {
   "cell_type": "code",
   "execution_count": null,
   "id": "b147afaf",
   "metadata": {},
   "outputs": [],
   "source": []
  },
  {
   "cell_type": "code",
   "execution_count": null,
   "id": "57f0023a",
   "metadata": {},
   "outputs": [],
   "source": []
  }
 ],
 "metadata": {
  "kernelspec": {
   "display_name": "Python 3",
   "language": "python",
   "name": "python3"
  },
  "language_info": {
   "codemirror_mode": {
    "name": "ipython",
    "version": 3
   },
   "file_extension": ".py",
   "mimetype": "text/x-python",
   "name": "python",
   "nbconvert_exporter": "python",
   "pygments_lexer": "ipython3",
   "version": "3.9.8"
  }
 },
 "nbformat": 4,
 "nbformat_minor": 5
}
