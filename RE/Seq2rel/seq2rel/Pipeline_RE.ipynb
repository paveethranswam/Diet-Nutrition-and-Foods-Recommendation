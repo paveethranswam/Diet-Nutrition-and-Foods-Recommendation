{
 "cells": [
  {
   "cell_type": "code",
   "execution_count": 1,
   "id": "7fc8c911-92a3-408a-99f4-70bd4b7b5647",
   "metadata": {},
   "outputs": [
    {
     "name": "stderr",
     "output_type": "stream",
     "text": [
      "/N/u/paswam/Carbonate/.local/lib/python3.9/site-packages/tqdm/auto.py:22: TqdmWarning: IProgress not found. Please update jupyter and ipywidgets. See https://ipywidgets.readthedocs.io/en/stable/user_install.html\n",
      "  from .autonotebook import tqdm as notebook_tqdm\n",
      "2023-02-17 21:55:07.873707: W tensorflow/stream_executor/platform/default/dso_loader.cc:64] Could not load dynamic library 'libcudart.so.11.0'; dlerror: libcudart.so.11.0: cannot open shared object file: No such file or directory; LD_LIBRARY_PATH: /N/soft/rhel7/python/3.9.8/lib:/N/soft/rhel7/intel/19.5/compilers_and_libraries_2019.5.281/linux/compiler/lib/intel64:/N/soft/rhel7/intel/19.5/compilers_and_libraries_2019.5.281/linux/ipp/lib/intel64:/N/soft/rhel7/intel/19.5/compilers_and_libraries_2019.5.281/linux/compiler/lib/intel64_lin:/N/soft/rhel7/intel/19.5/compilers_and_libraries_2019.5.281/linux/mkl/lib/intel64_lin:/N/soft/rhel7/intel/19.5/compilers_and_libraries_2019.5.281/linux/tbb/lib/intel64/gcc4.7:/N/soft/rhel7/intel/19.5/debugger_2019/iga/lib:/N/soft/rhel7/intel/19.5/debugger_2019/libipt/intel64/lib:/N/soft/rhel7/intel/19.5/compilers_and_libraries_2019.5.281/linux/daal/lib/intel64_lin:/N/soft/rhel7/gcc/12.1.0/lib64:/N/soft/rhel7/gcc/12.1.0/lib:/N/soft/rhel7/gcc/infrastructure/lib\n",
      "2023-02-17 21:55:07.873808: I tensorflow/stream_executor/cuda/cudart_stub.cc:29] Ignore above cudart dlerror if you do not have a GPU set up on your machine.\n"
     ]
    }
   ],
   "source": [
    "from seq2rel import Seq2Rel\n",
    "from seq2rel.common import util"
   ]
  },
  {
   "cell_type": "code",
   "execution_count": 2,
   "id": "3ad25b79-df01-4753-9ba7-10b22a8c2ff1",
   "metadata": {},
   "outputs": [],
   "source": [
    "# import sys  \n",
    "# print(sys)\n",
    "# !{sys.executable} -m pip install --user fastai\n"
   ]
  },
  {
   "cell_type": "code",
   "execution_count": 3,
   "id": "3e6eba5d-73db-4373-92c4-a6af3482616a",
   "metadata": {},
   "outputs": [
    {
     "name": "stderr",
     "output_type": "stream",
     "text": [
      "error loading _jsonnet (this is expected on Windows), treating /tmp/tmp8c0olmeo/config.json as plain json\n",
      "error loading _jsonnet (this is expected on Windows), treating snippet as plain json\n",
      "Special tokens have been added in the vocabulary, make sure the associated word embeddings are fine-tuned or trained.\n",
      "Special tokens have been added in the vocabulary, make sure the associated word embeddings are fine-tuned or trained.\n",
      "Special tokens have been added in the vocabulary, make sure the associated word embeddings are fine-tuned or trained.\n",
      "Special tokens have been added in the vocabulary, make sure the associated word embeddings are fine-tuned or trained.\n",
      "/N/u/paswam/Carbonate/.local/lib/python3.9/site-packages/allennlp/common/cached_transformers.py:81: UserWarning: You specified 'reinit_modules' in allennlp.common.cached_transformers.get(), but 'load_weights' is set to False, so 'reinit_modules' will be ignored.\n",
      "  warnings.warn(\n",
      "/N/u/paswam/Carbonate/.local/lib/python3.9/site-packages/allennlp/models/archival.py:325: UserWarning: The model https://github.com/JohnGiorgi/seq2rel/releases/download/pretrained-models/cdr.tar.gz was trained on a newer version of AllenNLP (v2.9.0), but you're using version 2.10.1.\n",
      "  warnings.warn(\n"
     ]
    },
    {
     "data": {
      "text/plain": [
       "<seq2rel.seq2rel.Seq2Rel at 0x2b27088d6550>"
      ]
     },
     "execution_count": 3,
     "metadata": {},
     "output_type": "execute_result"
    }
   ],
   "source": [
    "sm = Seq2Rel('cdr')\n",
    "sm"
   ]
  },
  {
   "cell_type": "code",
   "execution_count": 19,
   "id": "8a5ebdda",
   "metadata": {},
   "outputs": [
    {
     "name": "stdout",
     "output_type": "stream",
     "text": [
      "[{'metadata': {'source_tokens': ['[CLS]', 'variations', 'in', 'the', 'monoamine', 'oxidase', 'b', '(', 'mao', '##b', ')', 'gene', 'are', 'highly', 'associated', 'with', 'parkinson', \"'\", 's', 'disease', '(', 'pd', ')', '.', '[SEP]']}, 'predicted_log_probs': [-0.004671413917094469, -0.048253197222948074, -0.6038601994514465], 'predictions': [[13, 26, 27, 28, 5, 30, 3, 4, 7, 7, 7, 7, 7, 7, 7, 7], [13, 14, 15, 5, 17, 18, 2, 25, 26, 27, 28, 5, 30, 3, 4, 7], [13, 26, 27, 28, 5, 30, 2, 4, 7, 7, 7, 7, 7, 7, 7, 7]], 'predicted_tokens': ['monoamine', \"'\", 's', 'disease', ';', 'pd', '@DISEASE@', '@CID@'], 'predicted_strings': \"monoamine's disease ; pd @DISEASE@ @CID@\"}]\n",
      "[\"monoamine's disease ; pd @DISEASE@ @CID@\"]\n"
     ]
    }
   ],
   "source": [
    "input_text_positive = \"Variations in the monoamine oxidase B (MAOB) gene are highly associated with Parkinson's disease (PD).\"\n",
    "\n",
    "output = sm(input_text_positive)\n"
   ]
  },
  {
   "cell_type": "code",
   "execution_count": 21,
   "id": "2ab491ac",
   "metadata": {},
   "outputs": [
    {
     "name": "stdout",
     "output_type": "stream",
     "text": [
      "[\"monoamine's disease ; pd @DISEASE@ @CID@\"]\n"
     ]
    }
   ],
   "source": [
    "print(output)\n",
    "\n",
    "# CID = chemical-induced disease (CID)"
   ]
  },
  {
   "cell_type": "code",
   "execution_count": 22,
   "id": "d9153f54-8e5e-4284-b29f-242be5d36943",
   "metadata": {},
   "outputs": [
    {
     "name": "stdout",
     "output_type": "stream",
     "text": [
      "[{}]\n"
     ]
    }
   ],
   "source": [
    "# For a more structured and useful output, use this\n",
    "extract_relations = util.extract_relations(output)\n",
    "print(extract_relations)\n"
   ]
  },
  {
   "cell_type": "code",
   "execution_count": null,
   "id": "885b5dc2-8ac2-4558-91cf-0f9e556ede56",
   "metadata": {},
   "outputs": [],
   "source": []
  },
  {
   "cell_type": "code",
   "execution_count": 24,
   "id": "25a4595b-f0cb-48b6-8d88-9aba6e0ca2ac",
   "metadata": {},
   "outputs": [
    {
     "name": "stdout",
     "output_type": "stream",
     "text": [
      "Variations in the monoamine oxidase B ( MAOB ) gene are highly associated with Parkinson ' s disease ( PD ) .\n"
     ]
    }
   ],
   "source": [
    "abstract = util.sanitize_text(input_text_positive)\n",
    "abstract_spaced = \"\".join((' {} '.format(el.encode().decode()) if (not el.isalnum() and not el.isspace()) else el for el in abstract))\n",
    "abstract_preprocessed = \" \".join(abstract_spaced.split())\n",
    "print(abstract_preprocessed)"
   ]
  },
  {
   "cell_type": "code",
   "execution_count": 25,
   "id": "ce8543af-e143-449d-83c2-43086b0bac91",
   "metadata": {},
   "outputs": [
    {
     "data": {
      "text/plain": [
       "(((\"monoamine's disease\", 'pd'), 'DISEASE'),)"
      ]
     },
     "execution_count": 25,
     "metadata": {},
     "output_type": "execute_result"
    }
   ],
   "source": [
    "util.extract_entities(output[0])"
   ]
  },
  {
   "cell_type": "markdown",
   "id": "db08aa65",
   "metadata": {},
   "source": [
    "### Another example"
   ]
  },
  {
   "cell_type": "code",
   "execution_count": null,
   "id": "1d6af749-a6cf-48cc-9171-6b9cbe543f52",
   "metadata": {},
   "outputs": [],
   "source": []
  },
  {
   "cell_type": "code",
   "execution_count": 28,
   "id": "1b1a3413",
   "metadata": {},
   "outputs": [
    {
     "name": "stdout",
     "output_type": "stream",
     "text": [
      "[{'metadata': {'source_tokens': ['[CLS]', 'uridine', '5', \"'\", '-', 'diphosphate', '(', 'udp', ')', '-', 'glucose', 'dehydrogenase', '(', 'ug', '##d', ')', 'produces', 'udp', '-', 'glucuron', '##ic', 'acid', 'from', 'udp', '-', 'glucose', 'as', 'a', 'precursor', 'of', 'plant', 'cell', 'wall', 'polysaccharides', '.', '[SEP]']}, 'predicted_log_probs': [-0.0017473016632720828, -0.017168721184134483, -0.02182188630104065], 'predictions': [[16, 13, 28, 29, 30, 2, 1, 13, 28, 29, 30, 2, 1, 13, 28, 29, 30, 2, 1, 13, 28, 29, 30, 2, 1, 13, 28, 29, 30, 2, 1, 13, 28, 29, 30, 2, 1, 13, 28, 29, 30, 2, 1, 13, 28, 29, 30, 2, 1, 13, 28, 29, 30, 2, 1, 13, 28, 29, 30, 2, 1, 13, 28, 29, 30, 2, 1, 13, 28, 29, 30, 2, 1, 13, 28, 29, 30, 2, 1, 13, 28, 29, 30, 2, 1, 13, 28, 29, 30, 2, 1, 13, 28, 29, 30, 2, 1, 13, 28, 29, 30, 2, 1, 13, 28, 29, 30, 2, 1, 13, 28, 29, 30, 2, 1, 13, 28, 29, 30, 2, 1, 13, 28, 29, 30, 2, 1, 13], [16, 13, 28, 29, 30, 2, 1, 13, 28, 29, 30, 2, 1, 13, 28, 29, 30, 2, 1, 13, 28, 29, 30, 2, 1, 13, 28, 29, 30, 2, 1, 13, 28, 29, 30, 2, 4, 7, 7, 7, 7, 7, 7, 7, 7, 7, 7, 7, 7, 7, 7, 7, 7, 7, 7, 7, 7, 7, 7, 7, 7, 7, 7, 7, 7, 7, 7, 7, 7, 7, 7, 7, 7, 7, 7, 7, 7, 7, 7, 7, 7, 7, 7, 7, 7, 7, 7, 7, 7, 7, 7, 7, 7, 7, 7, 7, 7, 7, 7, 7, 7, 7, 7, 7, 7, 7, 7, 7, 7, 7, 7, 7, 7, 7, 7, 7, 7, 7, 7, 7, 7, 7, 7, 7, 7, 7, 7, 7], [16, 13, 28, 29, 30, 2, 1, 13, 28, 29, 30, 2, 1, 13, 28, 29, 30, 2, 1, 13, 28, 29, 30, 2, 1, 13, 28, 29, 30, 2, 4, 7, 7, 7, 7, 7, 7, 7, 7, 7, 7, 7, 7, 7, 7, 7, 7, 7, 7, 7, 7, 7, 7, 7, 7, 7, 7, 7, 7, 7, 7, 7, 7, 7, 7, 7, 7, 7, 7, 7, 7, 7, 7, 7, 7, 7, 7, 7, 7, 7, 7, 7, 7, 7, 7, 7, 7, 7, 7, 7, 7, 7, 7, 7, 7, 7, 7, 7, 7, 7, 7, 7, 7, 7, 7, 7, 7, 7, 7, 7, 7, 7, 7, 7, 7, 7, 7, 7, 7, 7, 7, 7, 7, 7, 7, 7, 7, 7]], 'predicted_tokens': ['udp', '-', 'glucuron', '##ic', 'acid', '@CHEMICAL@', '@@UNKNOWN@@', '-', 'glucuron', '##ic', 'acid', '@CHEMICAL@', '@@UNKNOWN@@', '-', 'glucuron', '##ic', 'acid', '@CHEMICAL@', '@@UNKNOWN@@', '-', 'glucuron', '##ic', 'acid', '@CHEMICAL@', '@@UNKNOWN@@', '-', 'glucuron', '##ic', 'acid', '@CHEMICAL@', '@@UNKNOWN@@', '-', 'glucuron', '##ic', 'acid', '@CHEMICAL@', '@@UNKNOWN@@', '-', 'glucuron', '##ic', 'acid', '@CHEMICAL@', '@@UNKNOWN@@', '-', 'glucuron', '##ic', 'acid', '@CHEMICAL@', '@@UNKNOWN@@', '-', 'glucuron', '##ic', 'acid', '@CHEMICAL@', '@@UNKNOWN@@', '-', 'glucuron', '##ic', 'acid', '@CHEMICAL@', '@@UNKNOWN@@', '-', 'glucuron', '##ic', 'acid', '@CHEMICAL@', '@@UNKNOWN@@', '-', 'glucuron', '##ic', 'acid', '@CHEMICAL@', '@@UNKNOWN@@', '-', 'glucuron', '##ic', 'acid', '@CHEMICAL@', '@@UNKNOWN@@', '-', 'glucuron', '##ic', 'acid', '@CHEMICAL@', '@@UNKNOWN@@', '-', 'glucuron', '##ic', 'acid', '@CHEMICAL@', '@@UNKNOWN@@', '-', 'glucuron', '##ic', 'acid', '@CHEMICAL@', '@@UNKNOWN@@', '-', 'glucuron', '##ic', 'acid', '@CHEMICAL@', '@@UNKNOWN@@', '-', 'glucuron', '##ic', 'acid', '@CHEMICAL@', '@@UNKNOWN@@', '-', 'glucuron', '##ic', 'acid', '@CHEMICAL@', '@@UNKNOWN@@', '-', 'glucuron', '##ic', 'acid', '@CHEMICAL@', '@@UNKNOWN@@', '-', 'glucuron', '##ic', 'acid', '@CHEMICAL@', '@@UNKNOWN@@', '-'], 'predicted_strings': 'udp - glucuronic acid @CHEMICAL@ @ @ unknown @ @ - glucuronic acid @CHEMICAL@ @ @ unknown @ @ - glucuronic acid @CHEMICAL@ @ @ unknown @ @ - glucuronic acid @CHEMICAL@ @ @ unknown @ @ - glucuronic acid @CHEMICAL@ @ @ unknown @ @ - glucuronic acid @CHEMICAL@ @ @ unknown @ @ - glucuronic acid @CHEMICAL@ @ @ unknown @ @ - glucuronic acid @CHEMICAL@ @ @ unknown @ @ - glucuronic acid @CHEMICAL@ @ @ unknown @ @ - glucuronic acid @CHEMICAL@ @ @ unknown @ @ - glucuronic acid @CHEMICAL@ @ @ unknown @ @ - glucuronic acid @CHEMICAL@ @ @ unknown @ @ - glucuronic acid @CHEMICAL@ @ @ unknown @ @ - glucuronic acid @CHEMICAL@ @ @ unknown @ @ - glucuronic acid @CHEMICAL@ @ @ unknown @ @ - glucuronic acid @CHEMICAL@ @ @ unknown @ @ - glucuronic acid @CHEMICAL@ @ @ unknown @ @ - glucuronic acid @CHEMICAL@ @ @ unknown @ @ - glucuronic acid @CHEMICAL@ @ @ unknown @ @ - glucuronic acid @CHEMICAL@ @ @ unknown @ @ - glucuronic acid @CHEMICAL@ @ @ unknown @ @ -'}]\n",
      "['udp - glucuronic acid @CHEMICAL@ @ @ unknown @ @ - glucuronic acid @CHEMICAL@ @ @ unknown @ @ - glucuronic acid @CHEMICAL@ @ @ unknown @ @ - glucuronic acid @CHEMICAL@ @ @ unknown @ @ - glucuronic acid @CHEMICAL@ @ @ unknown @ @ - glucuronic acid @CHEMICAL@ @ @ unknown @ @ - glucuronic acid @CHEMICAL@ @ @ unknown @ @ - glucuronic acid @CHEMICAL@ @ @ unknown @ @ - glucuronic acid @CHEMICAL@ @ @ unknown @ @ - glucuronic acid @CHEMICAL@ @ @ unknown @ @ - glucuronic acid @CHEMICAL@ @ @ unknown @ @ - glucuronic acid @CHEMICAL@ @ @ unknown @ @ - glucuronic acid @CHEMICAL@ @ @ unknown @ @ - glucuronic acid @CHEMICAL@ @ @ unknown @ @ - glucuronic acid @CHEMICAL@ @ @ unknown @ @ - glucuronic acid @CHEMICAL@ @ @ unknown @ @ - glucuronic acid @CHEMICAL@ @ @ unknown @ @ - glucuronic acid @CHEMICAL@ @ @ unknown @ @ - glucuronic acid @CHEMICAL@ @ @ unknown @ @ - glucuronic acid @CHEMICAL@ @ @ unknown @ @ - glucuronic acid @CHEMICAL@ @ @ unknown @ @ -']\n"
     ]
    }
   ],
   "source": [
    "input_text_negative = \"Uridine 5 ' - diphosphate ( UDP ) - glucose dehydrogenase ( UGD ) produces UDP - glucuronic acid from\\\n",
    "                        UDP - glucose as a precursor of plant cell wall polysaccharides .\"\n",
    "\n",
    "output = sm(input_text_negative)\n",
    "print(output)\n",
    "\n",
    "# CID = chemical-induced disease (CID)\n",
    "\n",
    "# This method extracts relations using the pretrained model - which is called by allennlp object"
   ]
  },
  {
   "cell_type": "code",
   "execution_count": null,
   "id": "a81e16d1",
   "metadata": {},
   "outputs": [],
   "source": []
  },
  {
   "cell_type": "code",
   "execution_count": 29,
   "id": "7e999044",
   "metadata": {},
   "outputs": [
    {
     "data": {
      "text/plain": [
       "['udp - glucuronic acid @CHEMICAL@ @ @ unknown @ @ - glucuronic acid @CHEMICAL@ @ @ unknown @ @ - glucuronic acid @CHEMICAL@ @ @ unknown @ @ - glucuronic acid @CHEMICAL@ @ @ unknown @ @ - glucuronic acid @CHEMICAL@ @ @ unknown @ @ - glucuronic acid @CHEMICAL@ @ @ unknown @ @ - glucuronic acid @CHEMICAL@ @ @ unknown @ @ - glucuronic acid @CHEMICAL@ @ @ unknown @ @ - glucuronic acid @CHEMICAL@ @ @ unknown @ @ - glucuronic acid @CHEMICAL@ @ @ unknown @ @ - glucuronic acid @CHEMICAL@ @ @ unknown @ @ - glucuronic acid @CHEMICAL@ @ @ unknown @ @ - glucuronic acid @CHEMICAL@ @ @ unknown @ @ - glucuronic acid @CHEMICAL@ @ @ unknown @ @ - glucuronic acid @CHEMICAL@ @ @ unknown @ @ - glucuronic acid @CHEMICAL@ @ @ unknown @ @ - glucuronic acid @CHEMICAL@ @ @ unknown @ @ - glucuronic acid @CHEMICAL@ @ @ unknown @ @ - glucuronic acid @CHEMICAL@ @ @ unknown @ @ - glucuronic acid @CHEMICAL@ @ @ unknown @ @ - glucuronic acid @CHEMICAL@ @ @ unknown @ @ -']"
      ]
     },
     "execution_count": 29,
     "metadata": {},
     "output_type": "execute_result"
    }
   ],
   "source": [
    "output"
   ]
  },
  {
   "cell_type": "code",
   "execution_count": null,
   "id": "887312af",
   "metadata": {},
   "outputs": [],
   "source": []
  },
  {
   "cell_type": "code",
   "execution_count": 30,
   "id": "eaeea220",
   "metadata": {},
   "outputs": [
    {
     "name": "stdout",
     "output_type": "stream",
     "text": [
      "[{}]\n"
     ]
    }
   ],
   "source": [
    "# For a more structured and useful output, use this\n",
    "extract_relations = util.extract_relations(output)\n",
    "print(extract_relations)\n",
    "\n",
    "# This method takes in the output from prediction of pretrained model and uses this linearized relation strings output to\n",
    "# extract the relations or extract entities"
   ]
  },
  {
   "cell_type": "code",
   "execution_count": 31,
   "id": "86bb4698",
   "metadata": {},
   "outputs": [
    {
     "data": {
      "text/plain": [
       "((('@ @ unknown @ @ - glucuronic acid',), 'CHEMICAL'),\n",
       " (('@ @ unknown @ @ - glucuronic acid',), 'CHEMICAL'),\n",
       " (('@ @ unknown @ @ - glucuronic acid',), 'CHEMICAL'),\n",
       " (('@ @ unknown @ @ - glucuronic acid',), 'CHEMICAL'),\n",
       " (('@ @ unknown @ @ - glucuronic acid',), 'CHEMICAL'),\n",
       " (('@ @ unknown @ @ - glucuronic acid',), 'CHEMICAL'),\n",
       " (('@ @ unknown @ @ - glucuronic acid',), 'CHEMICAL'),\n",
       " (('@ @ unknown @ @ - glucuronic acid',), 'CHEMICAL'),\n",
       " (('@ @ unknown @ @ - glucuronic acid',), 'CHEMICAL'),\n",
       " (('@ @ unknown @ @ - glucuronic acid',), 'CHEMICAL'),\n",
       " (('@ @ unknown @ @ - glucuronic acid',), 'CHEMICAL'),\n",
       " (('@ @ unknown @ @ - glucuronic acid',), 'CHEMICAL'),\n",
       " (('@ @ unknown @ @ - glucuronic acid',), 'CHEMICAL'),\n",
       " (('@ @ unknown @ @ - glucuronic acid',), 'CHEMICAL'),\n",
       " (('@ @ unknown @ @ - glucuronic acid',), 'CHEMICAL'),\n",
       " (('@ @ unknown @ @ - glucuronic acid',), 'CHEMICAL'),\n",
       " (('@ @ unknown @ @ - glucuronic acid',), 'CHEMICAL'),\n",
       " (('@ @ unknown @ @ - glucuronic acid',), 'CHEMICAL'),\n",
       " (('@ @ unknown @ @ - glucuronic acid',), 'CHEMICAL'),\n",
       " (('@ @ unknown @ @ - glucuronic acid',), 'CHEMICAL'),\n",
       " (('udp - glucuronic acid',), 'CHEMICAL'))"
      ]
     },
     "execution_count": 31,
     "metadata": {},
     "output_type": "execute_result"
    }
   ],
   "source": [
    "util.extract_entities(output[0])"
   ]
  },
  {
   "cell_type": "code",
   "execution_count": null,
   "id": "c0fbbe59",
   "metadata": {},
   "outputs": [],
   "source": []
  },
  {
   "cell_type": "code",
   "execution_count": null,
   "id": "4234c863",
   "metadata": {},
   "outputs": [],
   "source": []
  },
  {
   "cell_type": "code",
   "execution_count": null,
   "id": "cae8909a",
   "metadata": {},
   "outputs": [],
   "source": []
  },
  {
   "cell_type": "code",
   "execution_count": null,
   "id": "f1819b44",
   "metadata": {},
   "outputs": [],
   "source": []
  },
  {
   "cell_type": "code",
   "execution_count": null,
   "id": "393da51e",
   "metadata": {},
   "outputs": [],
   "source": []
  },
  {
   "cell_type": "code",
   "execution_count": null,
   "id": "8b26b9c5",
   "metadata": {},
   "outputs": [],
   "source": []
  },
  {
   "cell_type": "code",
   "execution_count": null,
   "id": "1a4f4d9b",
   "metadata": {},
   "outputs": [],
   "source": []
  },
  {
   "cell_type": "code",
   "execution_count": null,
   "id": "e0358bbd",
   "metadata": {},
   "outputs": [],
   "source": []
  },
  {
   "cell_type": "code",
   "execution_count": null,
   "id": "86d5a120",
   "metadata": {},
   "outputs": [],
   "source": []
  },
  {
   "cell_type": "code",
   "execution_count": null,
   "id": "7f02956a",
   "metadata": {},
   "outputs": [],
   "source": []
  },
  {
   "cell_type": "code",
   "execution_count": null,
   "id": "432f515f",
   "metadata": {},
   "outputs": [],
   "source": []
  },
  {
   "cell_type": "code",
   "execution_count": null,
   "id": "8d8b3846",
   "metadata": {},
   "outputs": [],
   "source": []
  },
  {
   "cell_type": "code",
   "execution_count": null,
   "id": "e41c375f",
   "metadata": {},
   "outputs": [],
   "source": []
  },
  {
   "cell_type": "code",
   "execution_count": null,
   "id": "1bcf8a95",
   "metadata": {},
   "outputs": [],
   "source": []
  },
  {
   "cell_type": "code",
   "execution_count": null,
   "id": "a9c4396d",
   "metadata": {},
   "outputs": [],
   "source": []
  },
  {
   "cell_type": "code",
   "execution_count": null,
   "id": "f3878cb0",
   "metadata": {},
   "outputs": [],
   "source": []
  }
 ],
 "metadata": {
  "kernelspec": {
   "display_name": "raPython",
   "language": "python",
   "name": "rapython"
  },
  "language_info": {
   "codemirror_mode": {
    "name": "ipython",
    "version": 3
   },
   "file_extension": ".py",
   "mimetype": "text/x-python",
   "name": "python",
   "nbconvert_exporter": "python",
   "pygments_lexer": "ipython3",
   "version": "3.9.8"
  }
 },
 "nbformat": 4,
 "nbformat_minor": 5
}
