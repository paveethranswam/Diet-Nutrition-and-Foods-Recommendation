{
 "cells": [
  {
   "cell_type": "code",
   "execution_count": 3,
   "id": "b2d2f5cd",
   "metadata": {},
   "outputs": [],
   "source": [
    "import pandas as pd\n",
    "import numpy as np\n",
    "import matplotlib.pyplot as plt\n",
    "import re\n"
   ]
  },
  {
   "cell_type": "code",
   "execution_count": 2,
   "id": "2bde82b1",
   "metadata": {},
   "outputs": [
    {
     "data": {
      "text/html": [
       "<div>\n",
       "<style scoped>\n",
       "    .dataframe tbody tr th:only-of-type {\n",
       "        vertical-align: middle;\n",
       "    }\n",
       "\n",
       "    .dataframe tbody tr th {\n",
       "        vertical-align: top;\n",
       "    }\n",
       "\n",
       "    .dataframe thead th {\n",
       "        text-align: right;\n",
       "    }\n",
       "</style>\n",
       "<table border=\"1\" class=\"dataframe\">\n",
       "  <thead>\n",
       "    <tr style=\"text-align: right;\">\n",
       "      <th></th>\n",
       "      <th>keyword</th>\n",
       "      <th>abstract</th>\n",
       "    </tr>\n",
       "  </thead>\n",
       "  <tbody>\n",
       "    <tr>\n",
       "      <th>0</th>\n",
       "      <td>Acetoin</td>\n",
       "      <td>Serratia marcescens is reported to possess the...</td>\n",
       "    </tr>\n",
       "    <tr>\n",
       "      <th>1</th>\n",
       "      <td>Acetoin</td>\n",
       "      <td>Acetoin (3-hydroxy-2-butanone) is an important...</td>\n",
       "    </tr>\n",
       "    <tr>\n",
       "      <th>2</th>\n",
       "      <td>Acetoin</td>\n",
       "      <td>A set of 917 wines of Czech origin were analys...</td>\n",
       "    </tr>\n",
       "    <tr>\n",
       "      <th>3</th>\n",
       "      <td>Acetoin</td>\n",
       "      <td>Microbial production of acetoin is eco-friendl...</td>\n",
       "    </tr>\n",
       "    <tr>\n",
       "      <th>4</th>\n",
       "      <td>Acetoin</td>\n",
       "      <td>In this study, physicochemical composition, ni...</td>\n",
       "    </tr>\n",
       "  </tbody>\n",
       "</table>\n",
       "</div>"
      ],
      "text/plain": [
       "   keyword                                           abstract\n",
       "0  Acetoin  Serratia marcescens is reported to possess the...\n",
       "1  Acetoin  Acetoin (3-hydroxy-2-butanone) is an important...\n",
       "2  Acetoin  A set of 917 wines of Czech origin were analys...\n",
       "3  Acetoin  Microbial production of acetoin is eco-friendl...\n",
       "4  Acetoin  In this study, physicochemical composition, ni..."
      ]
     },
     "execution_count": 2,
     "metadata": {},
     "output_type": "execute_result"
    }
   ],
   "source": [
    "all_abstracts = pd.read_csv('abstract_writer_31_01.csv')\n",
    "all_abstracts.head()"
   ]
  },
  {
   "cell_type": "code",
   "execution_count": 12,
   "id": "fab57878",
   "metadata": {},
   "outputs": [
    {
     "name": "stdout",
     "output_type": "stream",
     "text": [
      "1413 ['Acute lymphoblastic leukemia ALL precursor B lymphoblastic leukemia', 'Acute lymphoblastic leukemia ALL precursor T lymphoblastic leukemia', 'Acute myeloid leukemia AML', 'Chronic myeloid leukemia CML', 'Chronic lymphocytic leukemia CLL']\n"
     ]
    }
   ],
   "source": [
    "with open('disease', encoding=\"utf8\") as f:\n",
    "    contents = f.readlines()\n",
    "\n",
    "contents[1].split('ENTRY')\n",
    "\n",
    "disease_list = []\n",
    "for i in range(1, len(contents)):\n",
    "    if(contents[i][:4] == 'NAME'):\n",
    "        first_prep = re.sub(r'[^a-zA-Z0-9]', ' ', contents[i].split('NAME')[-1].split(', including')[0].strip())\n",
    "        first_prep = first_prep.split(' ')\n",
    "        first_prep = [x for x in first_prep if x != '']\n",
    "        second_prep = ' '.join(first_prep)\n",
    "        disease_list.append(second_prep)\n",
    "        \n",
    "print(len(disease_list), disease_list[:5])"
   ]
  },
  {
   "cell_type": "code",
   "execution_count": 15,
   "id": "8d049456",
   "metadata": {},
   "outputs": [
    {
     "name": "stdout",
     "output_type": "stream",
     "text": [
      "At  0  Found len 0\n",
      "At  10000  Found len 255\n",
      "At  20000  Found len 523\n",
      "At  30000  Found len 790\n",
      "At  40000  Found len 1069\n",
      "At  50000  Found len 1374\n",
      "At  60000  Found len 1635\n",
      "At  70000  Found len 1845\n",
      "At  80000  Found len 2142\n",
      "At  90000  Found len 2451\n"
     ]
    }
   ],
   "source": [
    "# Filter this data by keeping only those abstracts with any disease keyword in them\n",
    "filter_index = [] # Will contain abstract index of interest\n",
    "for i in range(len(all_abstracts)):\n",
    "    current_abst = all_abstracts.iloc[i]['abstract']\n",
    "    for disease in disease_list:\n",
    "        if(disease in str(current_abst)):\n",
    "            filter_index.append(i)\n",
    "    if(i%10000 == 0):\n",
    "        print('At ', i , ' Found len', len(filter_index))\n",
    "            # print('Index ', i , 'Found word ', disease)\n",
    "    "
   ]
  },
  {
   "cell_type": "code",
   "execution_count": 25,
   "id": "35bbb6be",
   "metadata": {},
   "outputs": [
    {
     "name": "stdout",
     "output_type": "stream",
     "text": [
      "       keyword                                           abstract\n",
      "0     Baclofen  Cerebral palsy (CP) is a chronic congenital di...\n",
      "1  Pramipexole  Tourette syndrome (TS) is a neurodevelopmental...\n",
      "2  Repaglinide  Objectives:\\n        \\n      \\n      To assess...\n",
      "3  Repaglinide  Objectives:\\n        \\n      \\n      To assess...\n",
      "4   Tymazoline  Objectives:\\n        \\n      \\n      To assess...\n"
     ]
    }
   ],
   "source": [
    "abstract_oint = all_abstracts.iloc[filter_index]\n",
    "abstract_oint = abstract_oint.reset_index().drop('index', axis=1)\n",
    "print(abstract_oint.head())\n"
   ]
  },
  {
   "cell_type": "code",
   "execution_count": 26,
   "id": "177a3693",
   "metadata": {},
   "outputs": [],
   "source": [
    "abstract_oint.to_csv('abstract_oi.csv', index=False)\n",
    "\n"
   ]
  },
  {
   "cell_type": "code",
   "execution_count": null,
   "id": "1d8b9c3c",
   "metadata": {},
   "outputs": [],
   "source": []
  },
  {
   "cell_type": "code",
   "execution_count": null,
   "id": "7e65426c",
   "metadata": {},
   "outputs": [],
   "source": []
  },
  {
   "cell_type": "code",
   "execution_count": null,
   "id": "630ccf6c",
   "metadata": {},
   "outputs": [],
   "source": []
  },
  {
   "cell_type": "code",
   "execution_count": null,
   "id": "b4242762",
   "metadata": {},
   "outputs": [],
   "source": []
  },
  {
   "cell_type": "code",
   "execution_count": null,
   "id": "91ecb2d8",
   "metadata": {},
   "outputs": [],
   "source": []
  },
  {
   "cell_type": "code",
   "execution_count": null,
   "id": "dbc88c14",
   "metadata": {},
   "outputs": [],
   "source": []
  }
 ],
 "metadata": {
  "kernelspec": {
   "display_name": "Python 3",
   "language": "python",
   "name": "python3"
  },
  "language_info": {
   "codemirror_mode": {
    "name": "ipython",
    "version": 3
   },
   "file_extension": ".py",
   "mimetype": "text/x-python",
   "name": "python",
   "nbconvert_exporter": "python",
   "pygments_lexer": "ipython3",
   "version": "3.9.8"
  }
 },
 "nbformat": 4,
 "nbformat_minor": 5
}
